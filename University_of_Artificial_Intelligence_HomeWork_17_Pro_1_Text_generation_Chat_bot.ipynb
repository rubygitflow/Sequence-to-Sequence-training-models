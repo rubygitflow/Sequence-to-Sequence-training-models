{
  "nbformat": 4,
  "nbformat_minor": 0,
  "metadata": {
    "colab": {
      "name": "University of Artificial Intelligence. HomeWork 17.Pro.1. Text generation. Chat-bot",
      "provenance": [],
      "collapsed_sections": [
        "1g-tBeFP38Rp",
        "Zfhu067toXGQ"
      ],
      "machine_shape": "hm",
      "include_colab_link": true
    },
    "kernelspec": {
      "name": "python3",
      "display_name": "Python 3"
    },
    "accelerator": "GPU"
  },
  "cells": [
    {
      "cell_type": "markdown",
      "metadata": {
        "id": "view-in-github",
        "colab_type": "text"
      },
      "source": [
        "<a href=\"https://colab.research.google.com/github/rubygitflow/Sequence-to-Sequence-training-models/blob/master/University_of_Artificial_Intelligence_HomeWork_17_Pro_1_Text_generation_Chat_bot.ipynb\" target=\"_parent\"><img src=\"https://colab.research.google.com/assets/colab-badge.svg\" alt=\"Open In Colab\"/></a>"
      ]
    },
    {
      "cell_type": "markdown",
      "metadata": {
        "id": "m-mydfzpnu6M",
        "colab_type": "text"
      },
      "source": [
        "# Lesson 17.Text generation"
      ]
    },
    {
      "cell_type": "markdown",
      "metadata": {
        "id": "1g-tBeFP38Rp",
        "colab_type": "text"
      },
      "source": [
        "# **Import библиотек**"
      ]
    },
    {
      "cell_type": "code",
      "metadata": {
        "id": "3j1Wpkvc3Q2s",
        "colab_type": "code",
        "colab": {}
      },
      "source": [
        "from google.colab import files # модуль для загрузки файлов в colab\n",
        "import numpy as np #библиотека для работы с массивами данных\n",
        "\n",
        "from tensorflow.keras.models import Model, load_model # из кераса подгружаем абстрактный класс базовой модели, метод загрузки предобученной модели\n",
        "from tensorflow.keras.layers import Dense, Embedding, LSTM, Input # из кераса загружаем необходимые слои для нейросети\n",
        "from tensorflow.keras.optimizers import RMSprop, Adadelta # из кераса загружаем выбранный оптимизатор\n",
        "from tensorflow.keras.preprocessing.sequence import pad_sequences # загружаем метод ограничения последовательности заданной длиной\n",
        "from tensorflow.keras.preprocessing.text import Tokenizer # загружаем токенизатор кераса для обработки текста\n",
        "from tensorflow.keras import utils # загружаем утилиты кераса для one hot кодировки\n",
        "from tensorflow.keras.utils import plot_model # удобный график для визуализации архитектуры модели\n",
        "\n",
        "import yaml # импортируем модуль для удобной работы с файлами"
      ],
      "execution_count": null,
      "outputs": []
    },
    {
      "cell_type": "code",
      "metadata": {
        "id": "200dSPOYZE7N",
        "colab_type": "code",
        "colab": {}
      },
      "source": [
        "from google.colab import drive\n",
        "drive.mount('/content/drive')"
      ],
      "execution_count": null,
      "outputs": []
    },
    {
      "cell_type": "markdown",
      "metadata": {
        "id": "Wxdi0Fqeg1LH",
        "colab_type": "text"
      },
      "source": [
        "# **Парсинг данных**"
      ]
    },
    {
      "cell_type": "code",
      "metadata": {
        "id": "tEA8TR_oerov",
        "colab_type": "code",
        "colab": {
          "base_uri": "https://localhost:8080/",
          "height": 54
        },
        "outputId": "46076537-085d-44d4-a573-338ffbf3c44d"
      },
      "source": [
        "######################\n",
        "# Открываем файл с диалогами\n",
        "######################\n",
        "corpus = open('/content/drive/My Drive/Базы/Диалоги(рассказы).yml', 'r') # открываем файл с диалогами в режиме чтения\n",
        "document = yaml.safe_load(corpus) # загружаем файл *глоссарий\n",
        "conversations = document['разговоры'] # загружаем диалоги из файла и заносим в conversations \n",
        "print('Количество пар вопрос-ответ : {}'.format(len(conversations)))\n",
        "print('Пример диалога : {}'.format(conversations[200]))"
      ],
      "execution_count": null,
      "outputs": [
        {
          "output_type": "stream",
          "text": [
            "Количество пар вопрос-ответ : 11905\n",
            "Пример диалога : ['Около сотни...', 'Точнее!']\n"
          ],
          "name": "stdout"
        }
      ]
    },
    {
      "cell_type": "markdown",
      "metadata": {
        "id": "OoQKgJwLe-w_",
        "colab_type": "text"
      },
      "source": [
        "**2) Учёт в тексте знаков препинания**"
      ]
    },
    {
      "cell_type": "code",
      "metadata": {
        "id": "srWGYI66e7kf",
        "colab_type": "code",
        "colab": {}
      },
      "source": [
        "def insert_space(text, index):\n",
        "  return text[:index] + ' ' + text[index:]\n",
        "\n",
        "######################\n",
        "# Парсим текстовую строку - выделяем пункутуацию, \n",
        "# сохраняем написание сокращений и действительных чисел\n",
        "######################\n",
        "def parsPunctuation(text):\n",
        "  # преобразование списочного типа данных\n",
        "  if type(text) == str:        # то передаём переменную  как есть\n",
        "    out_text = text            \n",
        "  elif type(text) == list:     # то преобразуем тип данных перед передачей переменной\n",
        "    out_text = ''\n",
        "    for elem in text: \n",
        "      out_text += ' ' + elem \n",
        "  else:                        # иначе обнуляем переменную\n",
        "    print('Early stop')\n",
        "    return \"\"\n",
        "\n",
        "  # выделение знаков препинания\n",
        "  out_text = out_text.replace('.-', '. -')\n",
        "\n",
        "  # обработка графематики \"точек\"\n",
        "  len_text = len(out_text)\n",
        "  if out_text.find('.') > -1:\n",
        "    text_dot = out_text\n",
        "    for j in reversed(range(len_text)):\n",
        "      if out_text[j]=='.':\n",
        "        # игнорируем инициалы и сокращения\n",
        "        if not ( (j > 2 and  out_text[j-2]=='.') or \\\n",
        "                (j < (len_text - 2) and out_text[j+2]=='.') or \\\n",
        "                (j > 2 and  out_text[j-2]==' ') or \\\n",
        "                (j > 2 and  out_text[j-3]==' ') ):\n",
        "          text_dot = insert_space(text_dot, j)\n",
        "  else:\n",
        "    text_dot = out_text\n",
        "\n",
        "  len_text = len(text_dot)\n",
        "          \n",
        "  # обработка графематики \"запятых\"\n",
        "  if text_dot.find(',') > -1:\n",
        "    text_comma = text_dot\n",
        "    for j in reversed(range(len_text)):\n",
        "      if text_dot[j]==',':\n",
        "        if not (j < (len_text - 1) and text_dot[j+1].isdigit()): # число через запятую\n",
        "          if j < (len_text - 1) and not text_dot[j+1] in [\" \", \"\\t\"]:\n",
        "            text_comma = insert_space(text_comma, j+1)\n",
        "          text_comma = insert_space(text_comma, j)\n",
        "  else:\n",
        "    text_comma = text_dot\n",
        "\n",
        "  # обработка графематики остальных знаков препинания\n",
        "  text_comma = text_comma.replace('!', ' !')\n",
        "  text_comma = text_comma.replace('?', ' ?')\n",
        "  text_comma = text_comma.replace(':', ' :')\n",
        "\n",
        "  text_comma = text_comma.replace('=', ' = ')\n",
        "  text_comma = text_comma.replace('/', ' / ')\n",
        "  text_comma = text_comma.replace('(', ' ( ')\n",
        "  text_comma = text_comma.replace(')', ' ) ')\n",
        "  text_comma = text_comma.replace('[', ' [ ')\n",
        "  text_comma = text_comma.replace(']', ' ] ')\n",
        "  text_comma = text_comma.replace('{', ' { ')\n",
        "  text_comma = text_comma.replace('}', ' } ')\n",
        "  text_comma = text_comma.replace('<', ' < ')\n",
        "  text_comma = text_comma.replace('>', ' > ')\n",
        "  text_comma = text_comma.replace('\"', ' \" ')\n",
        "  text_comma = text_comma.replace('„', ' „ ')\n",
        "  text_comma = text_comma.replace('“', ' “ ')\n",
        "  text_comma = text_comma.replace('«', ' « ')\n",
        "  text_comma = text_comma.replace('»', ' » ')\n",
        "  text_comma = text_comma.replace(';', ' ; ')\n",
        "  text_comma = text_comma.replace('\\xa0', '')\n",
        "  text_comma = text_comma.replace('\\x301', '')\n",
        "  text_comma = text_comma.replace('\\u0301', '')\n",
        "  text_comma = text_comma.replace('\\ufeff', '')\n",
        "            \n",
        "  text_comma = text_comma.replace('  ', ' ')\n",
        "  text_comma = text_comma.replace('  ', ' ')\n",
        "\n",
        "  text_comma = text_comma.strip()      \n",
        "\n",
        "  return text_comma"
      ],
      "execution_count": null,
      "outputs": []
    },
    {
      "cell_type": "code",
      "metadata": {
        "id": "EYg8z8Vj76bu",
        "colab_type": "code",
        "colab": {
          "base_uri": "https://localhost:8080/",
          "height": 54
        },
        "outputId": "95d47f4c-0553-4bcf-f806-438a3597d458"
      },
      "source": [
        "######################\n",
        "# Разбираем вопросы-ответы с проставлением тегов ответам\n",
        "######################\n",
        "# Собираем вопросы и ответы в списки\n",
        "questions = list() # здесь будет список вопросов\n",
        "answers = list() # здесь будет список ответов\n",
        "\n",
        "# В каждом диалоге берем фразу и добавляем в лист\n",
        "# Если в ответе не одна фраза - то сцепляем сколько есть\n",
        "for i, con in enumerate(conversations): # для каждой пары вопрос-ответ\n",
        "  if i > 7000: # РЕШАЕМ ПРОБЛЕМУ НЕХВАТКИ ПАМЯТИ НА КОЛЛАБЕ\n",
        "    break\n",
        "  if len(con) > 2 : # если ответ содержит более двух предложений (кол-во реплик, кол-во вариантов ответа)\n",
        "    questions.append(parsPunctuation(con[0])) # то вопросительную реплику отправляем в список вопросов\n",
        "    replies = con[1:] # а ответную составляем из последующих строк\n",
        "    ans = '' # здесь соберем ответ\n",
        "    for rep in replies: # каждую реплику в ответной реплике\n",
        "      ans += ' ' + rep \n",
        "    answers.append(ans) #добавим в список ответов\n",
        "  elif len(con)> 1: # если на 1 вопрос приходится 1 ответ\n",
        "    questions.append(parsPunctuation(con[0])) # то вопросительную реплику отправляем в список вопросов\n",
        "    answers.append(con[1]) # а ответную в список ответов\n",
        "\n",
        "# Очищаем строки с неопределенным типов ответов\n",
        "answersCleaned = list()\n",
        "for i in range(len(answers)):\n",
        "  if type(answers[i]) == str:\n",
        "    answersCleaned.append(parsPunctuation(answers[i])) #если тип - строка, то добавляем в ответы\n",
        "  else:\n",
        "    questions.pop(i) # если не строка, то ответ не добавился, и плюс убираем соответствующий вопрос\n",
        "\n",
        "# Сделаем теги-метки для начала и конца ответов\n",
        "answers = list()\n",
        "for i in range(len(answersCleaned)):\n",
        "  answers.append( '<START> ' + answersCleaned[i] + ' <END>' )\n",
        "\n",
        "# Выведем обновленные данные на экран\n",
        "print('Вопрос : {}'.format(questions[200]))\n",
        "print('Ответ : {}'.format(answers[200]))"
      ],
      "execution_count": null,
      "outputs": [
        {
          "output_type": "stream",
          "text": [
            "Вопрос : Около сотни. ..\n",
            "Ответ : <START> Точнее ! <END>\n"
          ],
          "name": "stdout"
        }
      ]
    },
    {
      "cell_type": "markdown",
      "metadata": {
        "id": "Q5viaf_Yf487",
        "colab_type": "text"
      },
      "source": [
        "**1.1) Разрешить обработку unknown слов**"
      ]
    },
    {
      "cell_type": "code",
      "metadata": {
        "id": "mvn1jvRd9tep",
        "colab_type": "code",
        "colab": {
          "base_uri": "https://localhost:8080/",
          "height": 74
        },
        "outputId": "6db826d2-9116-4fd6-c68f-14444a1eb6a9"
      },
      "source": [
        "######################\n",
        "# Подключаем токенизатор от keras и собираем словарь индексов\n",
        "######################\n",
        "tokenizer = Tokenizer(filters='<>', oov_token='unknown')\n",
        "tokenizer.fit_on_texts(questions + answers) # загружаем в токенизатор список вопросов-ответов для сборки словаря частотности\n",
        "vocabularyItems = list(tokenizer.word_index.items()) # список с cодержимым словаря\n",
        "vocabularySize = len(vocabularyItems)+1 # размер словаря\n",
        "print( 'Фрагмент словаря : {}'.format(vocabularyItems[:50]))\n",
        "print( 'Размер словаря : {}'.format(vocabularySize))"
      ],
      "execution_count": null,
      "outputs": [
        {
          "output_type": "stream",
          "text": [
            "Фрагмент словаря : [('unknown', 1), ('start', 2), ('end', 3), ('.', 4), ('?', 5), (',', 6), ('!', 7), ('не', 8), ('что', 9), ('а', 10), ('ты', 11), ('я', 12), ('..', 13), ('это', 14), ('в', 15), ('как', 16), ('да', 17), ('и', 18), ('нет', 19), ('вы', 20), ('ну', 21), ('на', 22), ('с', 23), ('же', 24), ('так', 25), ('у', 26), ('где', 27), ('кто', 28), ('он', 29), ('-', 30), ('все', 31), ('тебя', 32), ('мне', 33), ('мы', 34), ('\"', 35), ('меня', 36), ('почему', 37), ('куда', 38), ('есть', 39), ('там', 40), ('вот', 41), ('тебе', 42), ('за', 43), ('еще', 44), ('ничего', 45), ('здесь', 46), ('знаю', 47), ('его', 48), ('вас', 49), ('ли', 50)]\n",
            "Размер словаря : 11012\n"
          ],
          "name": "stdout"
        }
      ]
    },
    {
      "cell_type": "markdown",
      "metadata": {
        "id": "fsUqzEBXg9Mu",
        "colab_type": "text"
      },
      "source": [
        "# **Подготовка выборки**"
      ]
    },
    {
      "cell_type": "code",
      "metadata": {
        "id": "p4nNBJUQgebF",
        "colab_type": "code",
        "colab": {
          "base_uri": "https://localhost:8080/",
          "height": 108
        },
        "outputId": "4063decd-a1ed-44c8-87e0-ee3eaa4be3ec"
      },
      "source": [
        "######################\n",
        "# Устанавливаем закодированные входные данные(вопросы)\n",
        "######################\n",
        "tokenizedQuestions = tokenizer.texts_to_sequences(questions) # разбиваем текст вопросов на последовательности индексов\n",
        "maxLenQuestions = max([ len(x) for x in tokenizedQuestions]) # уточняем длину самого большого вопроса\n",
        "# Делаем последовательности одной длины, заполняя нулями более короткие вопросы\n",
        "paddedQuestions = pad_sequences(tokenizedQuestions, maxlen=maxLenQuestions, padding='post')\n",
        "\n",
        "# Предподготавливаем данные для входа в сеть\n",
        "encoderForInput = np.array(paddedQuestions) # переводим в numpy массив\n",
        "print('Пример оригинального вопроса на вход : {}'.format(questions[100])) \n",
        "print('Пример кодированного вопроса на вход : {}'.format(encoderForInput[100])) \n",
        "print('Размеры закодированного массива вопросов на вход : {}'.format(encoderForInput.shape)) \n",
        "print('Установленная длина вопросов на вход : {}'.format(maxLenQuestions)) \n"
      ],
      "execution_count": null,
      "outputs": [
        {
          "output_type": "stream",
          "text": [
            "Пример оригинального вопроса на вход : Какая же мораль ?\n",
            "Пример кодированного вопроса на вход : [ 179   24 3895    5    0    0    0    0    0    0    0    0    0    0\n",
            "    0]\n",
            "Размеры закодированного массива вопросов на вход : (6998, 15)\n",
            "Установленная длина вопросов на вход : 15\n"
          ],
          "name": "stdout"
        }
      ]
    },
    {
      "cell_type": "code",
      "metadata": {
        "id": "-tjvhMuzqFJD",
        "colab_type": "code",
        "colab": {
          "base_uri": "https://localhost:8080/",
          "height": 108
        },
        "outputId": "f4e65a32-e6ae-4cbc-f5ed-f920047820a5"
      },
      "source": [
        "######################\n",
        "# Устанавливаем раскодированные входные данные(ответы)\n",
        "######################\n",
        "tokenizedAnswers = tokenizer.texts_to_sequences(answers) # разбиваем текст ответов на последовательности индексов\n",
        "maxLenAnswers = max([len(x) for x in tokenizedAnswers]) # уточняем длину самого большого ответа\n",
        "# Делаем последовательности одной длины, заполняя нулями более короткие ответы\n",
        "paddedAnswers = pad_sequences(tokenizedAnswers, maxlen=maxLenAnswers, padding='post')\n",
        "\n",
        "# Предподготавливаем данные для входа в сеть\n",
        "decoderForInput = np.array(paddedAnswers) # переводим в numpy массив\n",
        "print('Пример оригинального ответа на вход: {}'.format(answers[100])) \n",
        "print('Пример раскодированного ответа на вход : {}'.format(decoderForInput[100][:30])) \n",
        "print('Размеры раскодированного массива ответов на вход : {}'.format(decoderForInput.shape)) \n",
        "print('Установленная длина ответов на вход : {}'.format(maxLenAnswers)) "
      ],
      "execution_count": null,
      "outputs": [
        {
          "output_type": "stream",
          "text": [
            "Пример оригинального ответа на вход: <START> Никакой . Так просто вспомнилось . <END>\n",
            "Пример раскодированного ответа на вход : [   2  707    4   25  107 7521    4    3    0    0    0    0    0    0\n",
            "    0    0    0]\n",
            "Размеры раскодированного массива ответов на вход : (6998, 17)\n",
            "Установленная длина ответов на вход : 17\n"
          ],
          "name": "stdout"
        }
      ]
    },
    {
      "cell_type": "code",
      "metadata": {
        "id": "MwsKk9dzNeqI",
        "colab_type": "code",
        "colab": {}
      },
      "source": [
        "######################\n",
        "# Раскодированные выходные данные(ответы)\n",
        "######################\n",
        "tokenizedAnswers = tokenizer.texts_to_sequences(answers) # разбиваем текст ответов на последовательности индексов\n",
        "for i in range(len(tokenizedAnswers)) : # для разбитых на последовательности ответов\n",
        "  tokenizedAnswers[i] = tokenizedAnswers[i][1:] # избавляемся от тега <START>\n",
        "# Делаем последовательности одной длины, заполняя нулями более короткие ответы\n",
        "paddedAnswers = pad_sequences(tokenizedAnswers, maxlen=maxLenAnswers , padding='post')\n",
        "\n",
        "oneHotAnswers = utils.to_categorical(paddedAnswers, vocabularySize) # переводим в one hot vector\n",
        "decoderForOutput = np.array(oneHotAnswers) # и сохраняем в виде массива numpy"
      ],
      "execution_count": null,
      "outputs": []
    },
    {
      "cell_type": "code",
      "metadata": {
        "id": "fRl1k7SVaA6w",
        "colab_type": "code",
        "colab": {
          "base_uri": "https://localhost:8080/",
          "height": 108
        },
        "outputId": "33e324e7-2a19-455a-f6b2-5864adef49c7"
      },
      "source": [
        "print('Пример раскодированного ответа на вход : {}'.format(decoderForInput[100][:21]))  \n",
        "print('Пример раскодированного ответа на выход : {}'.format(decoderForOutput[100][1][:21])) \n",
        "print('Размеры раскодированного массива ответов на выход : {}'.format(decoderForOutput.shape))\n",
        "print('Установленная длина вопросов на выход : {}'.format(maxLenAnswers)) "
      ],
      "execution_count": null,
      "outputs": [
        {
          "output_type": "stream",
          "text": [
            "Пример раскодированного ответа на вход : [   2  707    4   25  107 7521    4    3    0    0    0    0    0    0\n",
            "    0    0    0]\n",
            "Пример раскодированного ответа на выход : [0. 0. 0. 0. 1. 0. 0. 0. 0. 0. 0. 0. 0. 0. 0. 0. 0. 0. 0. 0. 0.]\n",
            "Размеры раскодированного массива ответов на выход : (6998, 17, 11012)\n",
            "Установленная длина вопросов на выход : 17\n"
          ],
          "name": "stdout"
        }
      ]
    },
    {
      "cell_type": "markdown",
      "metadata": {
        "id": "r0KR6Mh_hp1f",
        "colab_type": "text"
      },
      "source": [
        "# **Параметры нейросети и модель обучения**"
      ]
    },
    {
      "cell_type": "code",
      "metadata": {
        "id": "1rRKDr4rhXcZ",
        "colab_type": "code",
        "colab": {}
      },
      "source": [
        "######################\n",
        "# Первый входной слой, кодер, выходной слой\n",
        "######################\n",
        "encoderInputs = Input(shape=(None , )) # размеры на входе сетки (здесь будет encoderForInput)\n",
        "# Эти данные проходят через слой Embedding (длина словаря, размерность) \n",
        "encoderEmbedding = Embedding(vocabularySize, 200 , mask_zero=True) (encoderInputs)\n",
        "# Затем выход с Embedding пойдёт в LSTM слой, на выходе у которого будет два вектора состояния - state_h , state_c\n",
        "# Вектора состояния - state_h , state_c зададутся в LSTM слое декодера в блоке ниже\n",
        "encoderOutputs, state_h , state_c = LSTM(200, return_state=True)(encoderEmbedding)\n",
        "encoderStates = [state_h, state_c]"
      ],
      "execution_count": null,
      "outputs": []
    },
    {
      "cell_type": "code",
      "metadata": {
        "id": "K_yv8Y6QWX2D",
        "colab_type": "code",
        "colab": {}
      },
      "source": [
        "######################\n",
        "# Второй входной слой, декодер, выходной слой\n",
        "######################\n",
        "decoderInputs = Input(shape=(None, )) # размеры на входе сетки (здесь будет decoderForInput)\n",
        "# Эти данные проходят через слой Embedding (длина словаря, размерность) \n",
        "# mask_zero=True - игнорировать нулевые padding при передаче в LSTM. Предотвратит вывод ответа типа: \"У меня все хорошо PAD PAD PAD PAD PAD PAD..\"\n",
        "decoderEmbedding = Embedding(vocabularySize, 200, mask_zero=True) (decoderInputs) \n",
        "# Затем выход с Embedding пойдёт в LSTM слой, которому передаются вектора состояния - state_h , state_c\n",
        "decoderLSTM = LSTM(200, return_state=True, return_sequences=True)\n",
        "decoderOutputs , _ , _ = decoderLSTM (decoderEmbedding, initial_state=encoderStates)\n",
        "# И от LSTM'а сигнал decoderOutputs пропускаем через полносвязный слой с софтмаксом на выходе\n",
        "decoderDense = Dense(vocabularySize, activation='softmax') \n",
        "output = decoderDense (decoderOutputs)"
      ],
      "execution_count": null,
      "outputs": []
    },
    {
      "cell_type": "code",
      "metadata": {
        "id": "KYnTen_UWc5F",
        "colab_type": "code",
        "colab": {
          "base_uri": "https://localhost:8080/",
          "height": 921
        },
        "outputId": "05f073e0-cbea-45e5-9ea6-ed4fa683ea21"
      },
      "source": [
        "######################\n",
        "# Собираем тренировочную модель нейросети\n",
        "######################\n",
        "model = Model([encoderInputs, decoderInputs], output)\n",
        "model.compile(optimizer=RMSprop(), loss='categorical_crossentropy')\n",
        "\n",
        "print(model.summary()) # выведем на экран информацию о построенной модели нейросети\n",
        "plot_model(model, to_file='model.png') # и построим график для визуализации слоев и связей между ними"
      ],
      "execution_count": null,
      "outputs": [
        {
          "output_type": "stream",
          "text": [
            "Model: \"model_9\"\n",
            "__________________________________________________________________________________________________\n",
            "Layer (type)                    Output Shape         Param #     Connected to                     \n",
            "==================================================================================================\n",
            "input_11 (InputLayer)           [(None, None)]       0                                            \n",
            "__________________________________________________________________________________________________\n",
            "input_12 (InputLayer)           [(None, None)]       0                                            \n",
            "__________________________________________________________________________________________________\n",
            "embedding_2 (Embedding)         (None, None, 200)    2202400     input_11[0][0]                   \n",
            "__________________________________________________________________________________________________\n",
            "embedding_3 (Embedding)         (None, None, 200)    2202400     input_12[0][0]                   \n",
            "__________________________________________________________________________________________________\n",
            "lstm_2 (LSTM)                   [(None, 200), (None, 320800      embedding_2[0][0]                \n",
            "__________________________________________________________________________________________________\n",
            "lstm_3 (LSTM)                   [(None, None, 200),  320800      embedding_3[0][0]                \n",
            "                                                                 lstm_2[0][1]                     \n",
            "                                                                 lstm_2[0][2]                     \n",
            "__________________________________________________________________________________________________\n",
            "dense_1 (Dense)                 (None, None, 11012)  2213412     lstm_3[0][0]                     \n",
            "==================================================================================================\n",
            "Total params: 7,259,812\n",
            "Trainable params: 7,259,812\n",
            "Non-trainable params: 0\n",
            "__________________________________________________________________________________________________\n",
            "None\n"
          ],
          "name": "stdout"
        },
        {
          "output_type": "execute_result",
          "data": {
            "image/png": "[encoded data removed]",
            "text/plain": [
              "<IPython.core.display.Image object>"
            ]
          },
          "metadata": {
            "tags": []
          },
          "execution_count": 39
        }
      ]
    },
    {
      "cell_type": "code",
      "metadata": {
        "id": "VbelEm0zhadD",
        "colab_type": "code",
        "colab": {
          "base_uri": "https://localhost:8080/",
          "height": 1000
        },
        "outputId": "ebc31234-73d0-4804-a1aa-dff440d23e19"
      },
      "source": [
        "# Запустим обучение и сохраним модель\n",
        "model.fit([encoderForInput , decoderForInput], decoderForOutput, batch_size=50, epochs=30) \n",
        "model.save( '/content/drive/My Drive/tmp/model_30epochs(rms).h5' )"
      ],
      "execution_count": null,
      "outputs": [
        {
          "output_type": "stream",
          "text": [
            "Epoch 1/30\n",
            "140/140 [==============================] - 6s 44ms/step - loss: 2.0562\n",
            "Epoch 2/30\n",
            "140/140 [==============================] - 6s 45ms/step - loss: 1.7016\n",
            "Epoch 3/30\n",
            "140/140 [==============================] - 6s 45ms/step - loss: 1.6280\n",
            "Epoch 4/30\n",
            "140/140 [==============================] - 6s 45ms/step - loss: 1.5733\n",
            "Epoch 5/30\n",
            "140/140 [==============================] - 6s 45ms/step - loss: 1.5321\n",
            "Epoch 6/30\n",
            "140/140 [==============================] - 6s 44ms/step - loss: 1.4954\n",
            "Epoch 7/30\n",
            "140/140 [==============================] - 6s 45ms/step - loss: 1.4599\n",
            "Epoch 8/30\n",
            "140/140 [==============================] - 6s 44ms/step - loss: 1.4258\n",
            "Epoch 9/30\n",
            "140/140 [==============================] - 6s 44ms/step - loss: 1.3918\n",
            "Epoch 10/30\n",
            "140/140 [==============================] - 6s 45ms/step - loss: 1.3592\n",
            "Epoch 11/30\n",
            "140/140 [==============================] - 6s 45ms/step - loss: 1.3263\n",
            "Epoch 12/30\n",
            "140/140 [==============================] - 6s 44ms/step - loss: 1.2944\n",
            "Epoch 13/30\n",
            "140/140 [==============================] - 6s 45ms/step - loss: 1.2638\n",
            "Epoch 14/30\n",
            "140/140 [==============================] - 6s 44ms/step - loss: 1.2372\n",
            "Epoch 15/30\n",
            "140/140 [==============================] - 6s 44ms/step - loss: 1.2101\n",
            "Epoch 16/30\n",
            "140/140 [==============================] - 6s 46ms/step - loss: 1.1832\n",
            "Epoch 17/30\n",
            "140/140 [==============================] - 6s 44ms/step - loss: 1.1570\n",
            "Epoch 18/30\n",
            "140/140 [==============================] - 6s 45ms/step - loss: 1.1328\n",
            "Epoch 19/30\n",
            "140/140 [==============================] - 6s 45ms/step - loss: 1.1093\n",
            "Epoch 20/30\n",
            "140/140 [==============================] - 6s 45ms/step - loss: 1.0866\n",
            "Epoch 21/30\n",
            "140/140 [==============================] - 6s 46ms/step - loss: 1.0651\n",
            "Epoch 22/30\n",
            "140/140 [==============================] - 6s 46ms/step - loss: 1.0431\n",
            "Epoch 23/30\n",
            "140/140 [==============================] - 6s 45ms/step - loss: 1.0205\n",
            "Epoch 24/30\n",
            "140/140 [==============================] - 6s 44ms/step - loss: 0.9979\n",
            "Epoch 25/30\n",
            "140/140 [==============================] - 6s 44ms/step - loss: 0.9741\n",
            "Epoch 26/30\n",
            "140/140 [==============================] - 6s 44ms/step - loss: 0.9517\n",
            "Epoch 27/30\n",
            "140/140 [==============================] - 6s 44ms/step - loss: 0.9294\n",
            "Epoch 28/30\n",
            "140/140 [==============================] - 6s 45ms/step - loss: 0.9092\n",
            "Epoch 29/30\n",
            "140/140 [==============================] - 6s 45ms/step - loss: 0.8891\n",
            "Epoch 30/30\n",
            "140/140 [==============================] - 6s 44ms/step - loss: 0.8687\n"
          ],
          "name": "stdout"
        }
      ]
    },
    {
      "cell_type": "markdown",
      "metadata": {
        "id": "8_U_rY8UiRL2",
        "colab_type": "text"
      },
      "source": [
        "# **Подготовка и запуск рабочей нейросети с генерацией ответов**"
      ]
    },
    {
      "cell_type": "code",
      "metadata": {
        "id": "Kv9utvcjh2co",
        "colab_type": "code",
        "colab": {}
      },
      "source": [
        "######################\n",
        "# Создаем рабочую модель для вывода ответов на запросы пользователя\n",
        "######################\n",
        "def makeInferenceModels():\n",
        "  # Определим модель кодера, на входе далее будут закодированные вопросы(encoderForInputs), на выходе состояния state_h, state_c\n",
        "  encoderModel = Model(encoderInputs, encoderStates) \n",
        "\n",
        "  decoderStateInput_h = Input(shape=(200 ,)) # обозначим размерность для входного слоя с состоянием state_h\n",
        "  decoderStateInput_c = Input(shape=(200 ,)) # обозначим размерность для входного слоя с состоянием state_c\n",
        "\n",
        "  decoderStatesInputs = [decoderStateInput_h, decoderStateInput_c] # возьмем оба inputs вместе и запишем в decoderStatesInputs\n",
        "\n",
        "  # Берём ответы, прошедшие через эмбединг, вместе с состояниями и подаём LSTM cлою\n",
        "  decoderOutputs, state_h, state_c = decoderLSTM(decoderEmbedding, initial_state=decoderStatesInputs)\n",
        "  decoderStates = [state_h, state_c] # LSTM даст нам новые состояния\n",
        "  decoderOutputs = decoderDense(decoderOutputs) # и ответы, которые мы пропустим через полносвязный слой с софтмаксом\n",
        "\n",
        "  # Определим модель декодера, на входе далее будут раскодированные ответы (decoderForInputs) и состояния\n",
        "  # на выходе предсказываемый ответ и новые состояния\n",
        "  decoderModel = Model([decoderInputs] + decoderStatesInputs, [decoderOutputs] + decoderStates)\n",
        "\n",
        "  return encoderModel , decoderModel"
      ],
      "execution_count": null,
      "outputs": []
    },
    {
      "cell_type": "markdown",
      "metadata": {
        "colab_type": "text",
        "id": "prqyy840HhLx"
      },
      "source": [
        "**1.2) Разрешить обработку unknown слов**"
      ]
    },
    {
      "cell_type": "code",
      "metadata": {
        "id": "dSSOhZpgh9LI",
        "colab_type": "code",
        "colab": {}
      },
      "source": [
        "######################\n",
        "# Создадим функцию, которая преобразует вопрос пользователя в последовательность индексов\n",
        "######################\n",
        "def strToTokens(sentence: str): # функция принимает строку на вход (предложение с вопросом)\n",
        "  checkIndex = tokenizer.texts_to_sequences([sentence]) # получаем индексы для каждого слова\n",
        "  words = parsPunctuation(sentence).lower().split() # приводит предложение к нижнему регистру и разбирает на слова\n",
        "  tokensList = list() # здесь будет последовательность токенов/индексов\n",
        "  for index in range(len(checkIndex[0])): # проходимся по длине списка индексов\n",
        "    if checkIndex[0][index]!=1: # если слово не unknown (имеет индекс 1)\n",
        "      try:\n",
        "        tokensList.append(tokenizer.word_index[words[index]]) # определяем токенизатором индекс и добавляем в список\n",
        "      except Exception:\n",
        "        print('Что-то пошло не так, раз. Здесь нужно подумать над алгоритмом')\n",
        "\n",
        "    # Функция вернёт вопрос в виде последовательности индексов, ограниченной длиной самого длинного вопроса из нашей базы вопросов\n",
        "  return pad_sequences([tokensList], maxlen=maxLenQuestions , padding='post')"
      ],
      "execution_count": null,
      "outputs": []
    },
    {
      "cell_type": "code",
      "metadata": {
        "id": "kJ0Dxd1eiEid",
        "colab_type": "code",
        "colab": {
          "base_uri": "https://localhost:8080/",
          "height": 254
        },
        "outputId": "4360cda2-43aa-477a-cea2-df413ad847cd"
      },
      "source": [
        "######################\n",
        "# Устанавливаем окончательные настройки и запускаем модель\n",
        "######################\n",
        "\n",
        "encModel , decModel = makeInferenceModels() # запускаем функцию для построения модели кодера и декодера\n",
        "\n",
        "for _ in range(6): # задаем количество вопросов, и на каждой итерации в этом диапазоне:\n",
        "  # Получаем значения состояний, которые определит кодер в соответствии с заданным вопросом\n",
        "  try:\n",
        "    statesValues = encModel.predict(strToTokens(input( 'Задайте вопрос : ' )))\n",
        "  except Exception:\n",
        "    print('Что-то пошло не так, два. Здесь нужно подумать над алгоритмом')\n",
        "  # Создаём пустой массив размером (1, 1)\n",
        "  emptyTargetSeq = np.zeros((1, 1))    \n",
        "  emptyTargetSeq[0, 0] = tokenizer.word_index['start'] # положим в пустую последовательность начальное слово 'start' в виде индекса\n",
        "\n",
        "  stopCondition = False # зададим условие, при срабатывании которого, прекратится генерация очередного слова\n",
        "  decodedTranslation = '' # здесь будет собираться генерируемый ответ\n",
        "  while not stopCondition : # пока не сработало стоп-условие\n",
        "    # В модель декодера подадим пустую последовательность со словом 'start' и состояния предсказанные кодером по заданному вопросу.\n",
        "    # декодер заменит слово 'start' предсказанным сгенерированным словом и обновит состояния\n",
        "    decOutputs , h , c = decModel.predict([emptyTargetSeq] + statesValues)\n",
        "    \n",
        "    #argmax пробежит по вектору decOutputs'а[0,0,15104], найдет макс.значение, и вернёт нам номер индекса под которым оно лежит в массиве\n",
        "    sampledWordIndex = np.argmax( decOutputs[0, 0, :]) # argmax возьмем от оси, в которой 15104 элементов. Получили индекс предсказанного слова.\n",
        "    sampledWord = None # создаем переменную, в которую положим слово, преобразованное на естественный язык\n",
        "    for word , index in tokenizer.word_index.items():\n",
        "      if sampledWordIndex == index: # если индекс выбранного слова соответствует какому-то индексу из словаря\n",
        "        decodedTranslation += ' {}'.format(word) # слово, идущее под этим индексом в словаре, добавляется в итоговый ответ \n",
        "        sampledWord = word # выбранное слово фиксируем в переменную sampledWord\n",
        "    \n",
        "    # Если выбранным словом оказывается 'end' либо если сгенерированный ответ превышает заданную максимальную длину ответа\n",
        "    if sampledWord == 'end' or len(decodedTranslation.split()) > maxLenAnswers:\n",
        "      stopCondition = True # то срабатывает стоп-условие и прекращаем генерацию\n",
        "\n",
        "    emptyTargetSeq = np.zeros((1, 1)) # создаем пустой массив\n",
        "    emptyTargetSeq[0, 0] = sampledWordIndex # заносим туда индекс выбранного слова\n",
        "    statesValues = [h, c] # и состояния, обновленные декодером\n",
        "    # и продолжаем цикл с обновленными параметрами\n",
        "  \n",
        "  print(decodedTranslation) # выводим ответ сгенерированный декодером"
      ],
      "execution_count": null,
      "outputs": [
        {
          "output_type": "stream",
          "text": [
            "Задайте вопрос : Привет, машина.\n",
            "Что-то пошло не так, два. Здесь нужно подумать над алгоритмом\n",
            " ! end\n",
            "Задайте вопрос : Привет машина.\n",
            " , товарищ генерал . end\n",
            "Задайте вопрос : Работа зовёт, как думаешь?\n",
            " , товарищ генерал . end\n",
            "Задайте вопрос : машина\n",
            " , товарищ командир . end\n",
            "Задайте вопрос : А меня знаешь как зовут?\n",
            " . end\n",
            "Задайте вопрос : Так и будешь молчать?\n",
            " и не знаю . end\n"
          ],
          "name": "stdout"
        }
      ]
    },
    {
      "cell_type": "markdown",
      "metadata": {
        "id": "Zfhu067toXGQ",
        "colab_type": "text"
      },
      "source": [
        "# **Загрузка и запуск предобученной модели**"
      ]
    },
    {
      "cell_type": "code",
      "metadata": {
        "id": "6ngvBy5yrY3R",
        "colab_type": "code",
        "colab": {
          "base_uri": "https://localhost:8080/",
          "height": 34
        },
        "outputId": "8c20373a-aacb-49ac-c59c-b52ff7b81200"
      },
      "source": [
        "from google.colab import drive\n",
        "drive.mount('/content/gdrive')"
      ],
      "execution_count": null,
      "outputs": [
        {
          "output_type": "stream",
          "text": [
            "Mounted at /content/gdrive\n"
          ],
          "name": "stdout"
        }
      ]
    },
    {
      "cell_type": "code",
      "metadata": {
        "id": "V7Lg3eOVqKyP",
        "colab_type": "code",
        "colab": {
          "base_uri": "https://localhost:8080/",
          "height": 459
        },
        "outputId": "eab27138-53cb-4d74-d85e-e25a12de2d75"
      },
      "source": [
        "# Подгружаем модель из файла и выведем её параметры\n",
        "model = load_model('/content/gdrive/My Drive/Предобученные сети/model_chatbot_100epochs(rms)+50(ada).h5')\n",
        "#model = load_model('model_chatbot_100epochs(rms)+50(ada) (1).h5')\n",
        "model.summary()"
      ],
      "execution_count": null,
      "outputs": [
        {
          "output_type": "stream",
          "text": [
            "WARNING:tensorflow:Layer lstm_1 will not use cuDNN kernel since it doesn't meet the cuDNN kernel criteria. It will use generic GPU kernel as fallback when running on GPU\n",
            "WARNING:tensorflow:Layer lstm_2 will not use cuDNN kernel since it doesn't meet the cuDNN kernel criteria. It will use generic GPU kernel as fallback when running on GPU\n",
            "Model: \"model_3\"\n",
            "__________________________________________________________________________________________________\n",
            "Layer (type)                    Output Shape         Param #     Connected to                     \n",
            "==================================================================================================\n",
            "input_1 (InputLayer)            [(None, None)]       0                                            \n",
            "__________________________________________________________________________________________________\n",
            "input_2 (InputLayer)            [(None, None)]       0                                            \n",
            "__________________________________________________________________________________________________\n",
            "embedding_1 (Embedding)         (None, None, 200)    3020800     input_1[0][0]                    \n",
            "__________________________________________________________________________________________________\n",
            "embedding_2 (Embedding)         (None, None, 200)    3020800     input_2[0][0]                    \n",
            "__________________________________________________________________________________________________\n",
            "lstm_1 (LSTM)                   [(None, 200), (None, 320800      embedding_1[0][0]                \n",
            "__________________________________________________________________________________________________\n",
            "lstm_2 (LSTM)                   [(None, None, 200),  320800      embedding_2[0][0]                \n",
            "                                                                 lstm_1[0][1]                     \n",
            "                                                                 lstm_1[0][2]                     \n",
            "__________________________________________________________________________________________________\n",
            "dense_1 (Dense)                 (None, None, 15104)  3035904     lstm_2[0][0]                     \n",
            "==================================================================================================\n",
            "Total params: 9,719,104\n",
            "Trainable params: 9,719,104\n",
            "Non-trainable params: 0\n",
            "__________________________________________________________________________________________________\n"
          ],
          "name": "stdout"
        }
      ]
    },
    {
      "cell_type": "code",
      "metadata": {
        "id": "sEfb58cXqsKi",
        "colab_type": "code",
        "colab": {}
      },
      "source": [
        "######################\n",
        "# Устанавливаем связи между слоями рабочей модели и предобученной\n",
        "######################\n",
        "def loadInferenceModels():\n",
        "  encoderInputs = model.input[0]   # входом энкодера рабочей модели будет первый инпут предобученной модели(input_1)\n",
        "  encoderEmbedding = model.layers[2] # связываем эмбединг слои(model.layers[2] это embedding_1)\n",
        "  encoderOutputs, state_h_enc, state_c_enc = model.layers[4].output # вытягиваем аутпуты из первого LSTM слоя обуч.модели и даем энкодеру(lstm_1)\n",
        "  encoderStates = [state_h_enc, state_c_enc] # ложим забранные состояния в состояния энкодера\n",
        "  encoderModel = Model(encoderInputs, encoderStates) # формируем модель\n",
        "\n",
        "  decoderInputs = model.input[1]   # входом декодера рабочей модели будет второй инпут предобученной модели(input_2)\n",
        "  decoderStateInput_h = Input(shape=(200 ,)) # обозначим размерность для входного слоя с состоянием state_h\n",
        "  decoderStateInput_c = Input(shape=(200 ,)) # обозначим размерность для входного слоя с состоянием state_c\n",
        "\n",
        "  decoderStatesInputs = [decoderStateInput_h, decoderStateInput_c] # возьмем оба inputs вместе и запишем в decoderStatesInputs\n",
        "\n",
        "  decoderEmbedding = model.layers[3] # связываем эмбединг слои(model.layers[3] это embedding_2)\n",
        "  decoderLSTM = model.layers[5] # связываем LSTM слои(model.layers[5] это lstm_2)\n",
        "  decoderOutputs, state_h, state_c = decoderLSTM(decoderEmbedding.output, initial_state=decoderStatesInputs)\n",
        "  decoderStates = [state_h, state_c] # LSTM даст нам новые состояния\n",
        "\n",
        "  decoderDense = model.layers[6] # связываем полносвязные слои(model.layers[6] это dense_1)\n",
        "  decoderOutputs = decoderDense(decoderOutputs) # выход с LSTM мы пропустим через полносвязный слой с софтмаксом\n",
        "\n",
        "    # Определим модель декодера, на входе далее будут раскодированные ответы (decoderForInputs) и состояния\n",
        "    # на выходе предсказываемый ответ и новые состояния\n",
        "  decoderModel = Model([decoderInputs] + decoderStatesInputs, [decoderOutputs] + decoderStates)\n",
        "  return encoderModel , decoderModel"
      ],
      "execution_count": null,
      "outputs": []
    },
    {
      "cell_type": "code",
      "metadata": {
        "id": "vTpsqjakx2rs",
        "colab_type": "code",
        "colab": {
          "base_uri": "https://localhost:8080/",
          "height": 221
        },
        "outputId": "52555a95-28de-4060-82a0-914c720a3cee"
      },
      "source": [
        "######################\n",
        "# Устанавливаем окончательные настройки и запускаем рабочую модель над предобученной\n",
        "######################\n",
        "\n",
        "encModel , decModel = loadInferenceModels() # запускаем функцию для построения модели кодера и декодера\n",
        "\n",
        "for _ in range(6): # задаем количество вопросов, и на каждой итерации в этом диапазоне:\n",
        "  # Получаем значения состояний, которые определит кодер в соответствии с заданным вопросом\n",
        "  statesValues = encModel.predict(strToTokens(input( 'Задайте вопрос : ' )))\n",
        "  # Создаём пустой массив размером (1, 1)\n",
        "  emptyTargetSeq = np.zeros((1, 1))    \n",
        "  emptyTargetSeq[0, 0] = tokenizer.word_index['start'] # положим в пустую последовательность начальное слово 'start' в виде индекса\n",
        "\n",
        "  stopCondition = False # зададим условие, при срабатывании которого, прекратится генерация очередного слова\n",
        "  decodedTranslation = '' # здесь будет собираться генерируемый ответ\n",
        "  while not stopCondition : # пока не сработало стоп-условие\n",
        "    # В модель декодера подадим пустую последовательность со словом 'start' и состояния предсказанные кодером по заданному вопросу.\n",
        "    # декодер заменит слово 'start' предсказанным сгенерированным словом и обновит состояния\n",
        "    decOutputs , h , c = decModel.predict([emptyTargetSeq] + statesValues)\n",
        "    \n",
        "    #argmax пробежит по вектору decOutputs'а[0,0,15104], найдет макс.значение, и вернёт нам номер индекса под которым оно лежит в массиве\n",
        "    sampledWordIndex = np.argmax( decOutputs[0, 0, :]) # argmax возьмем от оси, в которой 15104 элементов. Получили индекс предсказанного слова.\n",
        "    sampledWord = None # создаем переменную, в которую положим слово, преобразованное на естественный язык\n",
        "    for word , index in tokenizer.word_index.items():\n",
        "      if sampledWordIndex == index: # если индекс выбранного слова соответствует какому-то индексу из словаря\n",
        "        decodedTranslation += ' {}'.format(word) # слово, идущее под этим индексом в словаре, добавляется в итоговый ответ \n",
        "        sampledWord = word # выбранное слово фиксируем в переменную sampledWord\n",
        "    \n",
        "    # Если выбранным словом оказывается 'end' либо если сгенерированный ответ превышает заданную максимальную длину ответа\n",
        "    if sampledWord == 'end' or len(decodedTranslation.split()) > maxLenAnswers:\n",
        "      stopCondition = True # то срабатывает стоп-условие и прекращаем генерацию\n",
        "\n",
        "    emptyTargetSeq = np.zeros((1, 1)) # создаем пустой массив\n",
        "    emptyTargetSeq[0, 0] = sampledWordIndex # заносим туда индекс выбранного слова\n",
        "    statesValues = [h, c] # и состояния, обновленные декодером\n",
        "    # и продолжаем цикл с обновленными параметрами\n",
        "  \n",
        "  print(decodedTranslation) # выводим ответ сгенерированный декодером"
      ],
      "execution_count": null,
      "outputs": [
        {
          "output_type": "stream",
          "text": [
            "Задайте вопрос : ты кто \n",
            " наш вид известен как люди end\n",
            "Задайте вопрос : скажи что нибудь \n",
            " а что надо говорить end\n",
            "Задайте вопрос : какой сегодня день\n",
            " четверг end\n",
            "Задайте вопрос : сколько времени\n",
            " без пяти пять end\n",
            "Задайте вопрос : как настроение\n",
            " но так то и не знаю end\n",
            "Задайте вопрос : что то случилось\n",
            " о end\n"
          ],
          "name": "stdout"
        }
      ]
    },
    {
      "cell_type": "markdown",
      "metadata": {
        "id": "98O0XcM9yCbm",
        "colab_type": "text"
      },
      "source": [
        "# **Глоссарий**\n",
        "-  Seq2Seq - sequence-to-sequence модель, состоит из двух рекуррентных нейронных сетей (RNN): \n",
        "\n",
        "encoder (кодер), которая обрабатывает входные данные,\n",
        "\n",
        "decoder (декодер), которая генерирует данные вывода.\n",
        "- Yaml - удобный текстовый формат, позволяющий хранить структурированные данные в иерархии. https://ru.bmstu.wiki/YAML\n",
        "yaml.safe_load - безопасный метод загрузки данных из файлов, предотвращающий возможность запуска произвольного кода для файлов из ненадежных источников\n",
        "\n",
        "\n",
        "\n",
        "\n",
        "\n"
      ]
    }
  ]
}