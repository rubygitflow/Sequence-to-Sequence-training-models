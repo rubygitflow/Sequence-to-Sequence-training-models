{
  "nbformat": 4,
  "nbformat_minor": 0,
  "metadata": {
    "colab": {
      "name": "University of Artificial Intelligence. NLP.HomeWork 8.Pro. Attention mechanism",
      "provenance": [],
      "collapsed_sections": [
        "-3gRxJtswNqT"
      ],
      "machine_shape": "hm",
      "include_colab_link": true
    },
    "kernelspec": {
      "name": "python3",
      "display_name": "Python 3"
    },
    "accelerator": "GPU"
  },
  "cells": [
    {
      "cell_type": "markdown",
      "metadata": {
        "id": "view-in-github",
        "colab_type": "text"
      },
      "source": [
        "<a href=\"https://colab.research.google.com/github/rubygitflow/Sequence-to-Sequence-training-models/blob/master/University_of_Artificial_Intelligence_NLP_HomeWork_8_Pro_Attention_mechanism.ipynb\" target=\"_parent\"><img src=\"https://colab.research.google.com/assets/colab-badge.svg\" alt=\"Open In Colab\"/></a>"
      ]
    },
    {
      "cell_type": "markdown",
      "metadata": {
        "id": "9cqo1300xJh1",
        "colab_type": "text"
      },
      "source": [
        "# NLP.Lesson 8.Attention mechanism"
      ]
    },
    {
      "cell_type": "markdown",
      "metadata": {
        "id": "4sBItNogyHY1",
        "colab_type": "text"
      },
      "source": [
        "1. Attention: Sequence 2 Sequence model with Attention Mechanism. https://towardsdatascience.com/sequence-2-sequence-model-with-attention-mechanism-9e9ca2a613a\n",
        "2. Визуализируя нейронный машинный перевод (seq2seq модели с механизмом внимания). https://habr.com/ru/post/486158/\n",
        "\n",
        "Parallel text corpora En-Ru:\n",
        "*   http://www.wordsbase.com/2016/01/tm-share.html\n",
        "*   http://ufal.mff.cuni.cz/umc/cer/\n",
        "*   https://tatoeba.org/\n",
        "\n"
      ]
    },
    {
      "cell_type": "code",
      "metadata": {
        "id": "XtIjaRxz3Drh",
        "colab_type": "code",
        "colab": {}
      },
      "source": [
        "from tensorflow.keras.layers import Dense, Conv1D, MaxPool1D, GlobalMaxPooling1D, LSTM, GRU, Bidirectional, Embedding, Input, Concatenate, Attention, Reshape, Lambda, concatenate, Dropout, Flatten\n",
        "from tensorflow.keras.models import Sequential, Model, load_model\n",
        "from tensorflow.keras.preprocessing.text import Tokenizer\n",
        "from tensorflow.keras.preprocessing.sequence import pad_sequences\n",
        "from tensorflow.keras.utils import to_categorical, plot_model\n",
        "from tensorflow.keras.optimizers import RMSprop, Adam\n",
        "from tensorflow.keras.callbacks import EarlyStopping\n",
        "from tensorflow.keras.metrics import Accuracy\n",
        "\n",
        "import tensorflow.keras.backend as K\n",
        "from keras.regularizers import l2, l1\n",
        "\n",
        "from sklearn.model_selection import train_test_split\n",
        "import pandas as pd\n",
        "import numpy as np\n",
        "import matplotlib.pyplot as plt\n",
        "import re"
      ],
      "execution_count": null,
      "outputs": []
    },
    {
      "cell_type": "markdown",
      "metadata": {
        "id": "DtGbK4PcYIQP",
        "colab_type": "text"
      },
      "source": [
        "## Checking the GPU"
      ]
    },
    {
      "cell_type": "code",
      "metadata": {
        "id": "OoZrMxlU_dAV",
        "colab_type": "code",
        "colab": {
          "base_uri": "https://localhost:8080/",
          "height": 252
        },
        "outputId": "48652268-a45b-4f98-805b-2f409788a63d"
      },
      "source": [
        "!ln -sf /opt/bin/nvidia-smi /usr/bin/nvidia-smi\n",
        "!pip install gputil\n",
        "!pip install psutil\n",
        "!pip install humanize\n",
        "\n",
        "import os\n",
        "import psutil\n",
        "import humanize\n",
        "import GPUtil as GPU\n",
        "GPUs = GPU.getGPUs()\n",
        "if len(GPUs)>0:\n",
        "  gpu = GPUs[0]\n",
        "else:\n",
        "  print('GPU turned off')\n",
        "def printm():\n",
        "  process = psutil.Process(os.getpid())\n",
        "  print(\"Gen RAM FREE: \"+humanize.naturalsize( psutil.virtual_memory().available ), \" | Proc size: \" + humanize.naturalsize( process.memory_info().rss))\n",
        "  if len(GPUs)>0:\n",
        "    print(\"Gen RAM FREE: {0:.0f}MB | Used: {1:.0f}MB | Util {2:3.0f}% | Total {3:.0f}MB\".format(gpu.memoryFree, gpu.memoryUsed, gpu.memoryUtil*100, gpu.memoryTotal))\n",
        "    print(\"GPU Model: \" + gpu.name)\n",
        "\n",
        "printm()"
      ],
      "execution_count": null,
      "outputs": [
        {
          "output_type": "stream",
          "text": [
            "Collecting gputil\n",
            "  Downloading https://files.pythonhosted.org/packages/ed/0e/5c61eedde9f6c87713e89d794f01e378cfd9565847d4576fa627d758c554/GPUtil-1.4.0.tar.gz\n",
            "Building wheels for collected packages: gputil\n",
            "  Building wheel for gputil (setup.py) ... \u001b[?25l\u001b[?25hdone\n",
            "  Created wheel for gputil: filename=GPUtil-1.4.0-cp36-none-any.whl size=7411 sha256=4b7381f5071c25c5dd52616f1ee5fa40ba2a9f3ba507790f43163e907965b46b\n",
            "  Stored in directory: /root/.cache/pip/wheels/3d/77/07/80562de4bb0786e5ea186911a2c831fdd0018bda69beab71fd\n",
            "Successfully built gputil\n",
            "Installing collected packages: gputil\n",
            "Successfully installed gputil-1.4.0\n",
            "Requirement already satisfied: psutil in /usr/local/lib/python3.6/dist-packages (5.4.8)\n",
            "Requirement already satisfied: humanize in /usr/local/lib/python3.6/dist-packages (0.5.1)\n",
            "Gen RAM FREE: 26.3 GB  | Proc size: 365.1 MB\n",
            "Gen RAM FREE: 16280MB | Used: 0MB | Util   0% | Total 16280MB\n",
            "GPU Model: Tesla P100-PCIE-16GB\n"
          ],
          "name": "stdout"
        }
      ]
    },
    {
      "cell_type": "markdown",
      "metadata": {
        "id": "ViDsWObQ9o7o",
        "colab_type": "text"
      },
      "source": [
        "## Data Setting"
      ]
    },
    {
      "cell_type": "code",
      "metadata": {
        "id": "200dSPOYZE7N",
        "colab_type": "code",
        "colab": {
          "base_uri": "https://localhost:8080/",
          "height": 34
        },
        "outputId": "0fc09a8d-e060-441f-f3ab-9d474ad8336c"
      },
      "source": [
        "from google.colab import drive\n",
        "drive.mount('/content/drive')"
      ],
      "execution_count": null,
      "outputs": [
        {
          "output_type": "stream",
          "text": [
            "Mounted at /content/drive\n"
          ],
          "name": "stdout"
        }
      ]
    },
    {
      "cell_type": "code",
      "metadata": {
        "id": "1FRQd7lGQAFH",
        "colab_type": "code",
        "colab": {}
      },
      "source": [
        "def highlight_chars(txt):\n",
        "  # select spetial  chars\n",
        "  angle_brackets = ['<', '>']\n",
        "  for elem in angle_brackets:\n",
        "    txt = txt.replace(elem, ' '+elem+' ')\n",
        "\n",
        "  # select digits\n",
        "  txt = re.sub(r'\\d\\d\\.\\d\\d\\.\\d{4}', r' <date> ', txt)  # \"\" \n",
        "  txt = re.sub(r'\\d\\d\\.\\d\\d\\.\\d\\d', r' <date> ', txt)   # \"\" \n",
        "  txt = re.sub(r'\\d\\d\\/\\d\\d\\/\\d{4}', r' <date> ', txt)  # \"\" \n",
        "  txt = re.sub(r'\\d\\d\\/\\d\\d\\/\\d\\d', r' <date> ', txt)   # \"\" \n",
        "  txt = re.sub(r'\\d\\d:\\d\\d:\\d\\d', r' <time> ', txt)     # \"\" \n",
        "  txt = re.sub(r'\\d\\d-\\d\\d-\\d\\d', r' <time> ', txt)     # \"\" \n",
        "  txt = re.sub(r'\\d\\d—\\d\\d—\\d\\d', r' <time> ', txt)     # \"\" \n",
        "  txt = re.sub(r'\\d\\d–\\d\\d–\\d\\d', r' <time> ', txt)     # \"\" \n",
        "  txt = re.sub(r'\\d\\d:\\d\\d', r'<time>', txt)          # \"\" \n",
        "\n",
        "  txt = re.sub(r'\\d+-\\d+', r' <range> ', txt)         #  '4-5'\n",
        "  txt = re.sub(r'\\d+\\/\\d+', r' <real> ', txt)         # \"8/8\" \n",
        "  txt = re.sub(r'\\d+,\\d+', r' <real> ', txt)          # \"8,8\" \n",
        "  txt = re.sub(r'\\d+\\.\\d+', r' <number> ', txt)       # \"9.8\" \n",
        "  # for \\s-char exclude \\t-char\n",
        "  txt = re.sub(r'-\\d+\\. ', r' <number> . ', txt)     # \"-1. \"  \n",
        "  txt = re.sub(r'–\\d+\\. ', r' <number> . ', txt)     # \"–1. \"  \n",
        "  txt = re.sub(r'—\\d+\\. ', r' <number> . ', txt)     # \"—1. \"  \n",
        "  txt = re.sub(r'\\d+\\.\\n', r' <number> . ', txt)      # \"7. \"  \n",
        "  txt = re.sub(r'-\\d+\\.\\n', r' <number> . ', txt)     # \"-1. \"  \n",
        "  txt = re.sub(r'–\\d+\\.\\n', r' <number> . ', txt)     # \"–1. \"  \n",
        "  txt = re.sub(r'—\\d+\\.\\n', r' <number> . ', txt)     # \"—1. \"  \n",
        "  txt = re.sub(r'\\d+\\.\\n', r' <number> . ', txt)      # \"7. \"  \n",
        "\n",
        "  txt = re.sub(r'\\d+', r' <number> ', txt)      # \"17\"  \n",
        "\n",
        "  # select any symbols (manually created list)\n",
        "  char_list = ['-', '.', ',', '\"', '$', '«', 'ø', '%', ')', '&', '−', '≤', '‘', '£', '?', '™', '‚', '(', '*', '№', '•', ';', '½', '’', '/', '+', '±', '>', '“', 'ş', '¦', '–', \"'\", '€', '#', '§', '”', '@', '‑', ':', '!', '»', '¼', '·', '°', '…', '=', '—']\n",
        "  refreshed_char_list = [item for item in char_list if item not in angle_brackets]  # very important exclude spetial  chars from list !\n",
        "  for elem in refreshed_char_list:\n",
        "    txt = txt.replace(elem, ' '+elem+' ')\n",
        "    \n",
        "  return txt"
      ],
      "execution_count": null,
      "outputs": []
    },
    {
      "cell_type": "markdown",
      "metadata": {
        "id": "9av3HqJQ9A7v",
        "colab_type": "text"
      },
      "source": [
        "**Here we carry out chars-cleaning iterations**"
      ]
    },
    {
      "cell_type": "code",
      "metadata": {
        "id": "UgfTTMzuzI44",
        "colab_type": "code",
        "colab": {}
      },
      "source": [
        "with open('/content/drive/My Drive/Базы/NLP/English-Russian.1-1.txt', 'r') as f:\n",
        "  text = f.read()\n",
        "  text = text.replace('\\ufeff', '')  \n",
        "  text = text.replace('\\uf043', ' ')  \n",
        "  text = text.replace('\\x9d', ' ')  \n",
        "  text = text.replace('\\uf029', ' ')  \n",
        "  text = text.replace('\\x81', ' ')  \n",
        "  text = text.replace('\\xad', ' ')  \n",
        "  text = text.replace('\\uf024', ' ')  \n",
        "  text = text.replace('\\x91', ' ')  \n",
        "  text = text.replace('\\uf042', ' ')  \n",
        "  text = text.replace('\\x8d', ' ')  \n",
        "  text = text.replace('\\x80', ' ')  \n",
        "  text = text.replace('\\uf0d4', ' ')  \n",
        "  text = text.replace('\\x90', ' ')  \n",
        "  text = text.replace('\\x8f', ' ')  \n",
        "  text = text.replace('\\uf0b7', ' ')  \n",
        "  text = text.replace('�', ' ')  \n",
        "  text = text.replace('', ' ')\n",
        "  text = highlight_chars(text)\n",
        "\n",
        "  text_of_chars = re.sub(r'[А-яA-z0-9\\n\\t<>]', ' ', text) \n",
        "  text_of_chars = ' '.join(text_of_chars.split())"
      ],
      "execution_count": null,
      "outputs": []
    },
    {
      "cell_type": "code",
      "metadata": {
        "id": "65NbHdT40MN0",
        "colab_type": "code",
        "colab": {
          "base_uri": "https://localhost:8080/",
          "height": 34
        },
        "outputId": "107a6075-94ee-4d8e-90a5-4909adfb55da"
      },
      "source": [
        "chars = list(set(text_of_chars.lower().split(' ')))\n",
        "len(chars)"
      ],
      "execution_count": null,
      "outputs": [
        {
          "output_type": "execute_result",
          "data": {
            "text/plain": [
              "84"
            ]
          },
          "metadata": {
            "tags": []
          },
          "execution_count": 6
        }
      ]
    },
    {
      "cell_type": "code",
      "metadata": {
        "id": "l2muZKoG74-W",
        "colab_type": "code",
        "colab": {
          "base_uri": "https://localhost:8080/",
          "height": 1000
        },
        "outputId": "cccd5b99-9a2e-4650-a6b8-8e3dbb369ec3"
      },
      "source": [
        "chars"
      ],
      "execution_count": null,
      "outputs": [
        {
          "output_type": "execute_result",
          "data": {
            "text/plain": [
              "['ё',\n",
              " 'â',\n",
              " '?',\n",
              " '\"',\n",
              " 'ń',\n",
              " 'áš',\n",
              " '.',\n",
              " '±',\n",
              " 'ёё',\n",
              " 'ű',\n",
              " ';',\n",
              " '(',\n",
              " '/',\n",
              " 'õ',\n",
              " 'ë',\n",
              " '«',\n",
              " ')',\n",
              " '!',\n",
              " 'ŕ',\n",
              " 'č',\n",
              " '=',\n",
              " '‘',\n",
              " ',',\n",
              " 'ä',\n",
              " 'î',\n",
              " 'š',\n",
              " '‑',\n",
              " '≤',\n",
              " '£',\n",
              " '·',\n",
              " 'ï',\n",
              " 'ç',\n",
              " 'á',\n",
              " '‚',\n",
              " '-',\n",
              " '@',\n",
              " ':',\n",
              " 'ğ',\n",
              " '“',\n",
              " 'ú',\n",
              " 'β',\n",
              " 'è',\n",
              " '*',\n",
              " '#',\n",
              " '¦',\n",
              " 'ć',\n",
              " '’',\n",
              " '¼',\n",
              " 'ö',\n",
              " '+',\n",
              " 'ó',\n",
              " 'í',\n",
              " '—',\n",
              " 'é',\n",
              " 'ł',\n",
              " 'ñ',\n",
              " 'ø',\n",
              " '°',\n",
              " 'łę',\n",
              " 'ô',\n",
              " '»',\n",
              " '–',\n",
              " '™',\n",
              " '−',\n",
              " '…',\n",
              " '½',\n",
              " '№',\n",
              " 'ş',\n",
              " 'ří',\n",
              " 'à',\n",
              " '•',\n",
              " 'ό',\n",
              " 'å',\n",
              " '”',\n",
              " 'ґ',\n",
              " '&',\n",
              " \"'\",\n",
              " '$',\n",
              " '%',\n",
              " '§',\n",
              " '€',\n",
              " 'ã',\n",
              " 'ê',\n",
              " 'ü']"
            ]
          },
          "metadata": {
            "tags": []
          },
          "execution_count": 7
        }
      ]
    },
    {
      "cell_type": "code",
      "metadata": {
        "id": "7tdcmPgx0l3N",
        "colab_type": "code",
        "colab": {
          "base_uri": "https://localhost:8080/",
          "height": 1000
        },
        "outputId": "14a209ca-4edd-47d5-ed08-48a3a0f8ef8b"
      },
      "source": [
        "num_chars = 100 # get all the symbols — http://book.itep.ru/10/ascii.htm\n",
        "tokenizer = Tokenizer(num_words=num_chars, char_level=True) \n",
        "tokenizer.fit_on_texts(chars)\n",
        "tokenizer.index_word"
      ],
      "execution_count": null,
      "outputs": [
        {
          "output_type": "execute_result",
          "data": {
            "text/plain": [
              "{1: 'ё',\n",
              " 2: 'á',\n",
              " 3: 'š',\n",
              " 4: 'í',\n",
              " 5: 'ł',\n",
              " 6: 'â',\n",
              " 7: '?',\n",
              " 8: '\"',\n",
              " 9: 'ń',\n",
              " 10: '.',\n",
              " 11: '±',\n",
              " 12: 'ű',\n",
              " 13: ';',\n",
              " 14: '(',\n",
              " 15: '/',\n",
              " 16: 'õ',\n",
              " 17: 'ë',\n",
              " 18: '«',\n",
              " 19: ')',\n",
              " 20: '!',\n",
              " 21: 'ŕ',\n",
              " 22: 'č',\n",
              " 23: '=',\n",
              " 24: '‘',\n",
              " 25: ',',\n",
              " 26: 'ä',\n",
              " 27: 'î',\n",
              " 28: '‑',\n",
              " 29: '≤',\n",
              " 30: '£',\n",
              " 31: '·',\n",
              " 32: 'ï',\n",
              " 33: 'ç',\n",
              " 34: '‚',\n",
              " 35: '-',\n",
              " 36: '@',\n",
              " 37: ':',\n",
              " 38: 'ğ',\n",
              " 39: '“',\n",
              " 40: 'ú',\n",
              " 41: 'β',\n",
              " 42: 'è',\n",
              " 43: '*',\n",
              " 44: '#',\n",
              " 45: '¦',\n",
              " 46: 'ć',\n",
              " 47: '’',\n",
              " 48: '¼',\n",
              " 49: 'ö',\n",
              " 50: '+',\n",
              " 51: 'ó',\n",
              " 52: '—',\n",
              " 53: 'é',\n",
              " 54: 'ñ',\n",
              " 55: 'ø',\n",
              " 56: '°',\n",
              " 57: 'ę',\n",
              " 58: 'ô',\n",
              " 59: '»',\n",
              " 60: '–',\n",
              " 61: '™',\n",
              " 62: '−',\n",
              " 63: '…',\n",
              " 64: '½',\n",
              " 65: '№',\n",
              " 66: 'ş',\n",
              " 67: 'ř',\n",
              " 68: 'à',\n",
              " 69: '•',\n",
              " 70: 'ό',\n",
              " 71: 'å',\n",
              " 72: '”',\n",
              " 73: 'ґ',\n",
              " 74: '&',\n",
              " 75: \"'\",\n",
              " 76: '$',\n",
              " 77: '%',\n",
              " 78: '§',\n",
              " 79: '€',\n",
              " 80: 'ã',\n",
              " 81: 'ê',\n",
              " 82: 'ü'}"
            ]
          },
          "metadata": {
            "tags": []
          },
          "execution_count": 8
        }
      ]
    },
    {
      "cell_type": "code",
      "metadata": {
        "id": "b3cL3cOy165e",
        "colab_type": "code",
        "colab": {}
      },
      "source": [
        "char_list = tokenizer.index_word.values()"
      ],
      "execution_count": null,
      "outputs": []
    },
    {
      "cell_type": "code",
      "metadata": {
        "id": "nJYLb3Dp6GMP",
        "colab_type": "code",
        "colab": {
          "base_uri": "https://localhost:8080/",
          "height": 54
        },
        "outputId": "1554256d-d5d3-40b0-b0cf-f9699c144759"
      },
      "source": [
        "char_list"
      ],
      "execution_count": null,
      "outputs": [
        {
          "output_type": "execute_result",
          "data": {
            "text/plain": [
              "dict_values(['ё', 'á', 'š', 'í', 'ł', 'â', '?', '\"', 'ń', '.', '±', 'ű', ';', '(', '/', 'õ', 'ë', '«', ')', '!', 'ŕ', 'č', '=', '‘', ',', 'ä', 'î', '‑', '≤', '£', '·', 'ï', 'ç', '‚', '-', '@', ':', 'ğ', '“', 'ú', 'β', 'è', '*', '#', '¦', 'ć', '’', '¼', 'ö', '+', 'ó', '—', 'é', 'ñ', 'ø', '°', 'ę', 'ô', '»', '–', '™', '−', '…', '½', '№', 'ş', 'ř', 'à', '•', 'ό', 'å', '”', 'ґ', '&', \"'\", '$', '%', '§', '€', 'ã', 'ê', 'ü'])"
            ]
          },
          "metadata": {
            "tags": []
          },
          "execution_count": 10
        }
      ]
    },
    {
      "cell_type": "markdown",
      "metadata": {
        "id": "JXHp7zWLTBp3",
        "colab_type": "text"
      },
      "source": [
        "**End of chars-cleaning iterations**"
      ]
    },
    {
      "cell_type": "code",
      "metadata": {
        "id": "v05tgfqyV-cG",
        "colab_type": "code",
        "colab": {}
      },
      "source": [
        "text_of_lexemes = ' '.join(text.split(' '))"
      ],
      "execution_count": null,
      "outputs": []
    },
    {
      "cell_type": "code",
      "metadata": {
        "id": "4LjNKTyyWkrU",
        "colab_type": "code",
        "colab": {
          "base_uri": "https://localhost:8080/",
          "height": 121
        },
        "outputId": "3618b73b-d094-4caf-eca3-380e4413a1c3"
      },
      "source": [
        "print(text_of_lexemes[:1000])"
      ],
      "execution_count": null,
      "outputs": [
        {
          "output_type": "stream",
          "text": [
            "Musharraf  ’  s Last Act  ? \tПоследний ход Мушаррафа  ? \n",
            "Desperate to hold onto power  ,  Pervez Musharraf has discarded Pakistan  ’  s constitutional framework and declared a state of emergency  . \tВ отчаянном стремлении удержать власть  ,  Первез Мушарраф отверг конституционную систему Пакистана и объявил о введении чрезвычайного положения  . \n",
            "Artfully  ,  though shamelessly  ,  he has tried to sell this action as an effort to bring about stability and help fight the war on terror more effectively  . \tИскусно  ,  хотя и бессовестно  ,  он попытался оправдать данное действие стремлением установить стабильность и начать более эффективную борьбу с терроризмом  . \n",
            "Nothing could be further from the truth  . \tЭто крайне далеко от действительности  . \n",
            "If Pakistan  ’  s history is any indicator  ,  his decision to impose martial law may prove to be the proverbial straw that breaks the camel  ’  s back  . \tЕсли судить по пакистанской истории  ,  его решение установить военное положение может \n"
          ],
          "name": "stdout"
        }
      ]
    },
    {
      "cell_type": "code",
      "metadata": {
        "id": "f72H5-7w3mFp",
        "colab_type": "code",
        "colab": {}
      },
      "source": [
        "dictionary = text_of_lexemes.split('\\n')"
      ],
      "execution_count": null,
      "outputs": []
    },
    {
      "cell_type": "code",
      "metadata": {
        "id": "KOvTx-vIqRi-",
        "colab_type": "code",
        "colab": {
          "base_uri": "https://localhost:8080/",
          "height": 34
        },
        "outputId": "09977350-09a1-4110-9df1-3fca9d91ab81"
      },
      "source": [
        "dictionary.__len__()"
      ],
      "execution_count": null,
      "outputs": [
        {
          "output_type": "execute_result",
          "data": {
            "text/plain": [
              "85960"
            ]
          },
          "metadata": {
            "tags": []
          },
          "execution_count": 9
        }
      ]
    },
    {
      "cell_type": "code",
      "metadata": {
        "id": "l8NyJb_RXdmd",
        "colab_type": "code",
        "colab": {}
      },
      "source": [
        "en = []\n",
        "ru = [] \n",
        "# provide a protection from obvious garbage\n",
        "for elem in dictionary:\n",
        "  dic = elem.split('\\t')\n",
        "  eng = ' '.join(dic[0].split())\n",
        "  rus = ' '.join(dic[1].split())\n",
        "  # count of words\n",
        "  len_en = len(eng.split())\n",
        "  len_ru = len(rus.split()) \n",
        "  if len_en > 4 and len_ru > 4: # this condition was added after learning\n",
        "    if len_en > len_ru // 2 and len_ru > len_en // 2: #  we consider only meaningful constructions\n",
        "      if re.search(r'[A-z]+', eng) and re.search(r'[А-я]+', rus): #  we have a real translation\n",
        "        en.append(eng)\n",
        "        ru.append(rus)"
      ],
      "execution_count": null,
      "outputs": []
    },
    {
      "cell_type": "code",
      "metadata": {
        "id": "IJ3I_ZRrbDNn",
        "colab_type": "code",
        "colab": {
          "base_uri": "https://localhost:8080/",
          "height": 34
        },
        "outputId": "3744b26a-8802-4b87-c016-f2ed3bec02ab"
      },
      "source": [
        "len(en), len(ru)"
      ],
      "execution_count": null,
      "outputs": [
        {
          "output_type": "execute_result",
          "data": {
            "text/plain": [
              "(81739, 81739)"
            ]
          },
          "metadata": {
            "tags": []
          },
          "execution_count": 11
        }
      ]
    },
    {
      "cell_type": "code",
      "metadata": {
        "id": "3oAOT-s_y9LS",
        "colab_type": "code",
        "colab": {
          "base_uri": "https://localhost:8080/",
          "height": 474
        },
        "outputId": "d388feac-76fc-4a96-fa5c-211f6d6ea451"
      },
      "source": [
        "ru[:13], en[:13]"
      ],
      "execution_count": null,
      "outputs": [
        {
          "output_type": "execute_result",
          "data": {
            "text/plain": [
              "(['Последний ход Мушаррафа ?',\n",
              "  'В отчаянном стремлении удержать власть , Первез Мушарраф отверг конституционную систему Пакистана и объявил о введении чрезвычайного положения .',\n",
              "  'Искусно , хотя и бессовестно , он попытался оправдать данное действие стремлением установить стабильность и начать более эффективную борьбу с терроризмом .',\n",
              "  'Это крайне далеко от действительности .',\n",
              "  'Если судить по пакистанской истории , его решение установить военное положение может оказаться той самой последней каплей из пословицы , которая переполнит чашу терпения народа .',\n",
              "  'Генерал Мушарраф появился на национальной сцене Пакистана <number> октября <number> года , свергнув законно избранное правительство и объявив о начале амбициозного проекта по « строительству нации » .',\n",
              "  'Многие пакистанцы , лишённые иллюзий в отношении политического класса Пакистана , молчаливо согласились с его приходом к власти , думая , что он сможет что - то изменить .',\n",
              "  'Террористические атаки в Америке <number> сентября <number> года позволили Мушаррафу попасть в центр внимания на международной арене , поскольку он согласился уничтожить Талибан и поддержать войну с терроризмом , возглавляемую Соединёнными Штатами .',\n",
              "  'Мушарраф пресёк деятельность некоторых воинственных группировок религиозных фанатиков , действовавших на территории Пакистана , а также группировок , нападавших на индийские войска в Кашмире .',\n",
              "  'В результате , Пакистан получил американскую финансовую помощь и оружие .',\n",
              "  'Стараясь подтвердить свои союзнические намерения , Мушарраф ( впервые после получения Пакистаном независимости ) отправил пакистанскую армию в контролируемые племенами районы , граничащие с Афганистаном .',\n",
              "  'Результаты данных операций против Талибана и Аль - Каеды оказались неоднозначными .',\n",
              "  'Хотя США рассматривали Мушаррафа как сторонника изменений , он так и не добился политической легитимности в стране , а его политика считалась изобилующей противоречиями .'],\n",
              " ['Musharraf ’ s Last Act ?',\n",
              "  'Desperate to hold onto power , Pervez Musharraf has discarded Pakistan ’ s constitutional framework and declared a state of emergency .',\n",
              "  'Artfully , though shamelessly , he has tried to sell this action as an effort to bring about stability and help fight the war on terror more effectively .',\n",
              "  'Nothing could be further from the truth .',\n",
              "  'If Pakistan ’ s history is any indicator , his decision to impose martial law may prove to be the proverbial straw that breaks the camel ’ s back .',\n",
              "  'General Musharraf appeared on the national scene on October <number> , <number> , when he ousted an elected government and announced an ambitious “ nation - building ” project .',\n",
              "  'Many Pakistanis , disillusioned with Pakistan ’ s political class , remained mute , thinking that he might deliver .',\n",
              "  'The September <number> , <number> , terrorist attacks on America brought Musharraf into the international limelight as he agreed to ditch the Taliban and support the United States - led war on terror .',\n",
              "  'Musharraf clamped down on some religious militants operating inside Pakistan and also on those fighting Indian forces in Kashmir .',\n",
              "  'As a result , Pakistan was rewarded with American financial assistance and arms .',\n",
              "  'In furtherance of his re - alignment , Musharraf sent the Pakistani army into the tribal areas bordering Afghanistan for the first time since Pakistan ’ s independence .',\n",
              "  'Operations there against Taliban and al - Qaeda forces brought mixed results .',\n",
              "  'Although the US viewed Musharraf as an agent of change , he has never achieved domestic political legitimacy , and his policies were seen as rife with contradictions .'])"
            ]
          },
          "metadata": {
            "tags": []
          },
          "execution_count": 12
        }
      ]
    },
    {
      "cell_type": "code",
      "metadata": {
        "id": "mL8IoqNvXMaA",
        "colab_type": "code",
        "colab": {}
      },
      "source": [
        "ru[:85000]"
      ],
      "execution_count": null,
      "outputs": []
    },
    {
      "cell_type": "code",
      "metadata": {
        "id": "L9NwDDBi6EVP",
        "colab_type": "code",
        "colab": {
          "base_uri": "https://localhost:8080/",
          "height": 545
        },
        "outputId": "00f1b2d5-7456-4851-b6c9-680f5096da93"
      },
      "source": [
        "# Let's see which sentence length to choose\n",
        "sizeEn = []\n",
        "for i in en:\n",
        "  sizeEn.append(len(i.split()))\n",
        "plt.figure(figsize=(20,4))\n",
        "plt.title('Length of sentences in the English corpus')\n",
        "plt.hist(sizeEn, bins=50)\n",
        "plt.grid(True)\n",
        "plt.show()\n",
        "\n",
        "sizeRu = []\n",
        "for i in ru:\n",
        "  sizeRu.append(len(i.split()))\n",
        "plt.figure(figsize=(20,4))\n",
        "plt.title('Length of sentences in the Russian corpus')\n",
        "plt.hist(sizeRu, bins=50)\n",
        "plt.grid(True)\n",
        "plt.show()\n"
      ],
      "execution_count": null,
      "outputs": [
        {
          "output_type": "display_data",
          "data": {
            "image/png": "[encoded data removed]",
            "text/plain": [
              "<Figure size 1440x288 with 1 Axes>"
            ]
          },
          "metadata": {
            "tags": [],
            "needs_background": "light"
          }
        },
        {
          "output_type": "display_data",
          "data": {
            "image/png": "[encoded data removed]",
            "text/plain": [
              "<Figure size 1440x288 with 1 Axes>"
            ]
          },
          "metadata": {
            "tags": [],
            "needs_background": "light"
          }
        }
      ]
    },
    {
      "cell_type": "code",
      "metadata": {
        "id": "lU57eCJvni4N",
        "colab_type": "code",
        "colab": {
          "base_uri": "https://localhost:8080/",
          "height": 34
        },
        "outputId": "4ccd0f1d-a475-4b35-bc21-658d6b625ff7"
      },
      "source": [
        "min(sizeRu), max(sizeRu), len(sizeRu)"
      ],
      "execution_count": null,
      "outputs": [
        {
          "output_type": "execute_result",
          "data": {
            "text/plain": [
              "(1, 106, 81739)"
            ]
          },
          "metadata": {
            "tags": []
          },
          "execution_count": 14
        }
      ]
    },
    {
      "cell_type": "code",
      "metadata": {
        "id": "8lFIh_mmnvWG",
        "colab_type": "code",
        "colab": {
          "base_uri": "https://localhost:8080/",
          "height": 34
        },
        "outputId": "e7fd5848-2939-4dda-a3f3-b61c9e754af7"
      },
      "source": [
        "min(sizeEn), max(sizeEn), len(sizeEn)"
      ],
      "execution_count": null,
      "outputs": [
        {
          "output_type": "execute_result",
          "data": {
            "text/plain": [
              "(1, 119, 81739)"
            ]
          },
          "metadata": {
            "tags": []
          },
          "execution_count": 15
        }
      ]
    },
    {
      "cell_type": "code",
      "metadata": {
        "id": "Ci-e6QLU7Fys",
        "colab_type": "code",
        "colab": {}
      },
      "source": [
        "enc_in = [q + ' <END>' for q in ru]"
      ],
      "execution_count": null,
      "outputs": []
    },
    {
      "cell_type": "code",
      "metadata": {
        "id": "5MDg6kFG7OhQ",
        "colab_type": "code",
        "colab": {
          "base_uri": "https://localhost:8080/",
          "height": 255
        },
        "outputId": "8f42fc8e-a175-4c70-ec19-f9dc2239dbff"
      },
      "source": [
        "enc_in[:13]"
      ],
      "execution_count": null,
      "outputs": [
        {
          "output_type": "execute_result",
          "data": {
            "text/plain": [
              "['Последний ход Мушаррафа ? <END>',\n",
              " 'В отчаянном стремлении удержать власть , Первез Мушарраф отверг конституционную систему Пакистана и объявил о введении чрезвычайного положения . <END>',\n",
              " 'Искусно , хотя и бессовестно , он попытался оправдать данное действие стремлением установить стабильность и начать более эффективную борьбу с терроризмом . <END>',\n",
              " 'Это крайне далеко от действительности . <END>',\n",
              " 'Если судить по пакистанской истории , его решение установить военное положение может оказаться той самой последней каплей из пословицы , которая переполнит чашу терпения народа . <END>',\n",
              " 'Генерал Мушарраф появился на национальной сцене Пакистана <number> октября <number> года , свергнув законно избранное правительство и объявив о начале амбициозного проекта по « строительству нации » . <END>',\n",
              " 'Многие пакистанцы , лишённые иллюзий в отношении политического класса Пакистана , молчаливо согласились с его приходом к власти , думая , что он сможет что - то изменить . <END>',\n",
              " 'Террористические атаки в Америке <number> сентября <number> года позволили Мушаррафу попасть в центр внимания на международной арене , поскольку он согласился уничтожить Талибан и поддержать войну с терроризмом , возглавляемую Соединёнными Штатами . <END>',\n",
              " 'Мушарраф пресёк деятельность некоторых воинственных группировок религиозных фанатиков , действовавших на территории Пакистана , а также группировок , нападавших на индийские войска в Кашмире . <END>',\n",
              " 'В результате , Пакистан получил американскую финансовую помощь и оружие . <END>',\n",
              " 'Стараясь подтвердить свои союзнические намерения , Мушарраф ( впервые после получения Пакистаном независимости ) отправил пакистанскую армию в контролируемые племенами районы , граничащие с Афганистаном . <END>',\n",
              " 'Результаты данных операций против Талибана и Аль - Каеды оказались неоднозначными . <END>',\n",
              " 'Хотя США рассматривали Мушаррафа как сторонника изменений , он так и не добился политической легитимности в стране , а его политика считалась изобилующей противоречиями . <END>']"
            ]
          },
          "metadata": {
            "tags": []
          },
          "execution_count": 17
        }
      ]
    },
    {
      "cell_type": "code",
      "metadata": {
        "id": "uHGvTUpQ7Sg-",
        "colab_type": "code",
        "colab": {}
      },
      "source": [
        "decoder_in = ['<START> ' + a for a in en]\n",
        "decoder_out = [a + ' <END>' for a in en]"
      ],
      "execution_count": null,
      "outputs": []
    },
    {
      "cell_type": "code",
      "metadata": {
        "id": "esq-ubuj7dnd",
        "colab_type": "code",
        "colab": {
          "base_uri": "https://localhost:8080/",
          "height": 255
        },
        "outputId": "84a0b576-196d-4d3b-b6c9-7859d49bfb4f"
      },
      "source": [
        "decoder_in[:13]"
      ],
      "execution_count": null,
      "outputs": [
        {
          "output_type": "execute_result",
          "data": {
            "text/plain": [
              "['<START> Musharraf ’ s Last Act ?',\n",
              " '<START> Desperate to hold onto power , Pervez Musharraf has discarded Pakistan ’ s constitutional framework and declared a state of emergency .',\n",
              " '<START> Artfully , though shamelessly , he has tried to sell this action as an effort to bring about stability and help fight the war on terror more effectively .',\n",
              " '<START> Nothing could be further from the truth .',\n",
              " '<START> If Pakistan ’ s history is any indicator , his decision to impose martial law may prove to be the proverbial straw that breaks the camel ’ s back .',\n",
              " '<START> General Musharraf appeared on the national scene on October <number> , <number> , when he ousted an elected government and announced an ambitious “ nation - building ” project .',\n",
              " '<START> Many Pakistanis , disillusioned with Pakistan ’ s political class , remained mute , thinking that he might deliver .',\n",
              " '<START> The September <number> , <number> , terrorist attacks on America brought Musharraf into the international limelight as he agreed to ditch the Taliban and support the United States - led war on terror .',\n",
              " '<START> Musharraf clamped down on some religious militants operating inside Pakistan and also on those fighting Indian forces in Kashmir .',\n",
              " '<START> As a result , Pakistan was rewarded with American financial assistance and arms .',\n",
              " '<START> In furtherance of his re - alignment , Musharraf sent the Pakistani army into the tribal areas bordering Afghanistan for the first time since Pakistan ’ s independence .',\n",
              " '<START> Operations there against Taliban and al - Qaeda forces brought mixed results .',\n",
              " '<START> Although the US viewed Musharraf as an agent of change , he has never achieved domestic political legitimacy , and his policies were seen as rife with contradictions .']"
            ]
          },
          "metadata": {
            "tags": []
          },
          "execution_count": 19
        }
      ]
    },
    {
      "cell_type": "code",
      "metadata": {
        "id": "pU6Ps6pX7ilK",
        "colab_type": "code",
        "colab": {
          "base_uri": "https://localhost:8080/",
          "height": 255
        },
        "outputId": "97ebca12-97af-47e8-8d2f-a4b1fccc4876"
      },
      "source": [
        "decoder_out[:13]"
      ],
      "execution_count": null,
      "outputs": [
        {
          "output_type": "execute_result",
          "data": {
            "text/plain": [
              "['Musharraf ’ s Last Act ? <END>',\n",
              " 'Desperate to hold onto power , Pervez Musharraf has discarded Pakistan ’ s constitutional framework and declared a state of emergency . <END>',\n",
              " 'Artfully , though shamelessly , he has tried to sell this action as an effort to bring about stability and help fight the war on terror more effectively . <END>',\n",
              " 'Nothing could be further from the truth . <END>',\n",
              " 'If Pakistan ’ s history is any indicator , his decision to impose martial law may prove to be the proverbial straw that breaks the camel ’ s back . <END>',\n",
              " 'General Musharraf appeared on the national scene on October <number> , <number> , when he ousted an elected government and announced an ambitious “ nation - building ” project . <END>',\n",
              " 'Many Pakistanis , disillusioned with Pakistan ’ s political class , remained mute , thinking that he might deliver . <END>',\n",
              " 'The September <number> , <number> , terrorist attacks on America brought Musharraf into the international limelight as he agreed to ditch the Taliban and support the United States - led war on terror . <END>',\n",
              " 'Musharraf clamped down on some religious militants operating inside Pakistan and also on those fighting Indian forces in Kashmir . <END>',\n",
              " 'As a result , Pakistan was rewarded with American financial assistance and arms . <END>',\n",
              " 'In furtherance of his re - alignment , Musharraf sent the Pakistani army into the tribal areas bordering Afghanistan for the first time since Pakistan ’ s independence . <END>',\n",
              " 'Operations there against Taliban and al - Qaeda forces brought mixed results . <END>',\n",
              " 'Although the US viewed Musharraf as an agent of change , he has never achieved domestic political legitimacy , and his policies were seen as rife with contradictions . <END>']"
            ]
          },
          "metadata": {
            "tags": []
          },
          "execution_count": 20
        }
      ]
    },
    {
      "cell_type": "code",
      "metadata": {
        "id": "93y-GY-q6t6n",
        "colab_type": "code",
        "colab": {}
      },
      "source": [
        "num_words = 90000 # cut off only a third of the total volume of terms\n",
        "tokenizer = Tokenizer(num_words, filters='', oov_token='<UNK>') # it's important to include the \"filters\" param"
      ],
      "execution_count": null,
      "outputs": []
    },
    {
      "cell_type": "code",
      "metadata": {
        "id": "Uni3eWLo692T",
        "colab_type": "code",
        "colab": {}
      },
      "source": [
        "tokenizer.fit_on_texts(enc_in)\n",
        "tokenizer.fit_on_texts(decoder_in)\n",
        "tokenizer.fit_on_texts(decoder_out)"
      ],
      "execution_count": null,
      "outputs": []
    },
    {
      "cell_type": "code",
      "metadata": {
        "id": "tuVoo6lJ7pqI",
        "colab_type": "code",
        "colab": {
          "base_uri": "https://localhost:8080/",
          "height": 34
        },
        "outputId": "12a19a6e-19f9-4682-b9fd-0db1c5678989"
      },
      "source": [
        "len(tokenizer.index_word)"
      ],
      "execution_count": null,
      "outputs": [
        {
          "output_type": "execute_result",
          "data": {
            "text/plain": [
              "131415"
            ]
          },
          "metadata": {
            "tags": []
          },
          "execution_count": 23
        }
      ]
    },
    {
      "cell_type": "code",
      "metadata": {
        "id": "A7A-z3BXn1Q5",
        "colab_type": "code",
        "colab": {
          "base_uri": "https://localhost:8080/",
          "height": 1000
        },
        "outputId": "559f435b-33b3-4486-b88d-3a8c761ef389"
      },
      "source": [
        "tokenizer.index_word"
      ],
      "execution_count": null,
      "outputs": [
        {
          "output_type": "execute_result",
          "data": {
            "text/plain": [
              "{1: '<UNK>',\n",
              " 2: ',',\n",
              " 3: '.',\n",
              " 4: 'the',\n",
              " 5: '<end>',\n",
              " 6: 'of',\n",
              " 7: 'to',\n",
              " 8: 'and',\n",
              " 9: '<start>',\n",
              " 10: 'in',\n",
              " 11: 'a',\n",
              " 12: '-',\n",
              " 13: 'в',\n",
              " 14: 'is',\n",
              " 15: 'и',\n",
              " 16: 'that',\n",
              " 17: '<number>',\n",
              " 18: 's',\n",
              " 19: 'for',\n",
              " 20: '’',\n",
              " 21: 'as',\n",
              " 22: 'it',\n",
              " 23: 'be',\n",
              " 24: 'на',\n",
              " 25: 'are',\n",
              " 26: 'but',\n",
              " 27: 'not',\n",
              " 28: 'with',\n",
              " 29: 'не',\n",
              " 30: 'что',\n",
              " 31: 'on',\n",
              " 32: 'by',\n",
              " 33: \"'\",\n",
              " 34: 'this',\n",
              " 35: '–',\n",
              " 36: 'have',\n",
              " 37: 'will',\n",
              " 38: 'has',\n",
              " 39: 'с',\n",
              " 40: '\"',\n",
              " 41: 'from',\n",
              " 42: 'their',\n",
              " 43: 'at',\n",
              " 44: 'its',\n",
              " 45: 'they',\n",
              " 46: 'an',\n",
              " 47: 'was',\n",
              " 48: 'more',\n",
              " 49: 'or',\n",
              " 50: 'как',\n",
              " 51: ':',\n",
              " 52: '(',\n",
              " 53: ')',\n",
              " 54: 'к',\n",
              " 55: 'us',\n",
              " 56: 'world',\n",
              " 57: 'для',\n",
              " 58: 'по',\n",
              " 59: 'countries',\n",
              " 60: 'но',\n",
              " 61: 'would',\n",
              " 62: 'than',\n",
              " 63: 'can',\n",
              " 64: 'which',\n",
              " 65: 'if',\n",
              " 66: 'all',\n",
              " 67: 'это',\n",
              " 68: 'one',\n",
              " 69: 'we',\n",
              " 70: 'so',\n",
              " 71: '”',\n",
              " 72: '“',\n",
              " 73: 'europe',\n",
              " 74: '%',\n",
              " 75: 'new',\n",
              " 76: 'only',\n",
              " 77: 'no',\n",
              " 78: 'his',\n",
              " 79: 'political',\n",
              " 80: 'economic',\n",
              " 81: 'то',\n",
              " 82: '?',\n",
              " 83: 'been',\n",
              " 84: ';',\n",
              " 85: 'there',\n",
              " 86: 'из',\n",
              " 87: 'who',\n",
              " 88: 'when',\n",
              " 89: 'even',\n",
              " 90: 'were',\n",
              " 91: 'these',\n",
              " 92: 'such',\n",
              " 93: 'от',\n",
              " 94: 'other',\n",
              " 95: 'people',\n",
              " 96: 'about',\n",
              " 97: 'за',\n",
              " 98: 'government',\n",
              " 99: 'should',\n",
              " 100: 'most',\n",
              " 101: 'also',\n",
              " 102: 'а',\n",
              " 103: 'he',\n",
              " 104: 'now',\n",
              " 105: 'what',\n",
              " 106: '«',\n",
              " 107: '»',\n",
              " 108: 'european',\n",
              " 109: 'many',\n",
              " 110: 'may',\n",
              " 111: 'более',\n",
              " 112: 'years',\n",
              " 113: 'america',\n",
              " 114: 'some',\n",
              " 115: 'because',\n",
              " 116: 'must',\n",
              " 117: 'о',\n",
              " 118: 'того',\n",
              " 119: 'они',\n",
              " 120: 'eu',\n",
              " 121: 'чтобы',\n",
              " 122: 'или',\n",
              " 123: 'international',\n",
              " 124: 'russia',\n",
              " 125: 'war',\n",
              " 126: 'do',\n",
              " 127: 'country',\n",
              " 128: 'into',\n",
              " 129: 'could',\n",
              " 130: 'их',\n",
              " 131: 'china',\n",
              " 132: 'если',\n",
              " 133: 'его',\n",
              " 134: 'бы',\n",
              " 135: 'over',\n",
              " 136: 'может',\n",
              " 137: 'power',\n",
              " 138: 'policy',\n",
              " 139: 'much',\n",
              " 140: 'time',\n",
              " 141: 'them',\n",
              " 142: 'время',\n",
              " 143: 'также',\n",
              " 144: 'president',\n",
              " 145: 'все',\n",
              " 146: 'between',\n",
              " 147: 'had',\n",
              " 148: 'our',\n",
              " 149: 'сша',\n",
              " 150: 'those',\n",
              " 151: 'long',\n",
              " 152: 'first',\n",
              " 153: 'i',\n",
              " 154: 'state',\n",
              " 155: 'after',\n",
              " 156: 'against',\n",
              " 157: 'так',\n",
              " 158: 'во',\n",
              " 159: 'up',\n",
              " 160: 'states',\n",
              " 161: 'growth',\n",
              " 162: 'out',\n",
              " 163: 'public',\n",
              " 164: 'global',\n",
              " 165: 'является',\n",
              " 166: 'two',\n",
              " 167: 'like',\n",
              " 168: 'он',\n",
              " 169: 'которые',\n",
              " 170: 'economy',\n",
              " 171: 'только',\n",
              " 172: 'том',\n",
              " 173: 'же',\n",
              " 174: 'well',\n",
              " 175: 'while',\n",
              " 176: 'когда',\n",
              " 177: 'iraq',\n",
              " 178: 'any',\n",
              " 179: 'market',\n",
              " 180: 'страны',\n",
              " 181: 'both',\n",
              " 182: 'чем',\n",
              " 183: 'indeed',\n",
              " 184: 'будет',\n",
              " 185: 'american',\n",
              " 186: 'today',\n",
              " 187: 'how',\n",
              " 188: 'year',\n",
              " 189: 'мы',\n",
              " 190: 'way',\n",
              " 191: 'social',\n",
              " 192: 'bush',\n",
              " 193: 'foreign',\n",
              " 194: 'было',\n",
              " 195: 'military',\n",
              " 196: 'security',\n",
              " 197: 'national',\n",
              " 198: 'make',\n",
              " 199: 'where',\n",
              " 200: 'financial',\n",
              " 201: 'system',\n",
              " 202: 'high',\n",
              " 203: 'до',\n",
              " 204: 'democracy',\n",
              " 205: 'стран',\n",
              " 206: 'trade',\n",
              " 207: 'too',\n",
              " 208: 'human',\n",
              " 209: 'еще',\n",
              " 210: 'даже',\n",
              " 211: 'быть',\n",
              " 212: 'change',\n",
              " 213: 'own',\n",
              " 214: 'less',\n",
              " 215: 'должны',\n",
              " 216: 'yet',\n",
              " 217: 'union',\n",
              " 218: 'больше',\n",
              " 219: 'last',\n",
              " 220: 'right',\n",
              " 221: 'since',\n",
              " 222: 'rights',\n",
              " 223: 'support',\n",
              " 224: 'need',\n",
              " 225: 'bank',\n",
              " 226: 'при',\n",
              " 227: 'могут',\n",
              " 228: 'without',\n",
              " 229: 'become',\n",
              " 230: 'same',\n",
              " 231: 'central',\n",
              " 232: 'у',\n",
              " 233: 'does',\n",
              " 234: 'united',\n",
              " 235: 'just',\n",
              " 236: 'development',\n",
              " 237: 'oil',\n",
              " 238: 'being',\n",
              " 239: 'far',\n",
              " 240: 'interest',\n",
              " 241: 'rates',\n",
              " 242: 'future',\n",
              " 243: 'между',\n",
              " 244: 'germany',\n",
              " 245: 'however',\n",
              " 246: 'однако',\n",
              " 247: 'года',\n",
              " 248: 'under',\n",
              " 249: 'still',\n",
              " 250: 'then',\n",
              " 251: 'party',\n",
              " 252: 'real',\n",
              " 253: 'markets',\n",
              " 254: 't',\n",
              " 255: 'important',\n",
              " 256: 'did',\n",
              " 257: 'лет',\n",
              " 258: 'made',\n",
              " 259: 'были',\n",
              " 260: 'после',\n",
              " 261: 'israel',\n",
              " 262: 'году',\n",
              " 263: 'france',\n",
              " 264: 'ес',\n",
              " 265: 'leaders',\n",
              " 266: 'cannot',\n",
              " 267: 'example',\n",
              " 268: 'term',\n",
              " 269: 'good',\n",
              " 270: 'course',\n",
              " 271: 'governments',\n",
              " 272: 'poor',\n",
              " 273: 'policies',\n",
              " 274: 'through',\n",
              " 275: 'тем',\n",
              " 276: 'work',\n",
              " 277: 'before',\n",
              " 278: 'ее',\n",
              " 279: 'democratic',\n",
              " 280: 'often',\n",
              " 281: 'образом',\n",
              " 282: 'part',\n",
              " 283: 'former',\n",
              " 284: 'past',\n",
              " 285: 'might',\n",
              " 286: 'east',\n",
              " 287: 'end',\n",
              " 288: 'recent',\n",
              " 289: 'rate',\n",
              " 290: 'law',\n",
              " 291: 'iran',\n",
              " 292: 'prices',\n",
              " 293: 'этого',\n",
              " 294: 'был',\n",
              " 295: 'another',\n",
              " 296: 'reform',\n",
              " 297: '$',\n",
              " 298: 'эти',\n",
              " 299: 'со',\n",
              " 300: 'japan',\n",
              " 301: 'better',\n",
              " 302: '`',\n",
              " 303: 'university',\n",
              " 304: 'un',\n",
              " 305: 'during',\n",
              " 306: 'take',\n",
              " 307: 'она',\n",
              " 308: 'crisis',\n",
              " 309: 'life',\n",
              " 310: 'use',\n",
              " 311: 'людей',\n",
              " 312: 'current',\n",
              " 313: 'minister',\n",
              " 314: 'capital',\n",
              " 315: 'rather',\n",
              " 316: 'members',\n",
              " 317: 'imf',\n",
              " 318: 'fact',\n",
              " 319: 'likely',\n",
              " 320: 'free',\n",
              " 321: 'problem',\n",
              " 322: 'you',\n",
              " 323: 'three',\n",
              " 324: 'large',\n",
              " 325: 'among',\n",
              " 326: 'help',\n",
              " 327: 'within',\n",
              " 328: 'why',\n",
              " 329: 'который',\n",
              " 330: 'society',\n",
              " 331: 'means',\n",
              " 332: 'west',\n",
              " 333: 'nuclear',\n",
              " 334: 'institutions',\n",
              " 335: 'very',\n",
              " 336: 'euro',\n",
              " 337: 'little',\n",
              " 338: 'middle',\n",
              " 339: 'administration',\n",
              " 340: 'few',\n",
              " 341: 'политики',\n",
              " 342: 'result',\n",
              " 343: 'будут',\n",
              " 344: 'ли',\n",
              " 345: 'peace',\n",
              " 346: 'energy',\n",
              " 347: 'including',\n",
              " 348: 'whether',\n",
              " 349: 'можно',\n",
              " 350: 'money',\n",
              " 351: 'европы',\n",
              " 352: 'process',\n",
              " 353: 'second',\n",
              " 354: 'health',\n",
              " 355: 'research',\n",
              " 356: 'member',\n",
              " 357: 'french',\n",
              " 358: 'thus',\n",
              " 359: 'others',\n",
              " 360: 'developing',\n",
              " 361: 'great',\n",
              " 362: 'таким',\n",
              " 363: 'problems',\n",
              " 364: 'кто',\n",
              " 365: 'putin',\n",
              " 366: 'против',\n",
              " 367: 'around',\n",
              " 368: 'была',\n",
              " 369: 'order',\n",
              " 370: 'странах',\n",
              " 371: 'ни',\n",
              " 372: 'уже',\n",
              " 373: 'never',\n",
              " 374: 'history',\n",
              " 375: 'я',\n",
              " 376: 'different',\n",
              " 377: 'major',\n",
              " 378: 'old',\n",
              " 379: 'сегодня',\n",
              " 380: 'case',\n",
              " 381: 'экономики',\n",
              " 382: 'ago',\n",
              " 383: 'всего',\n",
              " 384: 'politics',\n",
              " 385: 'других',\n",
              " 386: 'role',\n",
              " 387: 'seems',\n",
              " 388: 'itself',\n",
              " 389: 'этом',\n",
              " 390: 'common',\n",
              " 391: 'india',\n",
              " 392: 'мира',\n",
              " 393: 'поскольку',\n",
              " 394: 'century',\n",
              " 395: 'least',\n",
              " 396: 'western',\n",
              " 397: 'clear',\n",
              " 398: 'stability',\n",
              " 399: 'force',\n",
              " 400: 'strong',\n",
              " 401: 'exchange',\n",
              " 402: 'almost',\n",
              " 403: 'each',\n",
              " 404: 'see',\n",
              " 405: 'tax',\n",
              " 406: 'low',\n",
              " 407: 'investment',\n",
              " 408: 'moreover',\n",
              " 409: 'control',\n",
              " 410: 'based',\n",
              " 411: 'perhaps',\n",
              " 412: 'rich',\n",
              " 413: 'once',\n",
              " 414: 'professor',\n",
              " 415: 'которая',\n",
              " 416: 'risk',\n",
              " 417: 'многие',\n",
              " 418: 'come',\n",
              " 419: 'needed',\n",
              " 420: 'regime',\n",
              " 421: 'мире',\n",
              " 422: 'labor',\n",
              " 423: 'back',\n",
              " 424: 'правительства',\n",
              " 425: 'higher',\n",
              " 426: 'возможно',\n",
              " 427: 'possible',\n",
              " 428: 'economics',\n",
              " 429: 'asia',\n",
              " 430: 'anti',\n",
              " 431: 'свои',\n",
              " 432: 'inflation',\n",
              " 433: 'russian',\n",
              " 434: 'say',\n",
              " 435: 'off',\n",
              " 436: 'remains',\n",
              " 437: 'себя',\n",
              " 438: 'region',\n",
              " 439: 'например',\n",
              " 440: 'next',\n",
              " 441: 'left',\n",
              " 442: 'palestinian',\n",
              " 443: 'тех',\n",
              " 444: 'interests',\n",
              " 445: 'needs',\n",
              " 446: 'правительство',\n",
              " 447: 'этой',\n",
              " 448: 'place',\n",
              " 449: 'стороны',\n",
              " 450: 'turkey',\n",
              " 451: 'already',\n",
              " 452: 'свою',\n",
              " 453: 'этих',\n",
              " 454: 'every',\n",
              " 455: 'price',\n",
              " 456: 'longer',\n",
              " 457: 'действительно',\n",
              " 458: 'greater',\n",
              " 459: 'themselves',\n",
              " 460: 'своих',\n",
              " 461: 'council',\n",
              " 462: 'election',\n",
              " 463: 'под',\n",
              " 464: 'менее',\n",
              " 465: 'prime',\n",
              " 466: 'down',\n",
              " 467: 'nations',\n",
              " 468: 'всех',\n",
              " 469: 'власти',\n",
              " 470: 'этот',\n",
              " 471: 'small',\n",
              " 472: 'где',\n",
              " 473: 'instead',\n",
              " 474: 'private',\n",
              " 475: 'billion',\n",
              " 476: 'community',\n",
              " 477: 'him',\n",
              " 478: 'called',\n",
              " 479: 'хотя',\n",
              " 480: 'россии',\n",
              " 481: 'million',\n",
              " 482: 'population',\n",
              " 483: 'очень',\n",
              " 484: 'arab',\n",
              " 485: 'making',\n",
              " 486: 'general',\n",
              " 487: 'given',\n",
              " 488: 'point',\n",
              " 489: 'dollar',\n",
              " 490: 'такие',\n",
              " 491: 'despite',\n",
              " 492: 'forces',\n",
              " 493: 'domestic',\n",
              " 494: 'nato',\n",
              " 495: 'reforms',\n",
              " 496: 'являются',\n",
              " 497: 'true',\n",
              " 498: 'business',\n",
              " 499: 'ever',\n",
              " 500: 'chinese',\n",
              " 501: 'number',\n",
              " 502: 'terrorism',\n",
              " 503: 'войны',\n",
              " 504: 'best',\n",
              " 505: 'elections',\n",
              " 506: 'open',\n",
              " 507: 'rule',\n",
              " 508: 'although',\n",
              " 509: 'my',\n",
              " 510: 'level',\n",
              " 511: 'led',\n",
              " 512: 'go',\n",
              " 513: 'increase',\n",
              " 514: 'soviet',\n",
              " 515: '/',\n",
              " 516: 'sense',\n",
              " 517: 'short',\n",
              " 518: 'parties',\n",
              " 519: 'потому',\n",
              " 520: 'сейчас',\n",
              " 521: 'again',\n",
              " 522: 'poverty',\n",
              " 523: 'income',\n",
              " 524: 'remain',\n",
              " 525: 'hard',\n",
              " 526: 'put',\n",
              " 527: 'believe',\n",
              " 528: 'get',\n",
              " 529: 'know',\n",
              " 530: 'continue',\n",
              " 531: 'своей',\n",
              " 532: 'которых',\n",
              " 533: 'question',\n",
              " 534: 'без',\n",
              " 535: 'случае',\n",
              " 536: 'citizens',\n",
              " 537: 'non',\n",
              " 538: 'education',\n",
              " 539: 'европе',\n",
              " 540: 'безопасности',\n",
              " 541: 'growing',\n",
              " 542: 'difficult',\n",
              " 543: 'want',\n",
              " 544: 'globalization',\n",
              " 545: 'per',\n",
              " 546: 'ukraine',\n",
              " 547: 'currency',\n",
              " 548: 'science',\n",
              " 549: 'relations',\n",
              " 550: 'africa',\n",
              " 551: 'им',\n",
              " 552: 'demand',\n",
              " 553: 'companies',\n",
              " 554: 'americans',\n",
              " 555: 'нет',\n",
              " 556: 'commission',\n",
              " 557: 'некоторые',\n",
              " 558: 'used',\n",
              " 559: 'provide',\n",
              " 560: 'них',\n",
              " 561: 'early',\n",
              " 562: 'issues',\n",
              " 563: 'benefits',\n",
              " 564: 'workers',\n",
              " 565: 'set',\n",
              " 566: 'strategy',\n",
              " 567: 'enough',\n",
              " 568: 'monetary',\n",
              " 569: 'run',\n",
              " 570: 'german',\n",
              " 571: 'especially',\n",
              " 572: 'conflict',\n",
              " 573: 'recently',\n",
              " 574: 'reason',\n",
              " 575: 'view',\n",
              " 576: 'half',\n",
              " 577: 'debt',\n",
              " 578: 'оон',\n",
              " 579: 'роста',\n",
              " 580: 'люди',\n",
              " 581: 'children',\n",
              " 582: 'жизни',\n",
              " 583: 'religious',\n",
              " 584: 'values',\n",
              " 585: 'economies',\n",
              " 586: 'defense',\n",
              " 587: 'north',\n",
              " 588: 'further',\n",
              " 589: 'decades',\n",
              " 590: 'issue',\n",
              " 591: 'violence',\n",
              " 592: 'другие',\n",
              " 593: 'costs',\n",
              " 594: 'человека',\n",
              " 595: 'face',\n",
              " 596: 'америки',\n",
              " 597: 'women',\n",
              " 598: 'lead',\n",
              " 599: 'always',\n",
              " 600: 'таких',\n",
              " 601: 'проблемы',\n",
              " 602: 'есть',\n",
              " 603: 'here',\n",
              " 604: 'home',\n",
              " 605: 'day',\n",
              " 606: 'лишь',\n",
              " 607: 'big',\n",
              " 608: 'simply',\n",
              " 609: 'terms',\n",
              " 610: 'self',\n",
              " 611: 'resources',\n",
              " 612: 'должен',\n",
              " 613: 'majority',\n",
              " 614: 'south',\n",
              " 615: 'serious',\n",
              " 616: 'efforts',\n",
              " 617: 'information',\n",
              " 618: 'населения',\n",
              " 619: 'though',\n",
              " 620: 'freedom',\n",
              " 621: 'groups',\n",
              " 622: 'korea',\n",
              " 623: 'должна',\n",
              " 624: 'success',\n",
              " 625: 'key',\n",
              " 626: 'fiscal',\n",
              " 627: 'find',\n",
              " 628: 'times',\n",
              " 629: 'nothing',\n",
              " 630: 'particularly',\n",
              " 631: 'cost',\n",
              " 632: 'europeans',\n",
              " 633: 'отношении',\n",
              " 634: 'несмотря',\n",
              " 635: 'которой',\n",
              " 636: 'мере',\n",
              " 637: 'civil',\n",
              " 638: 'think',\n",
              " 639: 'modern',\n",
              " 640: 'gdp',\n",
              " 641: 'corruption',\n",
              " 642: 'action',\n",
              " 643: 'opposition',\n",
              " 644: 'changes',\n",
              " 645: 'nor',\n",
              " 646: 'form',\n",
              " 647: 'climate',\n",
              " 648: 'экономического',\n",
              " 649: 'мир',\n",
              " 650: 'banks',\n",
              " 651: 'third',\n",
              " 652: 'государства',\n",
              " 653: 'british',\n",
              " 654: 'local',\n",
              " 655: 'weapons',\n",
              " 656: 'один',\n",
              " 657: 'politicians',\n",
              " 658: 'рост',\n",
              " 659: 'israeli',\n",
              " 660: 'часто',\n",
              " 661: 'powerful',\n",
              " 662: 'budget',\n",
              " 663: 'seem',\n",
              " 664: 'effective',\n",
              " 665: 'until',\n",
              " 666: 'value',\n",
              " 667: 'hope',\n",
              " 668: 'либо',\n",
              " 669: 'constitution',\n",
              " 670: 'threat',\n",
              " 671: 'said',\n",
              " 672: 'able',\n",
              " 673: 'seen',\n",
              " 674: 'spending',\n",
              " 675: 'многих',\n",
              " 676: 'такой',\n",
              " 677: 'aid',\n",
              " 678: 'над',\n",
              " 679: 'большинство',\n",
              " 680: 'decision',\n",
              " 681: 'program',\n",
              " 682: 'done',\n",
              " 683: 'revolution',\n",
              " 684: 'turn',\n",
              " 685: 'заключается',\n",
              " 686: 'something',\n",
              " 687: 'rise',\n",
              " 688: 'islamic',\n",
              " 689: 'decade',\n",
              " 690: 'просто',\n",
              " 691: 'treaty',\n",
              " 692: 'особенно',\n",
              " 693: 'create',\n",
              " 694: 'matter',\n",
              " 695: 'services',\n",
              " 696: 'президент',\n",
              " 697: 'regional',\n",
              " 698: 'look',\n",
              " 699: 'whose',\n",
              " 700: 'lack',\n",
              " 701: 'parliament',\n",
              " 702: 'мвф',\n",
              " 703: 'развития',\n",
              " 704: 'fear',\n",
              " 705: 'increasingly',\n",
              " 706: 'together',\n",
              " 707: 'политика',\n",
              " 708: 'именно',\n",
              " 709: 'idea',\n",
              " 710: 'group',\n",
              " 711: 'several',\n",
              " 712: 'taken',\n",
              " 713: 'необходимо',\n",
              " 714: 'системы',\n",
              " 715: 'debate',\n",
              " 716: 'буша',\n",
              " 717: 'britain',\n",
              " 718: 'ways',\n",
              " 719: 'poland',\n",
              " 720: 'similar',\n",
              " 721: 'результате',\n",
              " 722: 'mexico',\n",
              " 723: 'rules',\n",
              " 724: 'эта',\n",
              " 725: 'makes',\n",
              " 726: 'должно',\n",
              " 727: 'hamas',\n",
              " 728: 'пор',\n",
              " 729: 'muslim',\n",
              " 730: 'fall',\n",
              " 731: 'necessary',\n",
              " 732: 'conditions',\n",
              " 733: 'сделать',\n",
              " 734: 'существует',\n",
              " 735: 'give',\n",
              " 736: 'full',\n",
              " 737: 'vote',\n",
              " 738: 'pay',\n",
              " 739: 'bring',\n",
              " 740: 'leader',\n",
              " 741: 'leadership',\n",
              " 742: 'х',\n",
              " 743: 'перед',\n",
              " 744: 'death',\n",
              " 745: 'either',\n",
              " 746: 'across',\n",
              " 747: 'jobs',\n",
              " 748: 'integration',\n",
              " 749: 'об',\n",
              " 750: 'failed',\n",
              " 751: 'technology',\n",
              " 752: 'sector',\n",
              " 753: 'cause',\n",
              " 754: 'евро',\n",
              " 755: 'single',\n",
              " 756: 'became',\n",
              " 757: 'agreement',\n",
              " 758: 'китая',\n",
              " 759: 'конечно',\n",
              " 760: 'influence',\n",
              " 761: 'th',\n",
              " 762: 'unemployment',\n",
              " 763: 'которое',\n",
              " 764: 'argentina',\n",
              " 765: 'слишком',\n",
              " 766: 'communist',\n",
              " 767: 'течение',\n",
              " 768: '&',\n",
              " 769: 'her',\n",
              " 770: 'potential',\n",
              " 771: 'scientific',\n",
              " 772: 'position',\n",
              " 773: 'developed',\n",
              " 774: 'away',\n",
              " 775: 'share',\n",
              " 776: 'increased',\n",
              " 777: 'партии',\n",
              " 778: 'found',\n",
              " 779: 'keep',\n",
              " 780: 'return',\n",
              " 781: 'start',\n",
              " 782: 'failure',\n",
              " 783: 'young',\n",
              " 784: 'вопрос',\n",
              " 785: 'challenge',\n",
              " 786: 'liberal',\n",
              " 787: 'силы',\n",
              " 788: 'президента',\n",
              " 789: 'systems',\n",
              " 790: 'kosovo',\n",
              " 791: 'возможность',\n",
              " 792: 'legal',\n",
              " 793: 'себе',\n",
              " 794: 'beyond',\n",
              " 795: 'according',\n",
              " 796: 'toward',\n",
              " 797: 'демократии',\n",
              " 798: 'ираке',\n",
              " 799: 'behind',\n",
              " 800: 'individual',\n",
              " 801: 'five',\n",
              " 802: 'post',\n",
              " 803: 'center',\n",
              " 804: 'пока',\n",
              " 805: 'levels',\n",
              " 806: 'stock',\n",
              " 807: 'китай',\n",
              " 808: 'membership',\n",
              " 809: 'германии',\n",
              " 810: 'evidence',\n",
              " 811: 'назад',\n",
              " 812: 'al',\n",
              " 813: 'basic',\n",
              " 814: 'fundamental',\n",
              " 815: 'progress',\n",
              " 816: 'later',\n",
              " 817: 'requires',\n",
              " 818: 'moral',\n",
              " 819: 'lives',\n",
              " 820: 'live',\n",
              " 821: 'nation',\n",
              " 822: 'afghanistan',\n",
              " 823: 'huge',\n",
              " 824: 'investors',\n",
              " 825: 'европа',\n",
              " 826: 'culture',\n",
              " 827: 'things',\n",
              " 828: 'soon',\n",
              " 829: 'competition',\n",
              " 830: 'approach',\n",
              " 831: 'latin',\n",
              " 832: 'несколько',\n",
              " 833: 'areas',\n",
              " 834: 'leading',\n",
              " 835: 'lower',\n",
              " 836: 'cooperation',\n",
              " 837: 'стране',\n",
              " 838: 'имеет',\n",
              " 839: 'project',\n",
              " 840: 'living',\n",
              " 841: 'lost',\n",
              " 842: 'attacks',\n",
              " 843: 'officials',\n",
              " 844: 'main',\n",
              " 845: 'doing',\n",
              " 846: 'гораздо',\n",
              " 847: 'act',\n",
              " 848: 'side',\n",
              " 849: 'production',\n",
              " 850: 'natural',\n",
              " 851: 'terrorist',\n",
              " 852: 'bad',\n",
              " 853: 'почти',\n",
              " 854: 'created',\n",
              " 855: 'palestinians',\n",
              " 856: 'independent',\n",
              " 857: 'began',\n",
              " 858: 'rest',\n",
              " 859: 'роль',\n",
              " 860: 'situation',\n",
              " 861: 'standards',\n",
              " 862: 'deal',\n",
              " 863: 'really',\n",
              " 864: 'presidential',\n",
              " 865: 'времени',\n",
              " 866: 'four',\n",
              " 867: 'risks',\n",
              " 868: 'тому',\n",
              " 869: 'media',\n",
              " 870: 'те',\n",
              " 871: 'having',\n",
              " 872: 'everyone',\n",
              " 873: 'negotiations',\n",
              " 874: 'cultural',\n",
              " 875: 'франции',\n",
              " 876: 'мировой',\n",
              " 877: 'поэтому',\n",
              " 878: 're',\n",
              " 879: 'finance',\n",
              " 880: 'effects',\n",
              " 881: 'среди',\n",
              " 882: 'ecb',\n",
              " 883: 'fight',\n",
              " 884: 'alone',\n",
              " 885: 'working',\n",
              " 886: 'часть',\n",
              " 887: 'области',\n",
              " 888: 'won',\n",
              " 889: 'probably',\n",
              " 890: 'своего',\n",
              " 891: 'secretary',\n",
              " 892: 'уровень',\n",
              " 893: 'model',\n",
              " 894: 'access',\n",
              " 895: 'помощи',\n",
              " 896: 'clearly',\n",
              " 897: 'islam',\n",
              " 898: 'долларов',\n",
              " 899: 'собой',\n",
              " 900: 'iraqi',\n",
              " 901: 'consider',\n",
              " 902: 'всем',\n",
              " 903: 'новых',\n",
              " 904: 'italy',\n",
              " 905: 'justice',\n",
              " 906: 'don',\n",
              " 907: 'particular',\n",
              " 908: 'reduce',\n",
              " 909: 'reality',\n",
              " 910: 'saddam',\n",
              " 911: 'lebanon',\n",
              " 912: 'pressure',\n",
              " 913: 'late',\n",
              " 914: 'hand',\n",
              " 915: 'director',\n",
              " 916: 'cut',\n",
              " 917: 'care',\n",
              " 918: 'gas',\n",
              " 919: 'organization',\n",
              " 920: 'response',\n",
              " 921: 'average',\n",
              " 922: 'campaign',\n",
              " 923: 'experience',\n",
              " 924: 'court',\n",
              " 925: 'firms',\n",
              " 926: 'внимание',\n",
              " 927: 'programs',\n",
              " 928: 'confidence',\n",
              " 929: 'traditional',\n",
              " 930: 'прав',\n",
              " 931: 'consequences',\n",
              " 932: 'school',\n",
              " 933: 'independence',\n",
              " 934: 'successful',\n",
              " 935: 'политической',\n",
              " 936: 'rising',\n",
              " 937: 'политику',\n",
              " 938: 'wrong',\n",
              " 939: 'качестве',\n",
              " 940: 'политических',\n",
              " 941: 'move',\n",
              " 942: 'означает',\n",
              " 943: 'стать',\n",
              " 944: 'скорее',\n",
              " 945: 'age',\n",
              " 946: 'let',\n",
              " 947: 'authority',\n",
              " 948: 'strategic',\n",
              " 949: 'последние',\n",
              " 950: 'benefit',\n",
              " 951: 'disease',\n",
              " 952: 'goods',\n",
              " 953: 'societies',\n",
              " 954: 'конце',\n",
              " 955: 'play',\n",
              " 956: 'год',\n",
              " 957: 'employment',\n",
              " 958: 'cases',\n",
              " 959: 'popular',\n",
              " 960: 'effect',\n",
              " 961: 'job',\n",
              " 962: 'deficit',\n",
              " 963: 'одной',\n",
              " 964: 'comes',\n",
              " 965: 'раз',\n",
              " 966: 'ensure',\n",
              " 967: 'understand',\n",
              " 968: 'welfare',\n",
              " 969: 'exports',\n",
              " 970: 'mean',\n",
              " 971: 'членов',\n",
              " 972: 'нас',\n",
              " 973: 'productivity',\n",
              " 974: 'emerging',\n",
              " 975: 'months',\n",
              " 976: 'industrial',\n",
              " 977: 'eastern',\n",
              " 978: 'pakistan',\n",
              " 979: 'теперь',\n",
              " 980: 'права',\n",
              " 981: 'нам',\n",
              " 982: 'относительно',\n",
              " 983: 'environment',\n",
              " 984: 'september',\n",
              " 985: 'finally',\n",
              " 986: 'worse',\n",
              " 987: 'effort',\n",
              " 988: 'новые',\n",
              " 989: 'настоящее',\n",
              " 990: 'took',\n",
              " 991: 'came',\n",
              " 992: 'allow',\n",
              " 993: 'period',\n",
              " 994: 'имеют',\n",
              " 995: 'изменения',\n",
              " 996: 'status',\n",
              " 997: 'организации',\n",
              " 998: 'attention',\n",
              " 999: 'wealth',\n",
              " 1000: 'ten',\n",
              " ...}"
            ]
          },
          "metadata": {
            "tags": []
          },
          "execution_count": 24
        }
      ]
    },
    {
      "cell_type": "code",
      "metadata": {
        "id": "_Y0eRqNi8Vmm",
        "colab_type": "code",
        "colab": {}
      },
      "source": [
        "X_enc = tokenizer.texts_to_sequences(enc_in)"
      ],
      "execution_count": null,
      "outputs": []
    },
    {
      "cell_type": "code",
      "metadata": {
        "id": "1YWY_fELuIm2",
        "colab_type": "code",
        "colab": {
          "base_uri": "https://localhost:8080/",
          "height": 34
        },
        "outputId": "7bc587a1-b130-415d-acda-6c890a944f98"
      },
      "source": [
        "len(X_enc)"
      ],
      "execution_count": null,
      "outputs": [
        {
          "output_type": "execute_result",
          "data": {
            "text/plain": [
              "81739"
            ]
          },
          "metadata": {
            "tags": []
          },
          "execution_count": 26
        }
      ]
    },
    {
      "cell_type": "code",
      "metadata": {
        "id": "2OJNBs1g81zm",
        "colab_type": "code",
        "colab": {}
      },
      "source": [
        "X_dec = tokenizer.texts_to_sequences(decoder_in)\n",
        "Y = tokenizer.texts_to_sequences(decoder_out)"
      ],
      "execution_count": null,
      "outputs": []
    },
    {
      "cell_type": "code",
      "metadata": {
        "id": "4Id9HjcRuUk0",
        "colab_type": "code",
        "colab": {
          "base_uri": "https://localhost:8080/",
          "height": 34
        },
        "outputId": "aac0a3de-0353-4361-e37a-7fb8f8f4af47"
      },
      "source": [
        "len(X_dec)"
      ],
      "execution_count": null,
      "outputs": [
        {
          "output_type": "execute_result",
          "data": {
            "text/plain": [
              "81739"
            ]
          },
          "metadata": {
            "tags": []
          },
          "execution_count": 28
        }
      ]
    },
    {
      "cell_type": "code",
      "metadata": {
        "id": "ZHmfQTIXuX8W",
        "colab_type": "code",
        "colab": {
          "base_uri": "https://localhost:8080/",
          "height": 34
        },
        "outputId": "4f551283-56df-461c-9d31-a8366f05e076"
      },
      "source": [
        "len(Y)"
      ],
      "execution_count": null,
      "outputs": [
        {
          "output_type": "execute_result",
          "data": {
            "text/plain": [
              "81739"
            ]
          },
          "metadata": {
            "tags": []
          },
          "execution_count": 29
        }
      ]
    },
    {
      "cell_type": "code",
      "metadata": {
        "id": "pDk35JOy_V2l",
        "colab_type": "code",
        "colab": {
          "base_uri": "https://localhost:8080/",
          "height": 34
        },
        "outputId": "a77962ac-985a-4a9c-fa42-8eec6a9f0100"
      },
      "source": [
        "# Finding short sentences in the encoder\n",
        "threshold = 70\n",
        "idx_q = [len(y) < threshold for y in X_enc]\n",
        "sum(idx_q)"
      ],
      "execution_count": null,
      "outputs": [
        {
          "output_type": "execute_result",
          "data": {
            "text/plain": [
              "81576"
            ]
          },
          "metadata": {
            "tags": []
          },
          "execution_count": 30
        }
      ]
    },
    {
      "cell_type": "code",
      "metadata": {
        "colab_type": "code",
        "id": "TQQKvDR8EPvl",
        "colab": {}
      },
      "source": [
        "X_enc = np.array(X_enc)[idx_q]\n",
        "X_dec = np.array(X_dec)[idx_q]\n",
        "Y = np.array(Y)[idx_q]"
      ],
      "execution_count": null,
      "outputs": []
    },
    {
      "cell_type": "code",
      "metadata": {
        "id": "pJaV65KqxlJn",
        "colab_type": "code",
        "colab": {
          "base_uri": "https://localhost:8080/",
          "height": 34
        },
        "outputId": "a41a8453-acc4-41dc-d69b-e2aa5e1749b4"
      },
      "source": [
        "X_enc.shape, X_dec.shape, Y.shape"
      ],
      "execution_count": null,
      "outputs": [
        {
          "output_type": "execute_result",
          "data": {
            "text/plain": [
              "((81576,), (81576,), (81576,))"
            ]
          },
          "metadata": {
            "tags": []
          },
          "execution_count": 32
        }
      ]
    },
    {
      "cell_type": "code",
      "metadata": {
        "colab_type": "code",
        "id": "j4MQEM5WEPvp",
        "colab": {
          "base_uri": "https://localhost:8080/",
          "height": 34
        },
        "outputId": "27d01701-46a4-4c14-c66d-1fcf82d7755e"
      },
      "source": [
        "# Finding short sentences in the decoder\n",
        "idx_a = [len(y) < threshold for y in X_dec]\n",
        "sum(idx_a)"
      ],
      "execution_count": null,
      "outputs": [
        {
          "output_type": "execute_result",
          "data": {
            "text/plain": [
              "81418"
            ]
          },
          "metadata": {
            "tags": []
          },
          "execution_count": 33
        }
      ]
    },
    {
      "cell_type": "code",
      "metadata": {
        "colab_type": "code",
        "id": "vFdHTyUlEPvw",
        "colab": {}
      },
      "source": [
        "X_enc = X_enc[idx_a]\n",
        "X_dec = X_dec[idx_a]\n",
        "Y = Y[idx_a]"
      ],
      "execution_count": null,
      "outputs": []
    },
    {
      "cell_type": "code",
      "metadata": {
        "id": "fse2evhLyfso",
        "colab_type": "code",
        "colab": {
          "base_uri": "https://localhost:8080/",
          "height": 34
        },
        "outputId": "0cd29833-8306-4ab9-8866-5c06ca4f18e3"
      },
      "source": [
        "X_enc.shape, X_dec.shape, Y.shape"
      ],
      "execution_count": null,
      "outputs": [
        {
          "output_type": "execute_result",
          "data": {
            "text/plain": [
              "((81418,), (81418,), (81418,))"
            ]
          },
          "metadata": {
            "tags": []
          },
          "execution_count": 35
        }
      ]
    },
    {
      "cell_type": "code",
      "metadata": {
        "id": "lbBNHsH-8ezq",
        "colab_type": "code",
        "colab": {
          "base_uri": "https://localhost:8080/",
          "height": 34
        },
        "outputId": "66f5a1c2-8a2f-4f2f-cbac-9a20821cebeb"
      },
      "source": [
        "max_q_len = max([len(el) for el in X_enc]); max_q_len"
      ],
      "execution_count": null,
      "outputs": [
        {
          "output_type": "execute_result",
          "data": {
            "text/plain": [
              "69"
            ]
          },
          "metadata": {
            "tags": []
          },
          "execution_count": 36
        }
      ]
    },
    {
      "cell_type": "code",
      "metadata": {
        "id": "xMUm4x7r8ga3",
        "colab_type": "code",
        "colab": {
          "base_uri": "https://localhost:8080/",
          "height": 34
        },
        "outputId": "6c8c319e-1c30-4f54-c7f7-f3734beaef77"
      },
      "source": [
        "max_a_len = max([len(el) for el in X_dec]); max_a_len"
      ],
      "execution_count": null,
      "outputs": [
        {
          "output_type": "execute_result",
          "data": {
            "text/plain": [
              "69"
            ]
          },
          "metadata": {
            "tags": []
          },
          "execution_count": 37
        }
      ]
    },
    {
      "cell_type": "code",
      "metadata": {
        "id": "lQ4jCBPQ8-TI",
        "colab_type": "code",
        "colab": {}
      },
      "source": [
        "X_enc = pad_sequences(X_enc, max_q_len, padding='post', truncating='post')\n",
        "X_dec = pad_sequences(X_dec, max_a_len, padding='post', truncating='post')\n",
        "Y = pad_sequences(Y, max_a_len, padding='post', truncating='post')"
      ],
      "execution_count": null,
      "outputs": []
    },
    {
      "cell_type": "code",
      "metadata": {
        "id": "7MuQ_t_f53CZ",
        "colab_type": "code",
        "colab": {
          "base_uri": "https://localhost:8080/",
          "height": 67
        },
        "outputId": "b5165951-f7a6-41ec-88cf-e339b61ccaa7"
      },
      "source": [
        "print(X_enc.shape)\n",
        "print(X_dec.shape)\n",
        "print(Y.shape)"
      ],
      "execution_count": null,
      "outputs": [
        {
          "output_type": "stream",
          "text": [
            "(81418, 69)\n",
            "(81418, 69)\n",
            "(81418, 69)\n"
          ],
          "name": "stdout"
        }
      ]
    },
    {
      "cell_type": "code",
      "metadata": {
        "id": "hy_AwMkjzfaA",
        "colab_type": "code",
        "colab": {
          "base_uri": "https://localhost:8080/",
          "height": 689
        },
        "outputId": "b80b67dd-c276-4d3e-eb07-246449c7937d"
      },
      "source": [
        "X_enc[5:10]"
      ],
      "execution_count": null,
      "outputs": [
        {
          "output_type": "execute_result",
          "data": {
            "text/plain": [
              "array([[ 8746,  8993, 10513,    24,  2508, 18728,  5279,    17, 10167,\n",
              "           17,   247,     2, 62468, 24641, 20624,   446,    15, 20136,\n",
              "          117,  1907, 41944,  4727,    58,   106, 22463,  4065,   107,\n",
              "            3,     5,     0,     0,     0,     0,     0,     0,     0,\n",
              "            0,     0,     0,     0,     0,     0,     0,     0,     0,\n",
              "            0,     0,     0,     0,     0,     0,     0,     0,     0,\n",
              "            0,     0,     0,     0,     0,     0,     0,     0,     0,\n",
              "            0,     0,     0,     0,     0,     0],\n",
              "       [  417, 54474,     2, 87353, 22464,    13,   633,  1778,  5618,\n",
              "         5279,     2, 41945,  9886,    39,   133, 19156,    54,   469,\n",
              "            2, 31379,     2,    30,   168,  1703,    30,    12,    81,\n",
              "         2785,     3,     5,     0,     0,     0,     0,     0,     0,\n",
              "            0,     0,     0,     0,     0,     0,     0,     0,     0,\n",
              "            0,     0,     0,     0,     0,     0,     0,     0,     0,\n",
              "            0,     0,     0,     0,     0,     0,     0,     0,     0,\n",
              "            0,     0,     0,     0,     0,     0],\n",
              "       [ 6246,  7347,    13,  1168,    17,  2743,    17,   247,  7928,\n",
              "        31380, 15479,    13,  6156,  2489,    24,  1554,  6384,     2,\n",
              "          393,   168, 13987,  6510, 15731,    15,  3711,  1892,    39,\n",
              "         2905,     2, 41946, 26554,  4545,     3,     5,     0,     0,\n",
              "            0,     0,     0,     0,     0,     0,     0,     0,     0,\n",
              "            0,     0,     0,     0,     0,     0,     0,     0,     0,\n",
              "            0,     0,     0,     0,     0,     0,     0,     0,     0,\n",
              "            0,     0,     0,     0,     0,     0],\n",
              "       [ 8993, 87354,  3079,  1401, 31381, 12249,  4435, 23899,     2,\n",
              "        54475,    24,  2586,  5279,     2,   102,   143, 12249,     2,\n",
              "        87355,    24, 15480,  3998,    13, 18729,     3,     5,     0,\n",
              "            0,     0,     0,     0,     0,     0,     0,     0,     0,\n",
              "            0,     0,     0,     0,     0,     0,     0,     0,     0,\n",
              "            0,     0,     0,     0,     0,     0,     0,     0,     0,\n",
              "            0,     0,     0,     0,     0,     0,     0,     0,     0,\n",
              "            0,     0,     0,     0,     0,     0],\n",
              "       [   13,   721,     2,  6340,  4888,  8577,  4604,  1233,    15,\n",
              "         3166,     3,     5,     0,     0,     0,     0,     0,     0,\n",
              "            0,     0,     0,     0,     0,     0,     0,     0,     0,\n",
              "            0,     0,     0,     0,     0,     0,     0,     0,     0,\n",
              "            0,     0,     0,     0,     0,     0,     0,     0,     0,\n",
              "            0,     0,     0,     0,     0,     0,     0,     0,     0,\n",
              "            0,     0,     0,     0,     0,     0,     0,     0,     0,\n",
              "            0,     0,     0,     0,     0,     0]], dtype=int32)"
            ]
          },
          "metadata": {
            "tags": []
          },
          "execution_count": 40
        }
      ]
    },
    {
      "cell_type": "code",
      "metadata": {
        "id": "m3Fzcgmyzvxi",
        "colab_type": "code",
        "colab": {
          "base_uri": "https://localhost:8080/",
          "height": 689
        },
        "outputId": "7ab0ddce-df7c-4be8-f8a1-f8c30702f058"
      },
      "source": [
        "X_dec[5:10]"
      ],
      "execution_count": null,
      "outputs": [
        {
          "output_type": "execute_result",
          "data": {
            "text/plain": [
              "array([[    9,   486,  2512,  2751,    31,     4,   197,  5044,    31,\n",
              "         2327,    17,     2,    17,     2,    88,   103, 13079,    46,\n",
              "         1218,    98,     8,  2307,    46,  3822,    72,   821,    12,\n",
              "         1088,    71,   839,     3,     0,     0,     0,     0,     0,\n",
              "            0,     0,     0,     0,     0,     0,     0,     0,     0,\n",
              "            0,     0,     0,     0,     0,     0,     0,     0,     0,\n",
              "            0,     0,     0,     0,     0,     0,     0,     0,     0,\n",
              "            0,     0,     0,     0,     0,     0],\n",
              "       [    9,   109, 19554,     2, 21141,    28,   978,    20,    18,\n",
              "           79,  1366,     2,  2027, 33033,     2,  1329,    16,   103,\n",
              "          285,  2230,     3,     0,     0,     0,     0,     0,     0,\n",
              "            0,     0,     0,     0,     0,     0,     0,     0,     0,\n",
              "            0,     0,     0,     0,     0,     0,     0,     0,     0,\n",
              "            0,     0,     0,     0,     0,     0,     0,     0,     0,\n",
              "            0,     0,     0,     0,     0,     0,     0,     0,     0,\n",
              "            0,     0,     0,     0,     0,     0],\n",
              "       [    9,     4,   984,    17,     2,    17,     2,   851,   842,\n",
              "           31,   113,  1054,  2512,   128,     4,   123, 39380,    21,\n",
              "          103,  1867,     7, 25481,     4,  2139,     8,   223,     4,\n",
              "          234,   160,    12,   511,   125,    31,  1459,     3,     0,\n",
              "            0,     0,     0,     0,     0,     0,     0,     0,     0,\n",
              "            0,     0,     0,     0,     0,     0,     0,     0,     0,\n",
              "            0,     0,     0,     0,     0,     0,     0,     0,     0,\n",
              "            0,     0,     0,     0,     0,     0],\n",
              "       [    9,  2512, 50267,   466,    31,   114,   583,  6581,  6073,\n",
              "         2796,   978,     8,   101,    31,   150,  1535,  2426,   492,\n",
              "           10,  5134,     3,     0,     0,     0,     0,     0,     0,\n",
              "            0,     0,     0,     0,     0,     0,     0,     0,     0,\n",
              "            0,     0,     0,     0,     0,     0,     0,     0,     0,\n",
              "            0,     0,     0,     0,     0,     0,     0,     0,     0,\n",
              "            0,     0,     0,     0,     0,     0,     0,     0,     0,\n",
              "            0,     0,     0,     0,     0,     0],\n",
              "       [    9,    21,    11,   342,     2,   978,    47, 13080,    28,\n",
              "          185,   200,  1010,     8,  1750,     3,     0,     0,     0,\n",
              "            0,     0,     0,     0,     0,     0,     0,     0,     0,\n",
              "            0,     0,     0,     0,     0,     0,     0,     0,     0,\n",
              "            0,     0,     0,     0,     0,     0,     0,     0,     0,\n",
              "            0,     0,     0,     0,     0,     0,     0,     0,     0,\n",
              "            0,     0,     0,     0,     0,     0,     0,     0,     0,\n",
              "            0,     0,     0,     0,     0,     0]], dtype=int32)"
            ]
          },
          "metadata": {
            "tags": []
          },
          "execution_count": 41
        }
      ]
    },
    {
      "cell_type": "code",
      "metadata": {
        "id": "I7Lc92Udz008",
        "colab_type": "code",
        "colab": {
          "base_uri": "https://localhost:8080/",
          "height": 689
        },
        "outputId": "5c1b6309-66a1-4978-a196-380386f93d35"
      },
      "source": [
        "Y[5:10]"
      ],
      "execution_count": null,
      "outputs": [
        {
          "output_type": "execute_result",
          "data": {
            "text/plain": [
              "array([[  486,  2512,  2751,    31,     4,   197,  5044,    31,  2327,\n",
              "           17,     2,    17,     2,    88,   103, 13079,    46,  1218,\n",
              "           98,     8,  2307,    46,  3822,    72,   821,    12,  1088,\n",
              "           71,   839,     3,     5,     0,     0,     0,     0,     0,\n",
              "            0,     0,     0,     0,     0,     0,     0,     0,     0,\n",
              "            0,     0,     0,     0,     0,     0,     0,     0,     0,\n",
              "            0,     0,     0,     0,     0,     0,     0,     0,     0,\n",
              "            0,     0,     0,     0,     0,     0],\n",
              "       [  109, 19554,     2, 21141,    28,   978,    20,    18,    79,\n",
              "         1366,     2,  2027, 33033,     2,  1329,    16,   103,   285,\n",
              "         2230,     3,     5,     0,     0,     0,     0,     0,     0,\n",
              "            0,     0,     0,     0,     0,     0,     0,     0,     0,\n",
              "            0,     0,     0,     0,     0,     0,     0,     0,     0,\n",
              "            0,     0,     0,     0,     0,     0,     0,     0,     0,\n",
              "            0,     0,     0,     0,     0,     0,     0,     0,     0,\n",
              "            0,     0,     0,     0,     0,     0],\n",
              "       [    4,   984,    17,     2,    17,     2,   851,   842,    31,\n",
              "          113,  1054,  2512,   128,     4,   123, 39380,    21,   103,\n",
              "         1867,     7, 25481,     4,  2139,     8,   223,     4,   234,\n",
              "          160,    12,   511,   125,    31,  1459,     3,     5,     0,\n",
              "            0,     0,     0,     0,     0,     0,     0,     0,     0,\n",
              "            0,     0,     0,     0,     0,     0,     0,     0,     0,\n",
              "            0,     0,     0,     0,     0,     0,     0,     0,     0,\n",
              "            0,     0,     0,     0,     0,     0],\n",
              "       [ 2512, 50267,   466,    31,   114,   583,  6581,  6073,  2796,\n",
              "          978,     8,   101,    31,   150,  1535,  2426,   492,    10,\n",
              "         5134,     3,     5,     0,     0,     0,     0,     0,     0,\n",
              "            0,     0,     0,     0,     0,     0,     0,     0,     0,\n",
              "            0,     0,     0,     0,     0,     0,     0,     0,     0,\n",
              "            0,     0,     0,     0,     0,     0,     0,     0,     0,\n",
              "            0,     0,     0,     0,     0,     0,     0,     0,     0,\n",
              "            0,     0,     0,     0,     0,     0],\n",
              "       [   21,    11,   342,     2,   978,    47, 13080,    28,   185,\n",
              "          200,  1010,     8,  1750,     3,     5,     0,     0,     0,\n",
              "            0,     0,     0,     0,     0,     0,     0,     0,     0,\n",
              "            0,     0,     0,     0,     0,     0,     0,     0,     0,\n",
              "            0,     0,     0,     0,     0,     0,     0,     0,     0,\n",
              "            0,     0,     0,     0,     0,     0,     0,     0,     0,\n",
              "            0,     0,     0,     0,     0,     0,     0,     0,     0,\n",
              "            0,     0,     0,     0,     0,     0]], dtype=int32)"
            ]
          },
          "metadata": {
            "tags": []
          },
          "execution_count": 42
        }
      ]
    },
    {
      "cell_type": "markdown",
      "metadata": {
        "id": "00DRIod5vqsR",
        "colab_type": "text"
      },
      "source": [
        "# Modelling function"
      ]
    },
    {
      "cell_type": "code",
      "metadata": {
        "colab_type": "code",
        "id": "SapUO2jFvjz0",
        "colab": {}
      },
      "source": [
        "def decode_sequence(inp_str): \n",
        "  \"\"\"\n",
        "  Displays the generated answer to the question.\n",
        "  Passing a string to the function\n",
        "  Returning a string from the function\n",
        "  \"\"\"\n",
        "  inp_str = inp_str + ' <end>'\n",
        "  example = pad_sequences(tokenizer.texts_to_sequences([inp_str]), maxlen=max_q_len, padding='post')\n",
        "\n",
        "  # returning the state [h, c]\n",
        "  states_value, attention = encoder_model.predict(example)\n",
        "\n",
        "  # creating an array of length pad+1\n",
        "  target_token = np.zeros((1,1))\n",
        "  # assigning the value \"start\" to the first word\n",
        "  target_token[0,0] = tokenizer.word_index['<start>']\n",
        "\n",
        "  # stop flag\n",
        "  Flag = False\n",
        "  # reset the sentence\n",
        "  decoded_sentence = ''\n",
        "\n",
        "  while not Flag:\n",
        "    pred, *states_value = decoder_model.predict([attention, target_token] + states_value)\n",
        "    \n",
        "    # translating the decoded token into a word \n",
        "    token_pred = np.argmax(pred, axis=-1) #\n",
        "    #print(token_pred)\n",
        "    \n",
        "    sampled_word = tokenizer.index_word[int(token_pred)]\n",
        "    #print(sampled_word)\n",
        "    \n",
        "    # if a sentence end tag is encountered or its length is exceeded\n",
        "    if sampled_word == '<end>':\n",
        "      Flag = True\n",
        "    else:\n",
        "      decoded_sentence += sampled_word + ' '\n",
        "\n",
        "      if len(decoded_sentence.split()) > max_a_len:\n",
        "        Flag = True\n",
        "      \n",
        "    target_token[0,0] = token_pred\n",
        "\n",
        "  print('Answer:', decoded_sentence[:-6]) "
      ],
      "execution_count": null,
      "outputs": []
    },
    {
      "cell_type": "code",
      "metadata": {
        "colab_type": "code",
        "id": "QoYtbcuZvj0E",
        "colab": {}
      },
      "source": [
        "def pred_train(inp_str): \n",
        "  \"\"\"\n",
        "  Calculating errors,\n",
        "  returns a sequence of tokens, as indecoder_out\n",
        "  \"\"\"\n",
        "\n",
        "  # returning the state [h, c]\n",
        "  states_value, attention = encoder_model.predict(inp_str)\n",
        "\n",
        "  # creating an array of length pad+1\n",
        "  target_token = np.zeros((1,1))\n",
        "  # assigning the value \"start\" to the first word\n",
        "  target_token[0,0] = tokenizer.word_index['<start>']\n",
        "  # stop flag\n",
        "  Flag = False\n",
        "  # reset the sentence\n",
        "  decoded_sentence = []\n",
        "\n",
        "  while not Flag:\n",
        "    pred, *states_value = decoder_model.predict([attention, target_token] + states_value)\n",
        "    \n",
        "    token_pred = np.argmax(pred, axis=-1) #\n",
        "\n",
        "    if token_pred == tokenizer.word_index['<end>']:\n",
        "      Flag = True\n",
        "    else:\n",
        "      decoded_sentence.append(token_pred[0][0])\n",
        "\n",
        "      if len(decoded_sentence) > max_a_len:\n",
        "        Flag = True\n",
        "      \n",
        "    target_token[0,0] = token_pred\n",
        "\n",
        "  return decoded_sentence"
      ],
      "execution_count": null,
      "outputs": []
    },
    {
      "cell_type": "code",
      "metadata": {
        "id": "nmkIDcsF4aji",
        "colab_type": "code",
        "colab": {}
      },
      "source": [
        "# Compare pred и Y \n",
        "def metric(n=100, X_enc=X_enc, Y=Y, max_q_len=max_q_len):\n",
        "  \"\"\"\n",
        "  Accuracy assessment, how many correctly predicted tokens\n",
        "  \"\"\"\n",
        "\n",
        "  pred = []\n",
        "  summ = []\n",
        "  for i in range(n):\n",
        "    pred.append(pred_train(X_enc[None, i]))\n",
        "  pred_1 = pad_sequences(pred, maxlen=max_q_len, padding='post')\n",
        "  acc = Accuracy()\n",
        "  acc.update_state(pred_1, Y[:n])\n",
        "  return acc.result().numpy()"
      ],
      "execution_count": null,
      "outputs": []
    },
    {
      "cell_type": "code",
      "metadata": {
        "id": "1vmSmhhKRN0f",
        "colab_type": "code",
        "colab": {}
      },
      "source": [
        "def prepare_text(text):\n",
        "  text = highlight_chars(text)\n",
        "  text_of_lexemes = ' '.join(text.split(' '))\n",
        "  return text_of_lexemes"
      ],
      "execution_count": null,
      "outputs": []
    },
    {
      "cell_type": "code",
      "metadata": {
        "id": "OiaSWz1lMlTn",
        "colab_type": "code",
        "colab": {}
      },
      "source": [
        "def att_for_plot(sentence, enc_seq_len = 69, dec_seq_len = 69): \n",
        "  \"\"\"\n",
        "  Function for the attention matrix\n",
        "  sentence = string (query)\n",
        "  enc_seq_len = encoder length\n",
        "  dec_seq_len = decoder length\n",
        "  returns the not transposed attention matrix, \n",
        "  returns the encoder and decoder strings\n",
        "  \"\"\"\n",
        "\n",
        "  attention_plot = np.zeros((enc_seq_len, dec_seq_len))\n",
        "\n",
        "  res_str = sentence + ' <end>'\n",
        "  example = pad_sequences(tokenizer.texts_to_sequences([res_str]), maxlen=max_q_len, padding='post')\n",
        "\n",
        "  # returning the state [h, c]\n",
        "  states_value, attention = encoder_model_.predict(example)\n",
        "\n",
        "  # creating an array of length pad+1\n",
        "  target_token = np.zeros((1,1))\n",
        "  # assigning the value \"start\" to the first word\n",
        "  target_token[0,0] = tokenizer.word_index['<start>']\n",
        "\n",
        "  # stop flag\n",
        "  Flag = False\n",
        "  # reset the sentence\n",
        "  result = ''\n",
        "  for t in range(enc_seq_len+1):\n",
        "    if not Flag:\n",
        "      pred, att, *states_value = decoder_model_.predict([attention, target_token] + states_value)\n",
        "      \n",
        "      attention_plot[t] = att\n",
        "      # print(att)\n",
        "\n",
        "      # translating the decoded token into the word\n",
        "      token_pred = np.argmax(pred, axis=-1) #\n",
        "      #print(token_pred)\n",
        "      \n",
        "      sampled_word = tokenizer.index_word[int(token_pred)]\n",
        "      \n",
        "      # if the end tag arrives or the sentence length is exceeded\n",
        "      if sampled_word == '<end>':\n",
        "        Flag = True\n",
        "      else:\n",
        "        result += sampled_word + ' '\n",
        "\n",
        "        if len(result.split()) > max_a_len:\n",
        "          Flag = True\n",
        "        \n",
        "      target_token[0,0] = token_pred\n",
        "  return attention_plot, result[:-1], res_str\n"
      ],
      "execution_count": null,
      "outputs": []
    },
    {
      "cell_type": "code",
      "metadata": {
        "id": "wObQAfFAC0_a",
        "colab_type": "code",
        "colab": {}
      },
      "source": [
        "def plot_attention(attention, sentence, predicted_sentence):\n",
        "  \"\"\"\n",
        "  matshow attention\n",
        "  \"\"\"\n",
        "  fig = plt.figure(figsize=(10,10))\n",
        "  \n",
        "  ax = fig.add_subplot(1, 1, 1)\n",
        "  ax.matshow(attention)\n",
        "  ax.set_xticklabels(sentence, rotation=90) \n",
        "  ax.set_yticklabels(predicted_sentence) \n",
        "  ax.set_xticks(np.arange(len(sentence)))\n",
        "  ax.set_yticks(np.arange(len(predicted_sentence)))\n",
        "  plt.show()\n"
      ],
      "execution_count": null,
      "outputs": []
    },
    {
      "cell_type": "code",
      "metadata": {
        "id": "Nh_BrJf8C3fU",
        "colab_type": "code",
        "colab": {}
      },
      "source": [
        "def plot_heatmaps(inp_str):\n",
        "  \"\"\"\n",
        "  Сonstruction of the attention matrix \n",
        "  \"\"\"\n",
        "  attention_sentence, result, sentence = att_for_plot(inp_str)\n",
        "  attention_plot = attention_sentence[:len(result.split(' ')), :len(sentence.split(' '))]\n",
        "  print('Request: ', inp_str)\n",
        "  print('Answer:  ', result)\n",
        "  # decode_sequence(inp_str)\n",
        "  plot_attention(attention_plot.T, result.split(' '), sentence.split(' '))"
      ],
      "execution_count": null,
      "outputs": []
    },
    {
      "cell_type": "markdown",
      "metadata": {
        "id": "wXsg8qTgcmG8",
        "colab_type": "text"
      },
      "source": [
        "#Attention"
      ]
    },
    {
      "cell_type": "code",
      "metadata": {
        "colab_type": "code",
        "id": "gozicnbavQB4",
        "colab": {}
      },
      "source": [
        "# Параметры\n",
        "enc_seq_len = 69\n",
        "dec_seq_len = 69\n",
        "hidden_dim = 256\n",
        "emb_size = 256\n",
        "\n",
        "# Encoder\n",
        "encoder_input = Input((enc_seq_len,))\n",
        "enc_emb = Embedding(num_words, emb_size, name='enc_emb')(encoder_input)\n",
        "ys, *final_states = LSTM(hidden_dim, return_state=True, return_sequences=True, name='enc_lstm')(enc_emb)\n",
        "\n",
        "\n",
        "ys_reshaped = Reshape((1, enc_seq_len, hidden_dim))(ys)\n",
        "ys_repeated = Lambda(lambda l: K.repeat_elements(l, dec_seq_len, 1))(ys_reshaped)\n",
        "\n",
        "# Decoder\n",
        "decoder_input = Input((dec_seq_len,))\n",
        "dec_emb = Embedding(num_words, emb_size, name='emb')(decoder_input)\n",
        "\n",
        "dec_lstm = LSTM(hidden_dim, return_sequences=True, name='dec_lstm')(dec_emb, initial_state = final_states)\n",
        "\n",
        "# Attention\n",
        "dec_lstm_reshaped = Reshape((dec_seq_len, 1, hidden_dim))(dec_lstm)\n",
        "conc = concatenate([ys_repeated, dec_lstm_reshaped], axis=-2)\n",
        "conc_reshaped = Reshape((dec_seq_len, hidden_dim*(enc_seq_len+1)))(conc)\n",
        "\n",
        "gates = Dense(enc_seq_len, activation='softmax', kernel_regularizer=l1(0.001), bias_regularizer=l1(0.001), name= 'dense_att')(conc_reshaped)\n",
        "gates_reshaped = Reshape((dec_seq_len, enc_seq_len, 1))(gates)\n",
        "gates_repeated = Lambda(lambda l: K.repeat_elements(l, hidden_dim, -1))(gates_reshaped)\n",
        "\n",
        "dot_product = Lambda(lambda xy: K.sum(xy[0]*xy[1], axis=-2))([ys_repeated, gates_repeated])\n",
        "attentive_state = concatenate([dec_lstm, dot_product])\n",
        "\n",
        "# Exit\n",
        "word_probabilities = Dense(num_words, activation='softmax', name= 'dense')(attentive_state)\n",
        "\n",
        "\n",
        "model = Model([encoder_input, decoder_input], [word_probabilities])"
      ],
      "execution_count": null,
      "outputs": []
    },
    {
      "cell_type": "code",
      "metadata": {
        "id": "_NhsFIaATrkb",
        "colab_type": "code",
        "colab": {
          "base_uri": "https://localhost:8080/",
          "height": 806
        },
        "outputId": "6114cbfd-3539-4736-d9b9-aa7c093ce3de"
      },
      "source": [
        "model.summary()"
      ],
      "execution_count": null,
      "outputs": [
        {
          "output_type": "stream",
          "text": [
            "Model: \"functional_1\"\n",
            "__________________________________________________________________________________________________\n",
            "Layer (type)                    Output Shape         Param #     Connected to                     \n",
            "==================================================================================================\n",
            "input_1 (InputLayer)            [(None, 69)]         0                                            \n",
            "__________________________________________________________________________________________________\n",
            "input_2 (InputLayer)            [(None, 69)]         0                                            \n",
            "__________________________________________________________________________________________________\n",
            "enc_emb (Embedding)             (None, 69, 256)      23040000    input_1[0][0]                    \n",
            "__________________________________________________________________________________________________\n",
            "emb (Embedding)                 (None, 69, 256)      23040000    input_2[0][0]                    \n",
            "__________________________________________________________________________________________________\n",
            "enc_lstm (LSTM)                 [(None, 69, 256), (N 525312      enc_emb[0][0]                    \n",
            "__________________________________________________________________________________________________\n",
            "dec_lstm (LSTM)                 (None, 69, 256)      525312      emb[0][0]                        \n",
            "                                                                 enc_lstm[0][1]                   \n",
            "                                                                 enc_lstm[0][2]                   \n",
            "__________________________________________________________________________________________________\n",
            "reshape (Reshape)               (None, 1, 69, 256)   0           enc_lstm[0][0]                   \n",
            "__________________________________________________________________________________________________\n",
            "lambda (Lambda)                 (None, 69, 69, 256)  0           reshape[0][0]                    \n",
            "__________________________________________________________________________________________________\n",
            "reshape_1 (Reshape)             (None, 69, 1, 256)   0           dec_lstm[0][0]                   \n",
            "__________________________________________________________________________________________________\n",
            "concatenate (Concatenate)       (None, 69, 70, 256)  0           lambda[0][0]                     \n",
            "                                                                 reshape_1[0][0]                  \n",
            "__________________________________________________________________________________________________\n",
            "reshape_2 (Reshape)             (None, 69, 17920)    0           concatenate[0][0]                \n",
            "__________________________________________________________________________________________________\n",
            "dense_att (Dense)               (None, 69, 69)       1236549     reshape_2[0][0]                  \n",
            "__________________________________________________________________________________________________\n",
            "reshape_3 (Reshape)             (None, 69, 69, 1)    0           dense_att[0][0]                  \n",
            "__________________________________________________________________________________________________\n",
            "lambda_1 (Lambda)               (None, 69, 69, 256)  0           reshape_3[0][0]                  \n",
            "__________________________________________________________________________________________________\n",
            "lambda_2 (Lambda)               (None, 69, 256)      0           lambda[0][0]                     \n",
            "                                                                 lambda_1[0][0]                   \n",
            "__________________________________________________________________________________________________\n",
            "concatenate_1 (Concatenate)     (None, 69, 512)      0           dec_lstm[0][0]                   \n",
            "                                                                 lambda_2[0][0]                   \n",
            "__________________________________________________________________________________________________\n",
            "dense (Dense)                   (None, 69, 90000)    46170000    concatenate_1[0][0]              \n",
            "==================================================================================================\n",
            "Total params: 94,537,173\n",
            "Trainable params: 94,537,173\n",
            "Non-trainable params: 0\n",
            "__________________________________________________________________________________________________\n"
          ],
          "name": "stdout"
        }
      ]
    },
    {
      "cell_type": "code",
      "metadata": {
        "colab_type": "code",
        "id": "l8hGfMClvQCS",
        "colab": {
          "base_uri": "https://localhost:8080/",
          "height": 185
        },
        "outputId": "a3b6d7d1-150a-4065-eabb-92779dee7dd1"
      },
      "source": [
        "callback_ = EarlyStopping(monitor='val_accuracy', patience=4)\n",
        "model.compile(loss='sparse_categorical_crossentropy', metrics=['accuracy'], optimizer=RMSprop(lr = 0.01))\n",
        "model.fit([X_enc, X_dec], Y, epochs=5, callbacks=callback_,  batch_size=80, validation_split=0.2)\n",
        "model.save('/content/drive/My Drive/tmp/attention_seq2seq.h5' )"
      ],
      "execution_count": null,
      "outputs": [
        {
          "output_type": "stream",
          "text": [
            "Epoch 1/5\n",
            "815/815 [==============================] - 732s 899ms/step - loss: 8.2820 - accuracy: 0.7221 - val_loss: 8.7061 - val_accuracy: 0.7395\n",
            "Epoch 2/5\n",
            "815/815 [==============================] - 731s 897ms/step - loss: 7.8393 - accuracy: 0.7489 - val_loss: 7.7472 - val_accuracy: 0.7470\n",
            "Epoch 3/5\n",
            "815/815 [==============================] - 731s 898ms/step - loss: 7.7463 - accuracy: 0.7570 - val_loss: 8.0803 - val_accuracy: 0.7490\n",
            "Epoch 4/5\n",
            "815/815 [==============================] - 732s 898ms/step - loss: 7.7036 - accuracy: 0.7620 - val_loss: 8.2535 - val_accuracy: 0.7432\n",
            "Epoch 5/5\n",
            "815/815 [==============================] - 732s 898ms/step - loss: 7.6847 - accuracy: 0.7648 - val_loss: 7.9889 - val_accuracy: 0.7481\n"
          ],
          "name": "stdout"
        }
      ]
    },
    {
      "cell_type": "code",
      "metadata": {
        "id": "vUCQ3De9vTky",
        "colab_type": "code",
        "colab": {}
      },
      "source": [
        "# Download weights\n",
        "# model = load_model('/content/drive/My Drive/tmp/attention_seq2seq.h5' )"
      ],
      "execution_count": null,
      "outputs": []
    },
    {
      "cell_type": "markdown",
      "metadata": {
        "id": "Dsh0Omcf8wOm",
        "colab_type": "text"
      },
      "source": [
        "# Primary training. Results on 5 epochs"
      ]
    },
    {
      "cell_type": "markdown",
      "metadata": {
        "id": "_js0Wjjo9xE7",
        "colab_type": "text"
      },
      "source": [
        "## Inference"
      ]
    },
    {
      "cell_type": "code",
      "metadata": {
        "colab_type": "code",
        "id": "2FXQyjE_vjzq",
        "colab": {}
      },
      "source": [
        "enc_seq_len = 69\n",
        "dec_seq_len = 1\n",
        "# Input\n",
        "encoder_reshaped = Input((dec_seq_len, enc_seq_len,hidden_dim,))\n",
        "decoder_state_input_h = Input((hidden_dim,))\n",
        "decoder_state_input_c = Input((hidden_dim,))\n",
        "final_st = [decoder_state_input_h, decoder_state_input_c]\n",
        "decoder_input = Input((dec_seq_len,))\n",
        "\n",
        "# Decoder\n",
        "dec_emb = Embedding(num_words, emb_size, name='emb')(decoder_input)\n",
        "dec_lstm, *states_value = LSTM(hidden_dim, return_state=True, name='dec_lstm')(dec_emb, initial_state = final_st)\n",
        "\n",
        "# Attention\n",
        "dec_resh = Reshape((dec_seq_len, hidden_dim))(dec_lstm)\n",
        "dec_lstm_reshaped = Reshape((dec_seq_len, 1, hidden_dim))(dec_resh)\n",
        "conc = concatenate([encoder_reshaped, dec_lstm_reshaped], axis=-2)\n",
        "conc_reshaped = Reshape((dec_seq_len, hidden_dim*(enc_seq_len+1)))(conc)\n",
        "\n",
        "gates = Dense(enc_seq_len, activation='softmax', name= 'dense_att')(conc_reshaped)\n",
        "gates_reshaped = Reshape((dec_seq_len, enc_seq_len, 1))(gates)\n",
        "gates_repeated = Lambda(lambda l: K.repeat_elements(l, hidden_dim, -1))(gates_reshaped)\n",
        "\n",
        "dot_product = Lambda(lambda xy: K.sum(xy[0]*xy[1], axis=-2))([encoder_reshaped, gates_repeated])\n",
        "\n",
        "attentive_state = concatenate([dec_resh, dot_product])\n",
        "\n",
        "# Exit\n",
        "word_probabilities = Dense(num_words, activation='softmax', name= 'dense')(attentive_state)\n",
        "\n",
        "# Create models\n",
        "decoder_model = Model([encoder_reshaped, decoder_input]+final_st, [word_probabilities] + states_value)\n",
        "encoder_model = Model(encoder_input, [final_states, ys_reshaped])\n",
        "\n",
        "# Transferring weights\n",
        "for name in ['emb', 'dec_lstm', 'dense', 'dense_att']:\n",
        "  decoder_model.get_layer(name=name).set_weights(model.get_layer(name=name).get_weights())\n",
        "\n",
        "# If the weights were loaded, then the weights of the encoder must also be transferred \n",
        "for name in ['enc_emb', 'enc_lstm']:\n",
        "  encoder_model.get_layer(name=name).set_weights(model.get_layer(name=name).get_weights())\n"
      ],
      "execution_count": null,
      "outputs": []
    },
    {
      "cell_type": "code",
      "metadata": {
        "colab_type": "code",
        "id": "Bn4C19d8vjz4",
        "colab": {
          "base_uri": "https://localhost:8080/",
          "height": 34
        },
        "outputId": "46098334-b775-41cc-bdae-f03adec8b31b"
      },
      "source": [
        "print('Correctly predicted tokens: ', round(metric(100)*100, 2), '%', sep='')"
      ],
      "execution_count": null,
      "outputs": [
        {
          "output_type": "stream",
          "text": [
            "Correctly predicted tokens: 57.36%\n"
          ],
          "name": "stdout"
        }
      ]
    },
    {
      "cell_type": "markdown",
      "metadata": {
        "id": "XWPXWwtq485E",
        "colab_type": "text"
      },
      "source": [
        "Correctly predicted tokens: \n",
        "\n",
        "5 epochs — 57.36%"
      ]
    },
    {
      "cell_type": "code",
      "metadata": {
        "colab_type": "code",
        "id": "jgYu2KVRvjz8",
        "colab": {
          "base_uri": "https://localhost:8080/",
          "height": 34
        },
        "outputId": "6193b847-22c6-4d90-c91a-a6967bc6039f"
      },
      "source": [
        "decode_sequence('какой вкусный пирог')\n"
      ],
      "execution_count": null,
      "outputs": [
        {
          "output_type": "stream",
          "text": [
            "Answer: the most important , however , is the most import\n"
          ],
          "name": "stdout"
        }
      ]
    },
    {
      "cell_type": "code",
      "metadata": {
        "id": "fys0Mf9aY8pa",
        "colab_type": "code",
        "colab": {
          "base_uri": "https://localhost:8080/",
          "height": 34
        },
        "outputId": "405cbfaf-d45a-4646-ad07-2beb0494bb44"
      },
      "source": [
        "decode_sequence('Ежегодный Всемирный экономический форум по праву воспринимают как глобальный « барометр » .')"
      ],
      "execution_count": null,
      "outputs": [
        {
          "output_type": "stream",
          "text": [
            "Answer: the world ’ s economic development is a world of economic developm\n"
          ],
          "name": "stdout"
        }
      ]
    },
    {
      "cell_type": "code",
      "metadata": {
        "colab_type": "code",
        "id": "l_tb4NCZvj0A",
        "colab": {
          "base_uri": "https://localhost:8080/",
          "height": 709
        },
        "outputId": "d2eba5f4-3b4e-487e-dc7c-d33b22fd46f6"
      },
      "source": [
        "for n in range(1, 50, 5):\n",
        "  print('------', enc_in[n][:-5])\n",
        "  decode_sequence(enc_in[n])\n",
        "  print('------', decoder_out[n][:-5])\n",
        "  print('-'*40)"
      ],
      "execution_count": null,
      "outputs": [
        {
          "output_type": "stream",
          "text": [
            "------ В отчаянном стремлении удержать власть , Первез Мушарраф отверг конституционную систему Пакистана и объявил о введении чрезвычайного положения . \n",
            "Answer: the second pillar of the system is a powerful partner in the name of a system of power , and the terrorists and mushar\n",
            "------ Desperate to hold onto power , Pervez Musharraf has discarded Pakistan ’ s constitutional framework and declared a state of emergency . \n",
            "----------------------------------------\n",
            "------ Многие пакистанцы , лишённые иллюзий в отношении политического класса Пакистана , молчаливо согласились с его приходом к власти , думая , что он сможет что - то изменить . \n",
            "Answer: the political class in many political - class political will also allow the political class to the political sys\n",
            "------ Many Pakistanis , disillusioned with Pakistan ’ s political class , remained mute , thinking that he might deliver . \n",
            "----------------------------------------\n",
            "------ Результаты данных операций против Талибана и Аль - Каеды оказались неоднозначными . \n",
            "Answer: the taliban and al qaeda operations were well kn\n",
            "------ Operations there against Taliban and al - Qaeda forces brought mixed results . \n",
            "----------------------------------------\n",
            "------ В марте прошлого года Мушарраф сделал свой самый смелый шаг , отстранив от должности главного судью Верховного суда Ифтихара Чаудхри . \n",
            "Answer: the supreme court tried to move to the supreme court , which has tried to move beyond the general elect\n",
            "------ Last March , Musharraf took his boldest step , removing the Chief Justice of the Supreme Court , Iftikhar Chaudhry . \n",
            "----------------------------------------\n",
            "------ Правительственным чиновником пришлось отвечать за действия , которые обычно были за пределами действия закона , начиная жестокими избиениями журналистов и заканчивая незаконным лишением свободы для « обеспечения национальной безопасности » . \n",
            "Answer: the us government has been a national security council , which was designed to be a sign of the national security council , which was designed to\n",
            "------ Government officials were held accountable for actions that were usually beyond the reach of the law , ranging from brutal beatings of journalists , to illegal confinement for “ national security . ” \n",
            "----------------------------------------\n",
            "------ Судебные разбирательства , длившиеся в течение последних нескольких недель , заставили Мушаррафа поволноваться . \n",
            "Answer: the court recently announced that the court is a sign of a few we\n",
            "------ The proceedings of the court over the last few weeks made Musharraf jittery . \n",
            "----------------------------------------\n",
            "------ Вместо того , чтобы признать свою ответственность за ухудшение безопасности в стране ( о чём свидетельствуют регулярные взрывы террористов - смертников ) и за усиление талибанизации контролируемых племенами районов , Мушарраф попытался взвалить вину на судебную систему и средства информации . \n",
            "Answer: the second terrorist attacks on the security council and the taliban have a key responsibility for the terrorist attacks on the security council , and the taliban and the taliban have a permanent responsibility for the second and powerful b\n",
            "------ Rather than taking responsibility for the deteriorating security situation ( as evidenced by regular suicide bomb attacks ) and the increasing Talibanization of the tribal areas , Musharraf has tried to blame the judiciary and media . \n",
            "----------------------------------------\n",
            "------ Слабый , уставший и дезориентированный Мушарраф также не способен эффективно бороться с воинственными исламистами и установить в Пакистане политическую стабильность . \n",
            "Answer: after all , musharraf has lost its support for the fight against the stability of musharraf and pakistan ’ s political stability and supp\n",
            "------ Nor can a weak , embattled , and disoriented Musharraf be expected to fight Islamic militancy effectively or bring political stability to Pakistan . \n",
            "----------------------------------------\n",
            "------ Хассан Аббас – был сотрудником администраций как премьер - министра Беназир Бхутто , так и президента Первеза Мушаррафа . \n",
            "Answer: musharraf has tried to president musharraf , but musharraf has lost his popular\n",
            "------ Hassan Abbas served in the administrations of both Prime Minister Benazir Bhutto and President Pervez Musharraf . \n",
            "----------------------------------------\n",
            "------ По крайней мере , ему нельзя прощать неспособность его правительства предоставить Бхутто адекватную охрану . \n",
            "Answer: at least it cannot be able to be able to at least a day , at least him for \n",
            "------ At the very least , he cannot be absolved from his government ’ s failure to provide Bhutto with adequate security . \n",
            "----------------------------------------\n"
          ],
          "name": "stdout"
        }
      ]
    },
    {
      "cell_type": "markdown",
      "metadata": {
        "id": "-3gRxJtswNqT",
        "colab_type": "text"
      },
      "source": [
        "## Attention matrix"
      ]
    },
    {
      "cell_type": "code",
      "metadata": {
        "id": "zZDm8yENdIG0",
        "colab_type": "code",
        "colab": {}
      },
      "source": [
        "# Inference with the attention matrix\n",
        "\n",
        "enc_seq_len = 69\n",
        "dec_seq_len = 1 \n",
        "\n",
        "# Input\n",
        "encoder_reshaped = Input((dec_seq_len, enc_seq_len,hidden_dim,))\n",
        "decoder_state_input_h = Input((hidden_dim,))\n",
        "decoder_state_input_c = Input((hidden_dim,))\n",
        "final_st = [decoder_state_input_h, decoder_state_input_c]\n",
        "decoder_input = Input((dec_seq_len,))\n",
        "\n",
        "# Decoder\n",
        "dec_emb = Embedding(num_words, emb_size, name='emb')(decoder_input)\n",
        "dec_lstm, *states_value = LSTM(hidden_dim, return_state=True, name='dec_lstm')(dec_emb, initial_state = final_st)\n",
        "\n",
        "# Attention\n",
        "dec_resh = Reshape((dec_seq_len, hidden_dim))(dec_lstm)\n",
        "dec_lstm_reshaped = Reshape((dec_seq_len, 1, hidden_dim))(dec_resh)\n",
        "conc = concatenate([encoder_reshaped, dec_lstm_reshaped], axis=-2)\n",
        "conc_reshaped = Reshape((dec_seq_len, hidden_dim*(enc_seq_len+1)))(conc)\n",
        "\n",
        "# Output with Dense is needed for the attention matrix\n",
        "gates = Dense(enc_seq_len, activation='softmax', kernel_regularizer=l2(0.001), bias_regularizer=l2(0.001), name= 'dense_att')(conc_reshaped)\n",
        "\n",
        "gates_reshaped = Reshape((dec_seq_len, enc_seq_len, 1))(gates)\n",
        "gates_repeated = Lambda(lambda l: K.repeat_elements(l, hidden_dim, -1))(gates_reshaped)\n",
        "\n",
        "dot_product = Lambda(lambda xy: K.sum(xy[0]*xy[1], axis=-2))([encoder_reshaped, gates_repeated])\n",
        "\n",
        "attentive_state = concatenate([dec_resh, dot_product])\n",
        "\n",
        "# Output for inference\n",
        "word_probabilities = Dense(num_words, activation='softmax', name= 'dense')(attentive_state)\n",
        "\n",
        "# Creating models\n",
        "decoder_model_ = Model([encoder_reshaped, decoder_input]+final_st, [word_probabilities, gates] + states_value)\n",
        "encoder_model_ = Model(encoder_input, [final_states, ys_reshaped])\n",
        "\n",
        "for name in ['emb', 'dec_lstm', 'dense', 'dense_att']:\n",
        "  decoder_model_.get_layer(name=name).set_weights(model.get_layer(name=name).get_weights())\n",
        "for name in ['enc_emb', 'enc_lstm']:\n",
        "  encoder_model_.get_layer(name=name).set_weights(model.get_layer(name=name).get_weights())"
      ],
      "execution_count": null,
      "outputs": []
    },
    {
      "cell_type": "code",
      "metadata": {
        "id": "6amz4A82Qfql",
        "colab_type": "code",
        "colab": {
          "base_uri": "https://localhost:8080/",
          "height": 654
        },
        "outputId": "0198d659-dd00-46e1-9b81-ff926744d7ba"
      },
      "source": [
        "# request_str = 'Один раз в жизни я делаю хорошее дело... И оно бесполезно.'\n",
        "# request_str = 'Привет как дела'\n",
        "# request_str = 'Образование в этом мире меня разочаровывает'\n",
        "request_str = 'Дебаты были жаркими.'\n",
        "plot_heatmaps(request_str)"
      ],
      "execution_count": null,
      "outputs": [
        {
          "output_type": "stream",
          "text": [
            "Request:  Дебаты были жаркими.\n",
            "Answer:   the debate was\n"
          ],
          "name": "stdout"
        },
        {
          "output_type": "display_data",
          "data": {
            "image/png": "[encoded data removed]",
            "text/plain": [
              "<Figure size 720x720 with 1 Axes>"
            ]
          },
          "metadata": {
            "tags": [],
            "needs_background": "light"
          }
        }
      ]
    },
    {
      "cell_type": "markdown",
      "metadata": {
        "colab_type": "text",
        "id": "JEpoB6NN9In_"
      },
      "source": [
        "# Additional training. Results on 10 epochs"
      ]
    },
    {
      "cell_type": "code",
      "metadata": {
        "id": "Yy9YSw6n9jKO",
        "colab_type": "code",
        "colab": {}
      },
      "source": [
        "enc_seq_len = 69\n",
        "dec_seq_len = 69"
      ],
      "execution_count": null,
      "outputs": []
    },
    {
      "cell_type": "code",
      "metadata": {
        "colab_type": "code",
        "id": "hFDf3NuNvQCZ",
        "colab": {
          "base_uri": "https://localhost:8080/",
          "height": 185
        },
        "outputId": "a5ad434c-bda0-41fa-938a-fc0d864d7c77"
      },
      "source": [
        "model.compile(loss='sparse_categorical_crossentropy', metrics=['accuracy'], optimizer=RMSprop(lr = 0.001))\n",
        "model.fit([X_enc, X_dec], Y, epochs=10, callbacks=callback_,  batch_size=80, validation_split=0.2)\n",
        "model.save('/content/drive/My Drive/tmp/attention_seq2seq.h5' )"
      ],
      "execution_count": null,
      "outputs": [
        {
          "output_type": "stream",
          "text": [
            "Epoch 1/10\n",
            "815/815 [==============================] - 731s 896ms/step - loss: 1.8819 - accuracy: 0.7830 - val_loss: 2.2802 - val_accuracy: 0.7533\n",
            "Epoch 2/10\n",
            "815/815 [==============================] - 730s 895ms/step - loss: 1.7890 - accuracy: 0.7916 - val_loss: 2.2855 - val_accuracy: 0.7528\n",
            "Epoch 3/10\n",
            "815/815 [==============================] - 729s 894ms/step - loss: 1.7453 - accuracy: 0.7968 - val_loss: 2.3072 - val_accuracy: 0.7511\n",
            "Epoch 4/10\n",
            "815/815 [==============================] - 728s 894ms/step - loss: 1.7110 - accuracy: 0.8011 - val_loss: 2.3376 - val_accuracy: 0.7505\n",
            "Epoch 5/10\n",
            "815/815 [==============================] - 728s 894ms/step - loss: 1.6828 - accuracy: 0.8048 - val_loss: 2.3412 - val_accuracy: 0.7498\n"
          ],
          "name": "stdout"
        }
      ]
    },
    {
      "cell_type": "markdown",
      "metadata": {
        "colab_type": "text",
        "id": "gGQ4ZKcg-TUR"
      },
      "source": [
        "## Inference"
      ]
    },
    {
      "cell_type": "code",
      "metadata": {
        "colab_type": "code",
        "id": "lIHhC8Ip-TUi",
        "colab": {}
      },
      "source": [
        "enc_seq_len = 69\n",
        "dec_seq_len = 1\n",
        "# Input\n",
        "encoder_reshaped = Input((dec_seq_len, enc_seq_len,hidden_dim,))\n",
        "decoder_state_input_h = Input((hidden_dim,))\n",
        "decoder_state_input_c = Input((hidden_dim,))\n",
        "final_st = [decoder_state_input_h, decoder_state_input_c]\n",
        "decoder_input = Input((dec_seq_len,))\n",
        "\n",
        "# Decoder\n",
        "dec_emb = Embedding(num_words, emb_size, name='emb')(decoder_input)\n",
        "dec_lstm, *states_value = LSTM(hidden_dim, return_state=True, name='dec_lstm')(dec_emb, initial_state = final_st)\n",
        "\n",
        "# Attention\n",
        "dec_resh = Reshape((dec_seq_len, hidden_dim))(dec_lstm)\n",
        "dec_lstm_reshaped = Reshape((dec_seq_len, 1, hidden_dim))(dec_resh)\n",
        "conc = concatenate([encoder_reshaped, dec_lstm_reshaped], axis=-2)\n",
        "conc_reshaped = Reshape((dec_seq_len, hidden_dim*(enc_seq_len+1)))(conc)\n",
        "\n",
        "gates = Dense(enc_seq_len, activation='softmax', name= 'dense_att')(conc_reshaped)\n",
        "gates_reshaped = Reshape((dec_seq_len, enc_seq_len, 1))(gates)\n",
        "gates_repeated = Lambda(lambda l: K.repeat_elements(l, hidden_dim, -1))(gates_reshaped)\n",
        "\n",
        "dot_product = Lambda(lambda xy: K.sum(xy[0]*xy[1], axis=-2))([encoder_reshaped, gates_repeated])\n",
        "\n",
        "attentive_state = concatenate([dec_resh, dot_product])\n",
        "\n",
        "# Exit\n",
        "word_probabilities = Dense(num_words, activation='softmax', name= 'dense')(attentive_state)\n",
        "\n",
        "# Create models\n",
        "decoder_model = Model([encoder_reshaped, decoder_input]+final_st, [word_probabilities] + states_value)\n",
        "encoder_model = Model(encoder_input, [final_states, ys_reshaped])\n",
        "\n",
        "# Transferring weights\n",
        "for name in ['emb', 'dec_lstm', 'dense', 'dense_att']:\n",
        "  decoder_model.get_layer(name=name).set_weights(model.get_layer(name=name).get_weights())\n",
        "\n",
        "# If the weights were loaded, then the weights of the encoder must also be transferred \n",
        "for name in ['enc_emb', 'enc_lstm']:\n",
        "  encoder_model.get_layer(name=name).set_weights(model.get_layer(name=name).get_weights())\n"
      ],
      "execution_count": null,
      "outputs": []
    },
    {
      "cell_type": "code",
      "metadata": {
        "colab_type": "code",
        "id": "G5NOfYBC-TUq",
        "colab": {
          "base_uri": "https://localhost:8080/",
          "height": 70
        },
        "outputId": "bb933567-f0d7-40f6-cc55-9fed0594ac2f"
      },
      "source": [
        "print('Correctly predicted tokens: ', round(metric(100)*100, 2), '%', sep='')"
      ],
      "execution_count": null,
      "outputs": [
        {
          "output_type": "stream",
          "text": [
            "WARNING:tensorflow:5 out of the last 3276 calls to <function Model.make_predict_function.<locals>.predict_function at 0x7f1dde34af28> triggered tf.function retracing. Tracing is expensive and the excessive number of tracings could be due to (1) creating @tf.function repeatedly in a loop, (2) passing tensors with different shapes, (3) passing Python objects instead of tensors. For (1), please define your @tf.function outside of the loop. For (2), @tf.function has experimental_relax_shapes=True option that relaxes argument shapes that can avoid unnecessary retracing. For (3), please refer to https://www.tensorflow.org/tutorials/customization/performance#python_or_tensor_args and https://www.tensorflow.org/api_docs/python/tf/function for  more details.\n",
            "Correctly predicted tokens: 55.96%\n"
          ],
          "name": "stdout"
        }
      ]
    },
    {
      "cell_type": "markdown",
      "metadata": {
        "colab_type": "text",
        "id": "mCbTmTmC-TUv"
      },
      "source": [
        "Correctly predicted tokens: \n",
        "\n",
        "* Primary training. 5 epochs — 57.36%\n",
        "* Additional training. +6 epochs — 55.96%"
      ]
    },
    {
      "cell_type": "code",
      "metadata": {
        "colab_type": "code",
        "id": "rpp3pZkA-TUv",
        "colab": {
          "base_uri": "https://localhost:8080/",
          "height": 34
        },
        "outputId": "dc11b8ae-e963-492d-fbc7-0ca2c8abd404"
      },
      "source": [
        "decode_sequence('какой вкусный пирог')\n"
      ],
      "execution_count": null,
      "outputs": [
        {
          "output_type": "stream",
          "text": [
            "Answer: the problem is that the eu\n"
          ],
          "name": "stdout"
        }
      ]
    },
    {
      "cell_type": "code",
      "metadata": {
        "colab_type": "code",
        "id": "Sb3aVNhd-TU1",
        "colab": {
          "base_uri": "https://localhost:8080/",
          "height": 34
        },
        "outputId": "3754efd5-ef77-4605-a2b3-7f68ec3ec2f5"
      },
      "source": [
        "decode_sequence('Ежегодный Всемирный экономический форум по праву воспринимают как глобальный « барометр » .')"
      ],
      "execution_count": null,
      "outputs": [
        {
          "output_type": "stream",
          "text": [
            "Answer: the world ’ s economic forum is based on a “ global economic foru\n"
          ],
          "name": "stdout"
        }
      ]
    },
    {
      "cell_type": "code",
      "metadata": {
        "colab_type": "code",
        "id": "2SS0o1xI-TU5",
        "colab": {
          "base_uri": "https://localhost:8080/",
          "height": 709
        },
        "outputId": "9c0087c6-13cb-4f65-bfb8-33b71800caa1"
      },
      "source": [
        "for n in range(1, 50, 5):\n",
        "  print('------', enc_in[n][:-5])\n",
        "  decode_sequence(enc_in[n])\n",
        "  print('------', decoder_out[n][:-5])\n",
        "  print('-'*40)"
      ],
      "execution_count": null,
      "outputs": [
        {
          "output_type": "stream",
          "text": [
            "------ В отчаянном стремлении удержать власть , Первез Мушарраф отверг конституционную систему Пакистана и объявил о введении чрезвычайного положения . \n",
            "Answer: otherwise , musharraf has created a good name , and the benefits of musharraf had little authority to get otherw\n",
            "------ Desperate to hold onto power , Pervez Musharraf has discarded Pakistan ’ s constitutional framework and declared a state of emergency . \n",
            "----------------------------------------\n",
            "------ Многие пакистанцы , лишённые иллюзий в отношении политического класса Пакистана , молчаливо согласились с его приходом к власти , думая , что он сможет что - то изменить . \n",
            "Answer: he says that he will become a political class , many of which he will claim that he will be able to impose his power on the age\n",
            "------ Many Pakistanis , disillusioned with Pakistan ’ s political class , remained mute , thinking that he might deliver . \n",
            "----------------------------------------\n",
            "------ Результаты данных операций против Талибана и Аль - Каеды оказались неоднозначными . \n",
            "Answer: taliban planning taliban and al - qaeda taliban and al - qaeda taliban has been used to ensure taliban taliban operati\n",
            "------ Operations there against Taliban and al - Qaeda forces brought mixed results . \n",
            "----------------------------------------\n",
            "------ В марте прошлого года Мушарраф сделал свой самый смелый шаг , отстранив от должности главного судью Верховного суда Ифтихара Чаудхри . \n",
            "Answer: step in step in step in step in step in step in step in step in step in step in step in step in step in step in ma\n",
            "------ Last March , Musharraf took his boldest step , removing the Chief Justice of the Supreme Court , Iftikhar Chaudhry . \n",
            "----------------------------------------\n",
            "------ Правительственным чиновником пришлось отвечать за действия , которые обычно были за пределами действия закона , начиная жестокими избиениями журналистов и заканчивая незаконным лишением свободы для « обеспечения национальной безопасности » . \n",
            "Answer: the government has been able to use the government to call for a “ national security government , ” to use the spread of weapons of mass destruction , established to n\n",
            "------ Government officials were held accountable for actions that were usually beyond the reach of the law , ranging from brutal beatings of journalists , to illegal confinement for “ national security . ” \n",
            "----------------------------------------\n",
            "------ Судебные разбирательства , длившиеся в течение последних нескольких недель , заставили Мушаррафа поволноваться . \n",
            "Answer: the court has had a few weeks before the court ru\n",
            "------ The proceedings of the court over the last few weeks made Musharraf jittery . \n",
            "----------------------------------------\n",
            "------ Вместо того , чтобы признать свою ответственность за ухудшение безопасности в стране ( о чём свидетельствуют регулярные взрывы террористов - смертников ) и за усиление талибанизации контролируемых племенами районов , Мушарраф попытался взвалить вину на судебную систему и средства информации . \n",
            "Answer: the key to the general assembly is seen as a key element in the entire presidential definition , and the key responsibility for the entire presidential race , as well as the key to the entire presidential effort to avoid a key responsibility for several key ca\n",
            "------ Rather than taking responsibility for the deteriorating security situation ( as evidenced by regular suicide bomb attacks ) and the increasing Talibanization of the tribal areas , Musharraf has tried to blame the judiciary and media . \n",
            "----------------------------------------\n",
            "------ Слабый , уставший и дезориентированный Мушарраф также не способен эффективно бороться с воинственными исламистами и установить в Пакистане политическую стабильность . \n",
            "Answer: nor is fighting a fight against islamists , and with musharraf ’ s fight against islamists , musharraf ’ s lack of legitimacy , and too \n",
            "------ Nor can a weak , embattled , and disoriented Musharraf be expected to fight Islamic militancy effectively or bring political stability to Pakistan . \n",
            "----------------------------------------\n",
            "------ Хассан Аббас – был сотрудником администраций как премьер - министра Беназир Бхутто , так и президента Первеза Мушаррафа . \n",
            "Answer: both prime minister and president musharraf both been elected president general musharraf and his preside\n",
            "------ Hassan Abbas served in the administrations of both Prime Minister Benazir Bhutto and President Pervez Musharraf . \n",
            "----------------------------------------\n",
            "------ По крайней мере , ему нельзя прощать неспособность его правительства предоставить Бхутто адекватную охрану . \n",
            "Answer: his government cannot be expected to help his government continued to support his governm\n",
            "------ At the very least , he cannot be absolved from his government ’ s failure to provide Bhutto with adequate security . \n",
            "----------------------------------------\n"
          ],
          "name": "stdout"
        }
      ]
    },
    {
      "cell_type": "code",
      "metadata": {
        "colab_type": "code",
        "id": "AI6EaAPRhfDy",
        "colab": {
          "base_uri": "https://localhost:8080/",
          "height": 709
        },
        "outputId": "98918aeb-01f4-47b5-ba93-4e3b2f86f1c7"
      },
      "source": [
        "for n in range(100, 150, 5):\n",
        "  print('------', enc_in[n][:-5])\n",
        "  decode_sequence(enc_in[n])\n",
        "  print('------', decoder_out[n][:-5])\n",
        "  print('-'*40)"
      ],
      "execution_count": null,
      "outputs": [
        {
          "output_type": "stream",
          "text": [
            "------ Несмотря на диктаторский характер режима президент аль Ассад по - прежнему должен удовлетворять общественное настроение в отношении Израиля . \n",
            "Answer: despite the nature of the regime , the west must continue to threaten israel ' s popular despite dictators\n",
            "------ Despite the dictatorial nature of his regime , President al - Assad still needs to satisfy popular sentiment regarding Israel . \n",
            "----------------------------------------\n",
            "------ Колыбель противоречий \n",
            "Answer: the great depre\n",
            "------ Cradle of Contradictions \n",
            "----------------------------------------\n",
            "------ Мирное сосуществование между многочисленными этническими , религиозными и племенными группами в стране - это результат сложного наслоения уступок , компромиссов , негласных соглашений и других прагматических договорённостей , доведённых до совершенства за несколько столетий . \n",
            "Answer: the outcome of the country ’ s survival is a powerful outcome , and the outcome of the country ’ s survival is a viable outcome , and the other country ’ s standing on the other hand , the other country ’ s most powerful regi\n",
            "------ The peaceful coexistence between the country ' s myriad ethnic , religious , and tribal groups is the result of a complex layer of concessions , compromises , tacit agreements , and other pragmatic arrangements perfected over the centuries . \n",
            "----------------------------------------\n",
            "------ В результате различные центры политической власти Сирии начали лихорадочно искать образ , с помощью которого можно было бы заявлять о переменах и при этом дать возможность нынешнему порядку продолжать существовать . \n",
            "Answer: as a result of power through a powerful political power through a powerful political power and a powerful political power to allow a powerful and powerful vision of power to po\n",
            "------ As a result , Syria ' s various political power centers have embarked on a desperate search for a vision to promote change yet allow the existing order to survive . \n",
            "----------------------------------------\n",
            "------ Поэтому подавление , аресты и незаконные суды сосуществуют в сегодняшней Сирии с всё возрастающей терпимостью к творческим инициативам . \n",
            "Answer: thus , the current low context of the current round is thus low in today ’ s current low - related behav\n",
            "------ Crackdowns , detentions , and illegal trials thus exist hand in hand with a growing tolerance for creative initiatives . \n",
            "----------------------------------------\n",
            "------ Я участвовал в реализации другой инициативы , проекта Tharwa ( www . \n",
            "Answer: in fact , i asked the foundation for a middle east initiat\n",
            "------ Abdul Nour moves in his usual circles unmolested . \n",
            "----------------------------------------\n",
            "------ До сих пор власти Сирии никак не отреагировали на проект Tharwa . \n",
            "Answer: syria is still far from being taken seriou\n",
            "------ So far , Syria ' s authorities have not reacted to the Tharwa Project . \n",
            "----------------------------------------\n",
            "------ Власти проявляют недвусмысленное стремление контролировать степень \" оттепели \" сирийской политической культуры . \n",
            "Answer: the immediate call of the \" political culture \" of the political culture of the major political cult\n",
            "------ The authorities clearly wish to control the extent of the thaw in Syria ' s political culture . \n",
            "----------------------------------------\n",
            "------ Тем не менее , хочется думать , что Сирия вступает в новый период , и эпоха , грехи которой лежат на всех нас , подходит к концу . \n",
            "Answer: all of this is the coming year , and that all the us is coming to think that all the current and <number> % of all the territ\n",
            "------ Still , it is tempting to think that Syria is witnessing a new beginning , and the end of an era whose sins we all bear . \n",
            "----------------------------------------\n",
            "------ Напротив , реальная проблема в том , что западные державы , сколько они ни вмешиваются , оказываются не в состоянии ни вести войну , ни наладить диалог . \n",
            "Answer: neither war nor the real problem is that the war in iraq is neither serious nor \n",
            "------ On the contrary , the real problem is that , for all their dabbling , the Western powers seem capable of neither war nor dialogue . \n",
            "----------------------------------------\n"
          ],
          "name": "stdout"
        }
      ]
    },
    {
      "cell_type": "markdown",
      "metadata": {
        "colab_type": "text",
        "id": "EmByxmHp-TU9"
      },
      "source": [
        "## Attention matrix"
      ]
    },
    {
      "cell_type": "code",
      "metadata": {
        "colab_type": "code",
        "id": "mhfB7OZy-TU-",
        "colab": {}
      },
      "source": [
        "# Inference with the attention matrix\n",
        "\n",
        "enc_seq_len = 69\n",
        "dec_seq_len = 1 \n",
        "\n",
        "# Input\n",
        "encoder_reshaped = Input((dec_seq_len, enc_seq_len,hidden_dim,))\n",
        "decoder_state_input_h = Input((hidden_dim,))\n",
        "decoder_state_input_c = Input((hidden_dim,))\n",
        "final_st = [decoder_state_input_h, decoder_state_input_c]\n",
        "decoder_input = Input((dec_seq_len,))\n",
        "\n",
        "# Decoder\n",
        "dec_emb = Embedding(num_words, emb_size, name='emb')(decoder_input)\n",
        "dec_lstm, *states_value = LSTM(hidden_dim, return_state=True, name='dec_lstm')(dec_emb, initial_state = final_st)\n",
        "\n",
        "# Attention\n",
        "dec_resh = Reshape((dec_seq_len, hidden_dim))(dec_lstm)\n",
        "dec_lstm_reshaped = Reshape((dec_seq_len, 1, hidden_dim))(dec_resh)\n",
        "conc = concatenate([encoder_reshaped, dec_lstm_reshaped], axis=-2)\n",
        "conc_reshaped = Reshape((dec_seq_len, hidden_dim*(enc_seq_len+1)))(conc)\n",
        "\n",
        "# Output with Dense is needed for the attention matrix\n",
        "gates = Dense(enc_seq_len, activation='softmax', kernel_regularizer=l2(0.001), bias_regularizer=l2(0.001), name= 'dense_att')(conc_reshaped)\n",
        "\n",
        "gates_reshaped = Reshape((dec_seq_len, enc_seq_len, 1))(gates)\n",
        "gates_repeated = Lambda(lambda l: K.repeat_elements(l, hidden_dim, -1))(gates_reshaped)\n",
        "\n",
        "dot_product = Lambda(lambda xy: K.sum(xy[0]*xy[1], axis=-2))([encoder_reshaped, gates_repeated])\n",
        "\n",
        "attentive_state = concatenate([dec_resh, dot_product])\n",
        "\n",
        "# Output for inference\n",
        "word_probabilities = Dense(num_words, activation='softmax', name= 'dense')(attentive_state)\n",
        "\n",
        "# Creating models\n",
        "decoder_model_ = Model([encoder_reshaped, decoder_input]+final_st, [word_probabilities, gates] + states_value)\n",
        "encoder_model_ = Model(encoder_input, [final_states, ys_reshaped])\n",
        "\n",
        "for name in ['emb', 'dec_lstm', 'dense', 'dense_att']:\n",
        "  decoder_model_.get_layer(name=name).set_weights(model.get_layer(name=name).get_weights())\n",
        "for name in ['enc_emb', 'enc_lstm']:\n",
        "  encoder_model_.get_layer(name=name).set_weights(model.get_layer(name=name).get_weights())"
      ],
      "execution_count": null,
      "outputs": []
    },
    {
      "cell_type": "code",
      "metadata": {
        "colab_type": "code",
        "id": "NrL3PQwo-TVB",
        "colab": {
          "base_uri": "https://localhost:8080/",
          "height": 654
        },
        "outputId": "570d4961-a702-472f-c8ba-fe01cdb51f9d"
      },
      "source": [
        "request_str = 'Дебаты были жаркими.'\n",
        "plot_heatmaps(request_str)"
      ],
      "execution_count": null,
      "outputs": [
        {
          "output_type": "stream",
          "text": [
            "Request:  Дебаты были жаркими.\n",
            "Answer:   debate\n"
          ],
          "name": "stdout"
        },
        {
          "output_type": "display_data",
          "data": {
            "image/png": "[encoded data removed]",
            "text/plain": [
              "<Figure size 720x720 with 1 Axes>"
            ]
          },
          "metadata": {
            "tags": [],
            "needs_background": "light"
          }
        }
      ]
    },
    {
      "cell_type": "code",
      "metadata": {
        "colab_type": "code",
        "id": "d4eSXSd5QeHz",
        "colab": {
          "base_uri": "https://localhost:8080/",
          "height": 438
        },
        "outputId": "4da142e8-ecdc-40ef-9f64-cd590161f392"
      },
      "source": [
        "request_str = 'Образование в этом мире меня разочаровывает'\n",
        "plot_heatmaps(request_str)"
      ],
      "execution_count": null,
      "outputs": [
        {
          "output_type": "stream",
          "text": [
            "Request:  Образование в этом мире меня разочаровывает\n",
            "Answer:   this is why the world health organization has been able to me .\n"
          ],
          "name": "stdout"
        },
        {
          "output_type": "display_data",
          "data": {
            "image/png": "[encoded data removed]",
            "text/plain": [
              "<Figure size 720x720 with 1 Axes>"
            ]
          },
          "metadata": {
            "tags": [],
            "needs_background": "light"
          }
        }
      ]
    },
    {
      "cell_type": "code",
      "metadata": {
        "colab_type": "code",
        "id": "wWlMqqLqQek7",
        "colab": {
          "base_uri": "https://localhost:8080/",
          "height": 378
        },
        "outputId": "fdf28c43-6ef7-4c5d-e986-a615abe96972"
      },
      "source": [
        "request_str = 'Привет, как дела?'\n",
        "plot_heatmaps(request_str)"
      ],
      "execution_count": null,
      "outputs": [
        {
          "output_type": "stream",
          "text": [
            "Request:  Привет, как дела?\n",
            "Answer:   the first is to be seen as a\n"
          ],
          "name": "stdout"
        },
        {
          "output_type": "display_data",
          "data": {
            "image/png": "[encoded data removed]",
            "text/plain": [
              "<Figure size 720x720 with 1 Axes>"
            ]
          },
          "metadata": {
            "tags": [],
            "needs_background": "light"
          }
        }
      ]
    },
    {
      "cell_type": "code",
      "metadata": {
        "colab_type": "code",
        "id": "v0GK3A1kQe-o",
        "colab": {
          "base_uri": "https://localhost:8080/",
          "height": 578
        },
        "outputId": "7181d249-0eef-43bf-faf2-16a39b631f64"
      },
      "source": [
        "request_str = 'Один раз в жизни я делаю хорошее дело... И оно бесполезно.'\n",
        "plot_heatmaps(request_str)"
      ],
      "execution_count": null,
      "outputs": [
        {
          "output_type": "stream",
          "text": [
            "Request:  Один раз в жизни я делаю хорошее дело... И оно бесполезно.\n",
            "Answer:   i know that life is getting a life in life and the life expectancy .\n"
          ],
          "name": "stdout"
        },
        {
          "output_type": "display_data",
          "data": {
            "image/png": "[encoded data removed]",
            "text/plain": [
              "<Figure size 720x720 with 1 Axes>"
            ]
          },
          "metadata": {
            "tags": [],
            "needs_background": "light"
          }
        }
      ]
    },
    {
      "cell_type": "markdown",
      "metadata": {
        "id": "MyYYjc7ORZsy",
        "colab_type": "text"
      },
      "source": [
        "## Conclusions\n",
        "1. Такое ощущение, что проверка модели после её первичного обучения испортила саму модель, что ухудшило показатели на её дообучении.\n",
        "2. Переводы вообще нельзя называть таковыми. Хотя правильные единичные термины в \"переводных\" фразах всё-таки присутствуют.\n",
        "3. В исходной базе обнаружено большое количество мусора на коротких фразах после обучения. Не известно, оказали ли они отрицательное влияние на процесс обучения из-за предпринятых ранее мер по предотвращению появления мусора в датасете.\n",
        "\n"
      ]
    }
  ]
}