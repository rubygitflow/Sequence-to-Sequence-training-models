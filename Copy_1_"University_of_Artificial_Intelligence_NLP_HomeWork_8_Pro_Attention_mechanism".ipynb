{
  "nbformat": 4,
  "nbformat_minor": 0,
  "metadata": {
    "colab": {
      "name": "Copy 1. \"University of Artificial Intelligence. NLP.HomeWork 8.Pro. Attention mechanism\"",
      "provenance": [],
      "collapsed_sections": [],
      "machine_shape": "hm",
      "include_colab_link": true
    },
    "kernelspec": {
      "name": "python3",
      "display_name": "Python 3"
    },
    "accelerator": "GPU"
  },
  "cells": [
    {
      "cell_type": "markdown",
      "metadata": {
        "id": "view-in-github",
        "colab_type": "text"
      },
      "source": [
        "<a href=\"https://colab.research.google.com/github/rubygitflow/Sequence-to-Sequence-training-models/blob/master/Copy_1_%22University_of_Artificial_Intelligence_NLP_HomeWork_8_Pro_Attention_mechanism%22.ipynb\" target=\"_parent\"><img src=\"https://colab.research.google.com/assets/colab-badge.svg\" alt=\"Open In Colab\"/></a>"
      ]
    },
    {
      "cell_type": "markdown",
      "metadata": {
        "id": "9cqo1300xJh1",
        "colab_type": "text"
      },
      "source": [
        "# NLP.Lesson 8.Attention mechanism"
      ]
    },
    {
      "cell_type": "markdown",
      "metadata": {
        "id": "tayNJj9fsU_K",
        "colab_type": "text"
      },
      "source": [
        "**Changes in the Copy 1.**\n",
        "\n",
        "* Improved algorithmic cleaning of the dictionary from garbage.\n",
        "* Reduced the length of sentences for machine learning.\n",
        "* Additional training has been moved to after the primary one."
      ]
    },
    {
      "cell_type": "markdown",
      "metadata": {
        "id": "4sBItNogyHY1",
        "colab_type": "text"
      },
      "source": [
        "1. Attention: Sequence 2 Sequence model with Attention Mechanism. https://towardsdatascience.com/sequence-2-sequence-model-with-attention-mechanism-9e9ca2a613a\n",
        "2. Визуализируя нейронный машинный перевод (seq2seq модели с механизмом внимания). https://habr.com/ru/post/486158/\n",
        "\n",
        "Parallel text corpora En-Ru:\n",
        "*   http://www.wordsbase.com/2016/01/tm-share.html\n",
        "*   http://ufal.mff.cuni.cz/umc/cer/\n",
        "*   https://tatoeba.org/\n",
        "\n"
      ]
    },
    {
      "cell_type": "code",
      "metadata": {
        "id": "XtIjaRxz3Drh",
        "colab_type": "code",
        "colab": {}
      },
      "source": [
        "from tensorflow.keras.layers import Dense, Conv1D, MaxPool1D, GlobalMaxPooling1D, LSTM, GRU, Bidirectional, Embedding, Input, Concatenate, Attention, Reshape, Lambda, concatenate, Dropout, Flatten\n",
        "from tensorflow.keras.models import Sequential, Model, load_model\n",
        "from tensorflow.keras.preprocessing.text import Tokenizer\n",
        "from tensorflow.keras.preprocessing.sequence import pad_sequences\n",
        "from tensorflow.keras.utils import to_categorical, plot_model\n",
        "from tensorflow.keras.optimizers import RMSprop, Adam\n",
        "from tensorflow.keras.callbacks import EarlyStopping\n",
        "from tensorflow.keras.metrics import Accuracy\n",
        "\n",
        "import tensorflow.keras.backend as K\n",
        "from keras.regularizers import l2, l1\n",
        "\n",
        "from sklearn.model_selection import train_test_split\n",
        "import pandas as pd\n",
        "import numpy as np\n",
        "import matplotlib.pyplot as plt\n",
        "import re"
      ],
      "execution_count": 1,
      "outputs": []
    },
    {
      "cell_type": "markdown",
      "metadata": {
        "id": "DtGbK4PcYIQP",
        "colab_type": "text"
      },
      "source": [
        "## Checking the GPU"
      ]
    },
    {
      "cell_type": "code",
      "metadata": {
        "id": "OoZrMxlU_dAV",
        "colab_type": "code",
        "colab": {
          "base_uri": "https://localhost:8080/",
          "height": 252
        },
        "outputId": "d632fa34-e804-4997-c697-fd254597bb57"
      },
      "source": [
        "!ln -sf /opt/bin/nvidia-smi /usr/bin/nvidia-smi\n",
        "!pip install gputil\n",
        "!pip install psutil\n",
        "!pip install humanize\n",
        "\n",
        "import os\n",
        "import psutil\n",
        "import humanize\n",
        "import GPUtil as GPU\n",
        "GPUs = GPU.getGPUs()\n",
        "if len(GPUs)>0:\n",
        "  gpu = GPUs[0]\n",
        "else:\n",
        "  print('GPU turned off')\n",
        "def printm():\n",
        "  process = psutil.Process(os.getpid())\n",
        "  print(\"Gen RAM FREE: \"+humanize.naturalsize( psutil.virtual_memory().available ), \" | Proc size: \" + humanize.naturalsize( process.memory_info().rss))\n",
        "  if len(GPUs)>0:\n",
        "    print(\"Gen RAM FREE: {0:.0f}MB | Used: {1:.0f}MB | Util {2:3.0f}% | Total {3:.0f}MB\".format(gpu.memoryFree, gpu.memoryUsed, gpu.memoryUtil*100, gpu.memoryTotal))\n",
        "    print(\"GPU Model: \" + gpu.name)\n",
        "\n",
        "printm()"
      ],
      "execution_count": 2,
      "outputs": [
        {
          "output_type": "stream",
          "text": [
            "Collecting gputil\n",
            "  Downloading https://files.pythonhosted.org/packages/ed/0e/5c61eedde9f6c87713e89d794f01e378cfd9565847d4576fa627d758c554/GPUtil-1.4.0.tar.gz\n",
            "Building wheels for collected packages: gputil\n",
            "  Building wheel for gputil (setup.py) ... \u001b[?25l\u001b[?25hdone\n",
            "  Created wheel for gputil: filename=GPUtil-1.4.0-cp36-none-any.whl size=7411 sha256=662aa9d8bdadddce6f004d10bfd645f87a9155f9944a2227c5bee2e8a53a492e\n",
            "  Stored in directory: /root/.cache/pip/wheels/3d/77/07/80562de4bb0786e5ea186911a2c831fdd0018bda69beab71fd\n",
            "Successfully built gputil\n",
            "Installing collected packages: gputil\n",
            "Successfully installed gputil-1.4.0\n",
            "Requirement already satisfied: psutil in /usr/local/lib/python3.6/dist-packages (5.4.8)\n",
            "Requirement already satisfied: humanize in /usr/local/lib/python3.6/dist-packages (0.5.1)\n",
            "Gen RAM FREE: 26.3 GB  | Proc size: 365.3 MB\n",
            "Gen RAM FREE: 16280MB | Used: 0MB | Util   0% | Total 16280MB\n",
            "GPU Model: Tesla P100-PCIE-16GB\n"
          ],
          "name": "stdout"
        }
      ]
    },
    {
      "cell_type": "markdown",
      "metadata": {
        "id": "ViDsWObQ9o7o",
        "colab_type": "text"
      },
      "source": [
        "## Data Setting"
      ]
    },
    {
      "cell_type": "code",
      "metadata": {
        "id": "200dSPOYZE7N",
        "colab_type": "code",
        "colab": {
          "base_uri": "https://localhost:8080/",
          "height": 34
        },
        "outputId": "c7fa251c-79a9-4e16-c917-ae27fa623f05"
      },
      "source": [
        "from google.colab import drive\n",
        "drive.mount('/content/drive')"
      ],
      "execution_count": 3,
      "outputs": [
        {
          "output_type": "stream",
          "text": [
            "Mounted at /content/drive\n"
          ],
          "name": "stdout"
        }
      ]
    },
    {
      "cell_type": "code",
      "metadata": {
        "id": "1FRQd7lGQAFH",
        "colab_type": "code",
        "colab": {}
      },
      "source": [
        "def highlight_chars(txt):\n",
        "  # select spetial  chars\n",
        "  angle_brackets = ['<', '>']\n",
        "  for elem in angle_brackets:\n",
        "    txt = txt.replace(elem, ' '+elem+' ')\n",
        "\n",
        "  # select digits\n",
        "  txt = re.sub(r'\\d\\d\\.\\d\\d\\.\\d{4}', r' <date> ', txt)  # \"\" \n",
        "  txt = re.sub(r'\\d\\d\\.\\d\\d\\.\\d\\d', r' <date> ', txt)   # \"\" \n",
        "  txt = re.sub(r'\\d\\d\\/\\d\\d\\/\\d{4}', r' <date> ', txt)  # \"\" \n",
        "  txt = re.sub(r'\\d\\d\\/\\d\\d\\/\\d\\d', r' <date> ', txt)   # \"\" \n",
        "  txt = re.sub(r'\\d\\d:\\d\\d:\\d\\d', r' <time> ', txt)     # \"\" \n",
        "  txt = re.sub(r'\\d\\d-\\d\\d-\\d\\d', r' <time> ', txt)     # \"\" \n",
        "  txt = re.sub(r'\\d\\d—\\d\\d—\\d\\d', r' <time> ', txt)     # \"\" \n",
        "  txt = re.sub(r'\\d\\d–\\d\\d–\\d\\d', r' <time> ', txt)     # \"\" \n",
        "  txt = re.sub(r'\\d\\d:\\d\\d', r'<time>', txt)          # \"\" \n",
        "\n",
        "  txt = re.sub(r'\\d+-\\d+', r' <range> ', txt)         #  '4-5'\n",
        "  txt = re.sub(r'\\d+\\/\\d+', r' <real> ', txt)         # \"8/8\" \n",
        "  txt = re.sub(r'\\d+,\\d+', r' <real> ', txt)          # \"8,8\" \n",
        "  txt = re.sub(r'\\d+\\.\\d+', r' <number> ', txt)       # \"9.8\" \n",
        "  # for \\s-char exclude \\t-char\n",
        "  txt = re.sub(r'-\\d+\\. ', r' <number> . ', txt)     # \"-1. \"  \n",
        "  txt = re.sub(r'–\\d+\\. ', r' <number> . ', txt)     # \"–1. \"  \n",
        "  txt = re.sub(r'—\\d+\\. ', r' <number> . ', txt)     # \"—1. \"  \n",
        "  txt = re.sub(r'\\d+\\.\\n', r' <number> . ', txt)      # \"7. \"  \n",
        "  txt = re.sub(r'-\\d+\\.\\n', r' <number> . ', txt)     # \"-1. \"  \n",
        "  txt = re.sub(r'–\\d+\\.\\n', r' <number> . ', txt)     # \"–1. \"  \n",
        "  txt = re.sub(r'—\\d+\\.\\n', r' <number> . ', txt)     # \"—1. \"  \n",
        "  txt = re.sub(r'\\d+\\.\\n', r' <number> . ', txt)      # \"7. \"  \n",
        "\n",
        "  txt = re.sub(r'\\d+', r' <number> ', txt)      # \"17\"  \n",
        "\n",
        "  # select any symbols (manually created list)\n",
        "  char_list = ['-', '.', ',', '\"', '$', '«', 'ø', '%', ')', '&', '−', '≤', '‘', '£', '?', '™', '‚', '(', '*', '№', '•', ';', '½', '’', '/', '+', '±', '>', '“', 'ş', '¦', '–', \"'\", '€', '#', '§', '”', '@', '‑', ':', '!', '»', '¼', '·', '°', '…', '=', '—']\n",
        "  refreshed_char_list = [item for item in char_list if item not in angle_brackets]  # very important exclude spetial  chars from list !\n",
        "  for elem in refreshed_char_list:\n",
        "    txt = txt.replace(elem, ' '+elem+' ')\n",
        "    \n",
        "  return txt"
      ],
      "execution_count": 4,
      "outputs": []
    },
    {
      "cell_type": "markdown",
      "metadata": {
        "id": "9av3HqJQ9A7v",
        "colab_type": "text"
      },
      "source": [
        "**Here we carry out chars-cleaning iterations**"
      ]
    },
    {
      "cell_type": "code",
      "metadata": {
        "id": "UgfTTMzuzI44",
        "colab_type": "code",
        "colab": {}
      },
      "source": [
        "with open('/content/drive/My Drive/Базы/NLP/English-Russian.1-1.txt', 'r') as f:\n",
        "  text = f.read()\n",
        "  text = text.replace('\\ufeff', '')  \n",
        "  text = text.replace('\\uf043', ' ')  \n",
        "  text = text.replace('\\x9d', ' ')  \n",
        "  text = text.replace('\\uf029', ' ')  \n",
        "  text = text.replace('\\x81', ' ')  \n",
        "  text = text.replace('\\xad', ' ')  \n",
        "  text = text.replace('\\uf024', ' ')  \n",
        "  text = text.replace('\\x91', ' ')  \n",
        "  text = text.replace('\\uf042', ' ')  \n",
        "  text = text.replace('\\x8d', ' ')  \n",
        "  text = text.replace('\\x80', ' ')  \n",
        "  text = text.replace('\\uf0d4', ' ')  \n",
        "  text = text.replace('\\x90', ' ')  \n",
        "  text = text.replace('\\x8f', ' ')  \n",
        "  text = text.replace('\\uf0b7', ' ')  \n",
        "  text = text.replace('�', ' ')  \n",
        "  text = text.replace('', ' ')\n",
        "  text = highlight_chars(text)\n",
        "\n",
        "  text_of_chars = re.sub(r'[А-яA-z0-9\\n\\t<>]', ' ', text) \n",
        "  text_of_chars = ' '.join(text_of_chars.split())"
      ],
      "execution_count": 5,
      "outputs": []
    },
    {
      "cell_type": "code",
      "metadata": {
        "id": "65NbHdT40MN0",
        "colab_type": "code",
        "colab": {
          "base_uri": "https://localhost:8080/",
          "height": 34
        },
        "outputId": "529a8dea-9e54-4837-cafd-b9857f9ede02"
      },
      "source": [
        "chars = list(set(text_of_chars.lower().split(' ')))\n",
        "len(chars)"
      ],
      "execution_count": 6,
      "outputs": [
        {
          "output_type": "execute_result",
          "data": {
            "text/plain": [
              "84"
            ]
          },
          "metadata": {
            "tags": []
          },
          "execution_count": 6
        }
      ]
    },
    {
      "cell_type": "code",
      "metadata": {
        "id": "l2muZKoG74-W",
        "colab_type": "code",
        "colab": {
          "base_uri": "https://localhost:8080/",
          "height": 1000
        },
        "outputId": "b6a7006d-74bc-4bb9-a186-e425f712ad2d"
      },
      "source": [
        "chars"
      ],
      "execution_count": 7,
      "outputs": [
        {
          "output_type": "execute_result",
          "data": {
            "text/plain": [
              "['î',\n",
              " 'ґ',\n",
              " '§',\n",
              " '\"',\n",
              " 'č',\n",
              " 'ё',\n",
              " 'ń',\n",
              " '•',\n",
              " 'ô',\n",
              " 'ö',\n",
              " '’',\n",
              " '-',\n",
              " '»',\n",
              " 'ú',\n",
              " 'ï',\n",
              " '−',\n",
              " 'ó',\n",
              " 'ã',\n",
              " 'é',\n",
              " '‑',\n",
              " ')',\n",
              " '€',\n",
              " '—',\n",
              " 'ŕ',\n",
              " '”',\n",
              " '*',\n",
              " 'ű',\n",
              " 'â',\n",
              " 'å',\n",
              " 'è',\n",
              " 'ü',\n",
              " '½',\n",
              " '&',\n",
              " '±',\n",
              " '!',\n",
              " '‘',\n",
              " 'áš',\n",
              " '«',\n",
              " 'ê',\n",
              " 'ğ',\n",
              " 'ό',\n",
              " 'ří',\n",
              " 'š',\n",
              " 'á',\n",
              " '¦',\n",
              " '+',\n",
              " '¼',\n",
              " '=',\n",
              " '°',\n",
              " '.',\n",
              " ';',\n",
              " '(',\n",
              " 'ç',\n",
              " 'β',\n",
              " '“',\n",
              " 'ёё',\n",
              " 'łę',\n",
              " \"'\",\n",
              " 'ø',\n",
              " '/',\n",
              " ':',\n",
              " '‚',\n",
              " '#',\n",
              " '·',\n",
              " 'ş',\n",
              " 'ñ',\n",
              " '@',\n",
              " 'ł',\n",
              " '…',\n",
              " '≤',\n",
              " 'õ',\n",
              " ',',\n",
              " 'à',\n",
              " '™',\n",
              " '№',\n",
              " '%',\n",
              " '£',\n",
              " '?',\n",
              " '$',\n",
              " 'ä',\n",
              " 'ë',\n",
              " 'í',\n",
              " 'ć',\n",
              " '–']"
            ]
          },
          "metadata": {
            "tags": []
          },
          "execution_count": 7
        }
      ]
    },
    {
      "cell_type": "code",
      "metadata": {
        "id": "7tdcmPgx0l3N",
        "colab_type": "code",
        "colab": {
          "base_uri": "https://localhost:8080/",
          "height": 1000
        },
        "outputId": "a81be668-e31b-4193-d48e-eb5388efecda"
      },
      "source": [
        "num_chars = 100 # get all the symbols — http://book.itep.ru/10/ascii.htm\n",
        "tokenizer = Tokenizer(num_words=num_chars, char_level=True) \n",
        "tokenizer.fit_on_texts(chars)\n",
        "tokenizer.index_word"
      ],
      "execution_count": 8,
      "outputs": [
        {
          "output_type": "execute_result",
          "data": {
            "text/plain": [
              "{1: 'ё',\n",
              " 2: 'á',\n",
              " 3: 'š',\n",
              " 4: 'í',\n",
              " 5: 'ł',\n",
              " 6: 'î',\n",
              " 7: 'ґ',\n",
              " 8: '§',\n",
              " 9: '\"',\n",
              " 10: 'č',\n",
              " 11: 'ń',\n",
              " 12: '•',\n",
              " 13: 'ô',\n",
              " 14: 'ö',\n",
              " 15: '’',\n",
              " 16: '-',\n",
              " 17: '»',\n",
              " 18: 'ú',\n",
              " 19: 'ï',\n",
              " 20: '−',\n",
              " 21: 'ó',\n",
              " 22: 'ã',\n",
              " 23: 'é',\n",
              " 24: '‑',\n",
              " 25: ')',\n",
              " 26: '€',\n",
              " 27: '—',\n",
              " 28: 'ŕ',\n",
              " 29: '”',\n",
              " 30: '*',\n",
              " 31: 'ű',\n",
              " 32: 'â',\n",
              " 33: 'å',\n",
              " 34: 'è',\n",
              " 35: 'ü',\n",
              " 36: '½',\n",
              " 37: '&',\n",
              " 38: '±',\n",
              " 39: '!',\n",
              " 40: '‘',\n",
              " 41: '«',\n",
              " 42: 'ê',\n",
              " 43: 'ğ',\n",
              " 44: 'ό',\n",
              " 45: 'ř',\n",
              " 46: '¦',\n",
              " 47: '+',\n",
              " 48: '¼',\n",
              " 49: '=',\n",
              " 50: '°',\n",
              " 51: '.',\n",
              " 52: ';',\n",
              " 53: '(',\n",
              " 54: 'ç',\n",
              " 55: 'β',\n",
              " 56: '“',\n",
              " 57: 'ę',\n",
              " 58: \"'\",\n",
              " 59: 'ø',\n",
              " 60: '/',\n",
              " 61: ':',\n",
              " 62: '‚',\n",
              " 63: '#',\n",
              " 64: '·',\n",
              " 65: 'ş',\n",
              " 66: 'ñ',\n",
              " 67: '@',\n",
              " 68: '…',\n",
              " 69: '≤',\n",
              " 70: 'õ',\n",
              " 71: ',',\n",
              " 72: 'à',\n",
              " 73: '™',\n",
              " 74: '№',\n",
              " 75: '%',\n",
              " 76: '£',\n",
              " 77: '?',\n",
              " 78: '$',\n",
              " 79: 'ä',\n",
              " 80: 'ë',\n",
              " 81: 'ć',\n",
              " 82: '–'}"
            ]
          },
          "metadata": {
            "tags": []
          },
          "execution_count": 8
        }
      ]
    },
    {
      "cell_type": "code",
      "metadata": {
        "id": "b3cL3cOy165e",
        "colab_type": "code",
        "colab": {}
      },
      "source": [
        "char_list = tokenizer.index_word.values()"
      ],
      "execution_count": 9,
      "outputs": []
    },
    {
      "cell_type": "code",
      "metadata": {
        "id": "nJYLb3Dp6GMP",
        "colab_type": "code",
        "colab": {
          "base_uri": "https://localhost:8080/",
          "height": 54
        },
        "outputId": "579909bd-095a-4df4-c4f8-23636c634038"
      },
      "source": [
        "char_list"
      ],
      "execution_count": 10,
      "outputs": [
        {
          "output_type": "execute_result",
          "data": {
            "text/plain": [
              "dict_values(['ё', 'á', 'š', 'í', 'ł', 'î', 'ґ', '§', '\"', 'č', 'ń', '•', 'ô', 'ö', '’', '-', '»', 'ú', 'ï', '−', 'ó', 'ã', 'é', '‑', ')', '€', '—', 'ŕ', '”', '*', 'ű', 'â', 'å', 'è', 'ü', '½', '&', '±', '!', '‘', '«', 'ê', 'ğ', 'ό', 'ř', '¦', '+', '¼', '=', '°', '.', ';', '(', 'ç', 'β', '“', 'ę', \"'\", 'ø', '/', ':', '‚', '#', '·', 'ş', 'ñ', '@', '…', '≤', 'õ', ',', 'à', '™', '№', '%', '£', '?', '$', 'ä', 'ë', 'ć', '–'])"
            ]
          },
          "metadata": {
            "tags": []
          },
          "execution_count": 10
        }
      ]
    },
    {
      "cell_type": "markdown",
      "metadata": {
        "id": "JXHp7zWLTBp3",
        "colab_type": "text"
      },
      "source": [
        "**End of chars-cleaning iterations**"
      ]
    },
    {
      "cell_type": "code",
      "metadata": {
        "id": "v05tgfqyV-cG",
        "colab_type": "code",
        "colab": {}
      },
      "source": [
        "text_of_lexemes = ' '.join(text.split(' '))"
      ],
      "execution_count": 6,
      "outputs": []
    },
    {
      "cell_type": "code",
      "metadata": {
        "id": "4LjNKTyyWkrU",
        "colab_type": "code",
        "colab": {
          "base_uri": "https://localhost:8080/",
          "height": 121
        },
        "outputId": "38d49499-5896-4e84-f400-19ff70110e5f"
      },
      "source": [
        "print(text_of_lexemes[:1000])"
      ],
      "execution_count": 7,
      "outputs": [
        {
          "output_type": "stream",
          "text": [
            "Musharraf  ’  s Last Act  ? \tПоследний ход Мушаррафа  ? \n",
            "Desperate to hold onto power  ,  Pervez Musharraf has discarded Pakistan  ’  s constitutional framework and declared a state of emergency  . \tВ отчаянном стремлении удержать власть  ,  Первез Мушарраф отверг конституционную систему Пакистана и объявил о введении чрезвычайного положения  . \n",
            "Artfully  ,  though shamelessly  ,  he has tried to sell this action as an effort to bring about stability and help fight the war on terror more effectively  . \tИскусно  ,  хотя и бессовестно  ,  он попытался оправдать данное действие стремлением установить стабильность и начать более эффективную борьбу с терроризмом  . \n",
            "Nothing could be further from the truth  . \tЭто крайне далеко от действительности  . \n",
            "If Pakistan  ’  s history is any indicator  ,  his decision to impose martial law may prove to be the proverbial straw that breaks the camel  ’  s back  . \tЕсли судить по пакистанской истории  ,  его решение установить военное положение может \n"
          ],
          "name": "stdout"
        }
      ]
    },
    {
      "cell_type": "code",
      "metadata": {
        "id": "f72H5-7w3mFp",
        "colab_type": "code",
        "colab": {}
      },
      "source": [
        "dictionary = text_of_lexemes.split('\\n')"
      ],
      "execution_count": 8,
      "outputs": []
    },
    {
      "cell_type": "code",
      "metadata": {
        "id": "KOvTx-vIqRi-",
        "colab_type": "code",
        "colab": {
          "base_uri": "https://localhost:8080/",
          "height": 34
        },
        "outputId": "5431b909-e1f8-40cb-f91d-ae59845a492b"
      },
      "source": [
        "dictionary.__len__()"
      ],
      "execution_count": 9,
      "outputs": [
        {
          "output_type": "execute_result",
          "data": {
            "text/plain": [
              "85521"
            ]
          },
          "metadata": {
            "tags": []
          },
          "execution_count": 9
        }
      ]
    },
    {
      "cell_type": "code",
      "metadata": {
        "id": "l8NyJb_RXdmd",
        "colab_type": "code",
        "colab": {}
      },
      "source": [
        "# Improved algorithmic cleaning of the dictionary from garbage\n",
        "en = []\n",
        "ru = [] \n",
        "# provide a protection from obvious garbage\n",
        "for elem in dictionary:\n",
        "  dic = elem.split('\\t')\n",
        "  eng = ' '.join(dic[0].split())\n",
        "  rus = ' '.join(dic[1].split())\n",
        "  # count of words\n",
        "  len_en = len(eng.split())\n",
        "  len_ru = len(rus.split()) \n",
        "  if len_en > 4 and len_ru > 4: # this condition was added after learning\n",
        "    if len_en > len_ru // 2 and len_ru > len_en // 2: #  we consider only meaningful constructions\n",
        "      if re.search(r'[A-z]+', eng) and re.search(r'[А-я]+', rus): #  we have a real translation\n",
        "        en.append(eng)\n",
        "        ru.append(rus)"
      ],
      "execution_count": 10,
      "outputs": []
    },
    {
      "cell_type": "code",
      "metadata": {
        "id": "IJ3I_ZRrbDNn",
        "colab_type": "code",
        "colab": {
          "base_uri": "https://localhost:8080/",
          "height": 34
        },
        "outputId": "c9be6d46-2bb3-42a3-831e-60bc10d1ff7d"
      },
      "source": [
        "len(en), len(ru)"
      ],
      "execution_count": 11,
      "outputs": [
        {
          "output_type": "execute_result",
          "data": {
            "text/plain": [
              "(78656, 78656)"
            ]
          },
          "metadata": {
            "tags": []
          },
          "execution_count": 11
        }
      ]
    },
    {
      "cell_type": "code",
      "metadata": {
        "id": "pDRU5uQAoTo6",
        "colab_type": "code",
        "colab": {}
      },
      "source": [
        "length_dictionary = len(en)"
      ],
      "execution_count": 12,
      "outputs": []
    },
    {
      "cell_type": "code",
      "metadata": {
        "id": "E7lICIuUdsNu",
        "colab_type": "code",
        "colab": {
          "base_uri": "https://localhost:8080/",
          "height": 52
        },
        "outputId": "70a6bdaa-8ff2-4cde-ec57-2210ea491fcf"
      },
      "source": [
        "ru[993]"
      ],
      "execution_count": 13,
      "outputs": [
        {
          "output_type": "execute_result",
          "data": {
            "application/vnd.google.colaboratory.intrinsic+json": {
              "type": "string"
            },
            "text/plain": [
              "'В Италии доля банковских кредитов в процентном отношении к суммарным объемам займов , сделанных большими итальянскими компаниями упала с <number> % до <number> % - такие сильные изменения в основном достигнуты за счет эмиссии промышленных облигаций .'"
            ]
          },
          "metadata": {
            "tags": []
          },
          "execution_count": 13
        }
      ]
    },
    {
      "cell_type": "code",
      "metadata": {
        "id": "dWHy-DPrd0Xy",
        "colab_type": "code",
        "colab": {
          "base_uri": "https://localhost:8080/",
          "height": 34
        },
        "outputId": "0080238a-b07e-4e35-e88c-da50f7cd7f9c"
      },
      "source": [
        "len(ru[993])"
      ],
      "execution_count": 14,
      "outputs": [
        {
          "output_type": "execute_result",
          "data": {
            "text/plain": [
              "250"
            ]
          },
          "metadata": {
            "tags": []
          },
          "execution_count": 14
        }
      ]
    },
    {
      "cell_type": "code",
      "metadata": {
        "id": "3oAOT-s_y9LS",
        "colab_type": "code",
        "colab": {
          "base_uri": "https://localhost:8080/",
          "height": 474
        },
        "outputId": "51086fb7-f196-43a3-8c2e-3561cbe7c0c5"
      },
      "source": [
        "ru[:13], en[:13]"
      ],
      "execution_count": 15,
      "outputs": [
        {
          "output_type": "execute_result",
          "data": {
            "text/plain": [
              "(['В отчаянном стремлении удержать власть , Первез Мушарраф отверг конституционную систему Пакистана и объявил о введении чрезвычайного положения .',\n",
              "  'Искусно , хотя и бессовестно , он попытался оправдать данное действие стремлением установить стабильность и начать более эффективную борьбу с терроризмом .',\n",
              "  'Это крайне далеко от действительности .',\n",
              "  'Если судить по пакистанской истории , его решение установить военное положение может оказаться той самой последней каплей из пословицы , которая переполнит чашу терпения народа .',\n",
              "  'Генерал Мушарраф появился на национальной сцене Пакистана <number> октября <number> года , свергнув законно избранное правительство и объявив о начале амбициозного проекта по « строительству нации » .',\n",
              "  'Многие пакистанцы , лишённые иллюзий в отношении политического класса Пакистана , молчаливо согласились с его приходом к власти , думая , что он сможет что - то изменить .',\n",
              "  'Террористические атаки в Америке <number> сентября <number> года позволили Мушаррафу попасть в центр внимания на международной арене , поскольку он согласился уничтожить Талибан и поддержать войну с терроризмом , возглавляемую Соединёнными Штатами .',\n",
              "  'Мушарраф пресёк деятельность некоторых воинственных группировок религиозных фанатиков , действовавших на территории Пакистана , а также группировок , нападавших на индийские войска в Кашмире .',\n",
              "  'В результате , Пакистан получил американскую финансовую помощь и оружие .',\n",
              "  'Стараясь подтвердить свои союзнические намерения , Мушарраф ( впервые после получения Пакистаном независимости ) отправил пакистанскую армию в контролируемые племенами районы , граничащие с Афганистаном .',\n",
              "  'Результаты данных операций против Талибана и Аль - Каеды оказались неоднозначными .',\n",
              "  'Хотя США рассматривали Мушаррафа как сторонника изменений , он так и не добился политической легитимности в стране , а его политика считалась изобилующей противоречиями .',\n",
              "  'Например , он сотрудничал с исламистскими политическими силами ( которые в <number> г . проголосовали за конституционные изменения , узаконивающие его положение и действия ) .'],\n",
              " ['Desperate to hold onto power , Pervez Musharraf has discarded Pakistan ’ s constitutional framework and declared a state of emergency .',\n",
              "  'Artfully , though shamelessly , he has tried to sell this action as an effort to bring about stability and help fight the war on terror more effectively .',\n",
              "  'Nothing could be further from the truth .',\n",
              "  'If Pakistan ’ s history is any indicator , his decision to impose martial law may prove to be the proverbial straw that breaks the camel ’ s back .',\n",
              "  'General Musharraf appeared on the national scene on October <number> , <number> , when he ousted an elected government and announced an ambitious “ nation - building ” project .',\n",
              "  'Many Pakistanis , disillusioned with Pakistan ’ s political class , remained mute , thinking that he might deliver .',\n",
              "  'The September <number> , <number> , terrorist attacks on America brought Musharraf into the international limelight as he agreed to ditch the Taliban and support the United States - led war on terror .',\n",
              "  'Musharraf clamped down on some religious militants operating inside Pakistan and also on those fighting Indian forces in Kashmir .',\n",
              "  'As a result , Pakistan was rewarded with American financial assistance and arms .',\n",
              "  'In furtherance of his re - alignment , Musharraf sent the Pakistani army into the tribal areas bordering Afghanistan for the first time since Pakistan ’ s independence .',\n",
              "  'Operations there against Taliban and al - Qaeda forces brought mixed results .',\n",
              "  'Although the US viewed Musharraf as an agent of change , he has never achieved domestic political legitimacy , and his policies were seen as rife with contradictions .',\n",
              "  'For example , he made alliances with Islamist political forces ( who in <number> voted for constitutional changes legitimizing his position and actions ) .'])"
            ]
          },
          "metadata": {
            "tags": []
          },
          "execution_count": 15
        }
      ]
    },
    {
      "cell_type": "code",
      "metadata": {
        "id": "mL8IoqNvXMaA",
        "colab_type": "code",
        "colab": {}
      },
      "source": [
        "ru[:length_dictionary]"
      ],
      "execution_count": null,
      "outputs": []
    },
    {
      "cell_type": "code",
      "metadata": {
        "id": "L9NwDDBi6EVP",
        "colab_type": "code",
        "colab": {
          "base_uri": "https://localhost:8080/",
          "height": 545
        },
        "outputId": "1e6babad-0236-4921-9090-b3670942d1f8"
      },
      "source": [
        "# Let's see which sentence length to choose\n",
        "sizeEn = []\n",
        "for i in en:\n",
        "  sizeEn.append(len(i.split()))\n",
        "plt.figure(figsize=(20,4))\n",
        "plt.title('Length of sentences in the English corpus')\n",
        "plt.hist(sizeEn, bins=50)\n",
        "plt.grid(True)\n",
        "plt.show()\n",
        "\n",
        "sizeRu = []\n",
        "for i in ru:\n",
        "  sizeRu.append(len(i.split()))\n",
        "plt.figure(figsize=(20,4))\n",
        "plt.title('Length of sentences in the Russian corpus')\n",
        "plt.hist(sizeRu, bins=50)\n",
        "plt.grid(True)\n",
        "plt.show()\n"
      ],
      "execution_count": 17,
      "outputs": [
        {
          "output_type": "display_data",
          "data": {
            "image/png": "[encoded data removed]",
            "text/plain": [
              "<Figure size 1440x288 with 1 Axes>"
            ]
          },
          "metadata": {
            "tags": [],
            "needs_background": "light"
          }
        },
        {
          "output_type": "display_data",
          "data": {
            "image/png": "[encoded data removed]",
            "text/plain": [
              "<Figure size 1440x288 with 1 Axes>"
            ]
          },
          "metadata": {
            "tags": [],
            "needs_background": "light"
          }
        }
      ]
    },
    {
      "cell_type": "code",
      "metadata": {
        "id": "lU57eCJvni4N",
        "colab_type": "code",
        "colab": {
          "base_uri": "https://localhost:8080/",
          "height": 34
        },
        "outputId": "c172f4b0-bd5b-4491-92a6-68940e6f0a79"
      },
      "source": [
        "min(sizeRu), max(sizeRu), len(sizeRu)"
      ],
      "execution_count": 18,
      "outputs": [
        {
          "output_type": "execute_result",
          "data": {
            "text/plain": [
              "(5, 106, 78656)"
            ]
          },
          "metadata": {
            "tags": []
          },
          "execution_count": 18
        }
      ]
    },
    {
      "cell_type": "code",
      "metadata": {
        "id": "8lFIh_mmnvWG",
        "colab_type": "code",
        "colab": {
          "base_uri": "https://localhost:8080/",
          "height": 34
        },
        "outputId": "42e2f88b-f38c-4877-b34a-afde91d2ecda"
      },
      "source": [
        "min(sizeEn), max(sizeEn), len(sizeEn)"
      ],
      "execution_count": 19,
      "outputs": [
        {
          "output_type": "execute_result",
          "data": {
            "text/plain": [
              "(5, 119, 78656)"
            ]
          },
          "metadata": {
            "tags": []
          },
          "execution_count": 19
        }
      ]
    },
    {
      "cell_type": "code",
      "metadata": {
        "id": "Ci-e6QLU7Fys",
        "colab_type": "code",
        "colab": {}
      },
      "source": [
        "enc_in = [q + ' <END>' for q in ru]"
      ],
      "execution_count": 20,
      "outputs": []
    },
    {
      "cell_type": "code",
      "metadata": {
        "id": "5MDg6kFG7OhQ",
        "colab_type": "code",
        "colab": {
          "base_uri": "https://localhost:8080/",
          "height": 255
        },
        "outputId": "48ac3fd5-db00-4a8a-8136-ef88b02db13a"
      },
      "source": [
        "enc_in[:13]"
      ],
      "execution_count": 21,
      "outputs": [
        {
          "output_type": "execute_result",
          "data": {
            "text/plain": [
              "['В отчаянном стремлении удержать власть , Первез Мушарраф отверг конституционную систему Пакистана и объявил о введении чрезвычайного положения . <END>',\n",
              " 'Искусно , хотя и бессовестно , он попытался оправдать данное действие стремлением установить стабильность и начать более эффективную борьбу с терроризмом . <END>',\n",
              " 'Это крайне далеко от действительности . <END>',\n",
              " 'Если судить по пакистанской истории , его решение установить военное положение может оказаться той самой последней каплей из пословицы , которая переполнит чашу терпения народа . <END>',\n",
              " 'Генерал Мушарраф появился на национальной сцене Пакистана <number> октября <number> года , свергнув законно избранное правительство и объявив о начале амбициозного проекта по « строительству нации » . <END>',\n",
              " 'Многие пакистанцы , лишённые иллюзий в отношении политического класса Пакистана , молчаливо согласились с его приходом к власти , думая , что он сможет что - то изменить . <END>',\n",
              " 'Террористические атаки в Америке <number> сентября <number> года позволили Мушаррафу попасть в центр внимания на международной арене , поскольку он согласился уничтожить Талибан и поддержать войну с терроризмом , возглавляемую Соединёнными Штатами . <END>',\n",
              " 'Мушарраф пресёк деятельность некоторых воинственных группировок религиозных фанатиков , действовавших на территории Пакистана , а также группировок , нападавших на индийские войска в Кашмире . <END>',\n",
              " 'В результате , Пакистан получил американскую финансовую помощь и оружие . <END>',\n",
              " 'Стараясь подтвердить свои союзнические намерения , Мушарраф ( впервые после получения Пакистаном независимости ) отправил пакистанскую армию в контролируемые племенами районы , граничащие с Афганистаном . <END>',\n",
              " 'Результаты данных операций против Талибана и Аль - Каеды оказались неоднозначными . <END>',\n",
              " 'Хотя США рассматривали Мушаррафа как сторонника изменений , он так и не добился политической легитимности в стране , а его политика считалась изобилующей противоречиями . <END>',\n",
              " 'Например , он сотрудничал с исламистскими политическими силами ( которые в <number> г . проголосовали за конституционные изменения , узаконивающие его положение и действия ) . <END>']"
            ]
          },
          "metadata": {
            "tags": []
          },
          "execution_count": 21
        }
      ]
    },
    {
      "cell_type": "code",
      "metadata": {
        "id": "uHGvTUpQ7Sg-",
        "colab_type": "code",
        "colab": {}
      },
      "source": [
        "decoder_in = ['<START> ' + a for a in en]\n",
        "decoder_out = [a + ' <END>' for a in en]"
      ],
      "execution_count": 22,
      "outputs": []
    },
    {
      "cell_type": "code",
      "metadata": {
        "id": "esq-ubuj7dnd",
        "colab_type": "code",
        "colab": {
          "base_uri": "https://localhost:8080/",
          "height": 255
        },
        "outputId": "8f0e1dcc-1a9c-448c-f028-ca6b66029bd6"
      },
      "source": [
        "decoder_in[:13]"
      ],
      "execution_count": 23,
      "outputs": [
        {
          "output_type": "execute_result",
          "data": {
            "text/plain": [
              "['<START> Desperate to hold onto power , Pervez Musharraf has discarded Pakistan ’ s constitutional framework and declared a state of emergency .',\n",
              " '<START> Artfully , though shamelessly , he has tried to sell this action as an effort to bring about stability and help fight the war on terror more effectively .',\n",
              " '<START> Nothing could be further from the truth .',\n",
              " '<START> If Pakistan ’ s history is any indicator , his decision to impose martial law may prove to be the proverbial straw that breaks the camel ’ s back .',\n",
              " '<START> General Musharraf appeared on the national scene on October <number> , <number> , when he ousted an elected government and announced an ambitious “ nation - building ” project .',\n",
              " '<START> Many Pakistanis , disillusioned with Pakistan ’ s political class , remained mute , thinking that he might deliver .',\n",
              " '<START> The September <number> , <number> , terrorist attacks on America brought Musharraf into the international limelight as he agreed to ditch the Taliban and support the United States - led war on terror .',\n",
              " '<START> Musharraf clamped down on some religious militants operating inside Pakistan and also on those fighting Indian forces in Kashmir .',\n",
              " '<START> As a result , Pakistan was rewarded with American financial assistance and arms .',\n",
              " '<START> In furtherance of his re - alignment , Musharraf sent the Pakistani army into the tribal areas bordering Afghanistan for the first time since Pakistan ’ s independence .',\n",
              " '<START> Operations there against Taliban and al - Qaeda forces brought mixed results .',\n",
              " '<START> Although the US viewed Musharraf as an agent of change , he has never achieved domestic political legitimacy , and his policies were seen as rife with contradictions .',\n",
              " '<START> For example , he made alliances with Islamist political forces ( who in <number> voted for constitutional changes legitimizing his position and actions ) .']"
            ]
          },
          "metadata": {
            "tags": []
          },
          "execution_count": 23
        }
      ]
    },
    {
      "cell_type": "code",
      "metadata": {
        "id": "pU6Ps6pX7ilK",
        "colab_type": "code",
        "colab": {
          "base_uri": "https://localhost:8080/",
          "height": 255
        },
        "outputId": "36f26cc1-3adc-4cb3-e0c1-fefd90d1a9c4"
      },
      "source": [
        "decoder_out[:13]"
      ],
      "execution_count": 24,
      "outputs": [
        {
          "output_type": "execute_result",
          "data": {
            "text/plain": [
              "['Desperate to hold onto power , Pervez Musharraf has discarded Pakistan ’ s constitutional framework and declared a state of emergency . <END>',\n",
              " 'Artfully , though shamelessly , he has tried to sell this action as an effort to bring about stability and help fight the war on terror more effectively . <END>',\n",
              " 'Nothing could be further from the truth . <END>',\n",
              " 'If Pakistan ’ s history is any indicator , his decision to impose martial law may prove to be the proverbial straw that breaks the camel ’ s back . <END>',\n",
              " 'General Musharraf appeared on the national scene on October <number> , <number> , when he ousted an elected government and announced an ambitious “ nation - building ” project . <END>',\n",
              " 'Many Pakistanis , disillusioned with Pakistan ’ s political class , remained mute , thinking that he might deliver . <END>',\n",
              " 'The September <number> , <number> , terrorist attacks on America brought Musharraf into the international limelight as he agreed to ditch the Taliban and support the United States - led war on terror . <END>',\n",
              " 'Musharraf clamped down on some religious militants operating inside Pakistan and also on those fighting Indian forces in Kashmir . <END>',\n",
              " 'As a result , Pakistan was rewarded with American financial assistance and arms . <END>',\n",
              " 'In furtherance of his re - alignment , Musharraf sent the Pakistani army into the tribal areas bordering Afghanistan for the first time since Pakistan ’ s independence . <END>',\n",
              " 'Operations there against Taliban and al - Qaeda forces brought mixed results . <END>',\n",
              " 'Although the US viewed Musharraf as an agent of change , he has never achieved domestic political legitimacy , and his policies were seen as rife with contradictions . <END>',\n",
              " 'For example , he made alliances with Islamist political forces ( who in <number> voted for constitutional changes legitimizing his position and actions ) . <END>']"
            ]
          },
          "metadata": {
            "tags": []
          },
          "execution_count": 24
        }
      ]
    },
    {
      "cell_type": "code",
      "metadata": {
        "id": "93y-GY-q6t6n",
        "colab_type": "code",
        "colab": {}
      },
      "source": [
        "num_words = 90000 # cut off only a third of the total volume of terms\n",
        "tokenizer = Tokenizer(num_words, filters='', oov_token='<UNK>') # it's important to include the \"filters\" param"
      ],
      "execution_count": 25,
      "outputs": []
    },
    {
      "cell_type": "code",
      "metadata": {
        "id": "Uni3eWLo692T",
        "colab_type": "code",
        "colab": {}
      },
      "source": [
        "tokenizer.fit_on_texts(enc_in)\n",
        "tokenizer.fit_on_texts(decoder_in)\n",
        "tokenizer.fit_on_texts(decoder_out)"
      ],
      "execution_count": 26,
      "outputs": []
    },
    {
      "cell_type": "code",
      "metadata": {
        "id": "tuVoo6lJ7pqI",
        "colab_type": "code",
        "colab": {
          "base_uri": "https://localhost:8080/",
          "height": 34
        },
        "outputId": "629daa39-3999-409c-801b-cc17549b5a37"
      },
      "source": [
        "len(tokenizer.index_word)"
      ],
      "execution_count": 27,
      "outputs": [
        {
          "output_type": "execute_result",
          "data": {
            "text/plain": [
              "130440"
            ]
          },
          "metadata": {
            "tags": []
          },
          "execution_count": 27
        }
      ]
    },
    {
      "cell_type": "code",
      "metadata": {
        "id": "A7A-z3BXn1Q5",
        "colab_type": "code",
        "colab": {
          "base_uri": "https://localhost:8080/",
          "height": 1000
        },
        "outputId": "209a0178-233a-4f9b-b540-534b24064c58"
      },
      "source": [
        "tokenizer.index_word"
      ],
      "execution_count": 28,
      "outputs": [
        {
          "output_type": "execute_result",
          "data": {
            "text/plain": [
              "{1: '<UNK>',\n",
              " 2: ',',\n",
              " 3: '.',\n",
              " 4: 'the',\n",
              " 5: '<end>',\n",
              " 6: 'of',\n",
              " 7: 'to',\n",
              " 8: 'and',\n",
              " 9: '<start>',\n",
              " 10: 'in',\n",
              " 11: 'a',\n",
              " 12: '-',\n",
              " 13: 'в',\n",
              " 14: 'и',\n",
              " 15: 'is',\n",
              " 16: 'that',\n",
              " 17: '<number>',\n",
              " 18: 's',\n",
              " 19: 'for',\n",
              " 20: 'as',\n",
              " 21: '’',\n",
              " 22: 'it',\n",
              " 23: 'be',\n",
              " 24: 'на',\n",
              " 25: 'are',\n",
              " 26: 'but',\n",
              " 27: 'not',\n",
              " 28: 'with',\n",
              " 29: 'не',\n",
              " 30: 'что',\n",
              " 31: 'on',\n",
              " 32: 'by',\n",
              " 33: \"'\",\n",
              " 34: 'this',\n",
              " 35: '–',\n",
              " 36: 'have',\n",
              " 37: 'will',\n",
              " 38: 'has',\n",
              " 39: 'с',\n",
              " 40: 'from',\n",
              " 41: '\"',\n",
              " 42: 'their',\n",
              " 43: 'at',\n",
              " 44: 'its',\n",
              " 45: 'they',\n",
              " 46: 'an',\n",
              " 47: 'was',\n",
              " 48: 'more',\n",
              " 49: 'or',\n",
              " 50: 'как',\n",
              " 51: ':',\n",
              " 52: '(',\n",
              " 53: 'к',\n",
              " 54: ')',\n",
              " 55: 'us',\n",
              " 56: 'world',\n",
              " 57: 'для',\n",
              " 58: 'по',\n",
              " 59: 'countries',\n",
              " 60: 'но',\n",
              " 61: 'would',\n",
              " 62: 'than',\n",
              " 63: 'which',\n",
              " 64: 'can',\n",
              " 65: 'if',\n",
              " 66: 'all',\n",
              " 67: 'это',\n",
              " 68: 'one',\n",
              " 69: 'we',\n",
              " 70: 'so',\n",
              " 71: '”',\n",
              " 72: '“',\n",
              " 73: '%',\n",
              " 74: 'europe',\n",
              " 75: 'new',\n",
              " 76: 'only',\n",
              " 77: 'no',\n",
              " 78: 'his',\n",
              " 79: 'political',\n",
              " 80: 'economic',\n",
              " 81: 'то',\n",
              " 82: 'been',\n",
              " 83: ';',\n",
              " 84: 'из',\n",
              " 85: 'there',\n",
              " 86: 'even',\n",
              " 87: 'от',\n",
              " 88: 'when',\n",
              " 89: 'who',\n",
              " 90: 'were',\n",
              " 91: 'these',\n",
              " 92: 'such',\n",
              " 93: 'other',\n",
              " 94: 'за',\n",
              " 95: 'people',\n",
              " 96: 'about',\n",
              " 97: 'government',\n",
              " 98: 'should',\n",
              " 99: 'also',\n",
              " 100: 'а',\n",
              " 101: 'most',\n",
              " 102: 'he',\n",
              " 103: 'now',\n",
              " 104: '«',\n",
              " 105: 'what',\n",
              " 106: '»',\n",
              " 107: 'european',\n",
              " 108: 'many',\n",
              " 109: '?',\n",
              " 110: 'may',\n",
              " 111: 'более',\n",
              " 112: 'years',\n",
              " 113: 'some',\n",
              " 114: 'because',\n",
              " 115: 'america',\n",
              " 116: 'must',\n",
              " 117: 'того',\n",
              " 118: 'о',\n",
              " 119: 'они',\n",
              " 120: 'чтобы',\n",
              " 121: 'eu',\n",
              " 122: 'или',\n",
              " 123: 'international',\n",
              " 124: 'war',\n",
              " 125: 'russia',\n",
              " 126: 'их',\n",
              " 127: 'country',\n",
              " 128: 'do',\n",
              " 129: 'into',\n",
              " 130: 'could',\n",
              " 131: 'если',\n",
              " 132: 'china',\n",
              " 133: 'его',\n",
              " 134: 'бы',\n",
              " 135: 'over',\n",
              " 136: 'может',\n",
              " 137: 'power',\n",
              " 138: 'policy',\n",
              " 139: 'much',\n",
              " 140: 'time',\n",
              " 141: 'время',\n",
              " 142: 'также',\n",
              " 143: 'them',\n",
              " 144: 'все',\n",
              " 145: 'between',\n",
              " 146: 'president',\n",
              " 147: 'сша',\n",
              " 148: 'had',\n",
              " 149: 'our',\n",
              " 150: 'those',\n",
              " 151: 'long',\n",
              " 152: 'first',\n",
              " 153: 'так',\n",
              " 154: 'against',\n",
              " 155: 'i',\n",
              " 156: 'after',\n",
              " 157: 'во',\n",
              " 158: 'state',\n",
              " 159: 'states',\n",
              " 160: 'является',\n",
              " 161: 'like',\n",
              " 162: 'public',\n",
              " 163: 'которые',\n",
              " 164: 'up',\n",
              " 165: 'growth',\n",
              " 166: 'out',\n",
              " 167: 'он',\n",
              " 168: 'global',\n",
              " 169: 'two',\n",
              " 170: 'том',\n",
              " 171: 'только',\n",
              " 172: 'же',\n",
              " 173: 'economy',\n",
              " 174: 'while',\n",
              " 175: 'когда',\n",
              " 176: 'well',\n",
              " 177: 'iraq',\n",
              " 178: 'any',\n",
              " 179: 'market',\n",
              " 180: 'страны',\n",
              " 181: 'both',\n",
              " 182: 'чем',\n",
              " 183: 'будет',\n",
              " 184: 'indeed',\n",
              " 185: 'american',\n",
              " 186: 'year',\n",
              " 187: 'today',\n",
              " 188: 'мы',\n",
              " 189: 'how',\n",
              " 190: 'social',\n",
              " 191: 'way',\n",
              " 192: 'bush',\n",
              " 193: 'было',\n",
              " 194: 'foreign',\n",
              " 195: 'military',\n",
              " 196: 'security',\n",
              " 197: 'make',\n",
              " 198: 'national',\n",
              " 199: 'financial',\n",
              " 200: 'system',\n",
              " 201: 'до',\n",
              " 202: 'where',\n",
              " 203: 'high',\n",
              " 204: 'стран',\n",
              " 205: 'trade',\n",
              " 206: 'даже',\n",
              " 207: 'еще',\n",
              " 208: 'democracy',\n",
              " 209: 'too',\n",
              " 210: 'human',\n",
              " 211: 'быть',\n",
              " 212: 'change',\n",
              " 213: 'own',\n",
              " 214: 'должны',\n",
              " 215: 'less',\n",
              " 216: 'больше',\n",
              " 217: 'yet',\n",
              " 218: 'union',\n",
              " 219: 'last',\n",
              " 220: 'since',\n",
              " 221: 'support',\n",
              " 222: 'при',\n",
              " 223: 'rights',\n",
              " 224: 'need',\n",
              " 225: 'могут',\n",
              " 226: 'right',\n",
              " 227: 'bank',\n",
              " 228: 'у',\n",
              " 229: 'become',\n",
              " 230: 'central',\n",
              " 231: 'same',\n",
              " 232: 'without',\n",
              " 233: 'united',\n",
              " 234: 'development',\n",
              " 235: 'does',\n",
              " 236: 'just',\n",
              " 237: 'far',\n",
              " 238: 'being',\n",
              " 239: 'oil',\n",
              " 240: 'между',\n",
              " 241: 'rates',\n",
              " 242: 'interest',\n",
              " 243: 'future',\n",
              " 244: 'however',\n",
              " 245: 'года',\n",
              " 246: 'germany',\n",
              " 247: 'still',\n",
              " 248: 'однако',\n",
              " 249: 'under',\n",
              " 250: 'important',\n",
              " 251: 'markets',\n",
              " 252: 'then',\n",
              " 253: 'party',\n",
              " 254: 'лет',\n",
              " 255: 'real',\n",
              " 256: 'были',\n",
              " 257: 'made',\n",
              " 258: 'did',\n",
              " 259: 'году',\n",
              " 260: 'ес',\n",
              " 261: 'после',\n",
              " 262: 't',\n",
              " 263: 'leaders',\n",
              " 264: 'cannot',\n",
              " 265: 'israel',\n",
              " 266: 'governments',\n",
              " 267: 'course',\n",
              " 268: 'тем',\n",
              " 269: 'france',\n",
              " 270: 'term',\n",
              " 271: 'poor',\n",
              " 272: 'good',\n",
              " 273: 'example',\n",
              " 274: 'ее',\n",
              " 275: 'policies',\n",
              " 276: 'work',\n",
              " 277: 'before',\n",
              " 278: 'through',\n",
              " 279: 'often',\n",
              " 280: 'democratic',\n",
              " 281: 'образом',\n",
              " 282: 'part',\n",
              " 283: 'former',\n",
              " 284: 'past',\n",
              " 285: 'might',\n",
              " 286: 'recent',\n",
              " 287: 'east',\n",
              " 288: 'end',\n",
              " 289: 'этого',\n",
              " 290: 'rate',\n",
              " 291: 'law',\n",
              " 292: 'был',\n",
              " 293: 'со',\n",
              " 294: 'эти',\n",
              " 295: 'prices',\n",
              " 296: 'iran',\n",
              " 297: 'another',\n",
              " 298: 'japan',\n",
              " 299: 'reform',\n",
              " 300: '$',\n",
              " 301: 'better',\n",
              " 302: 'она',\n",
              " 303: 'un',\n",
              " 304: 'during',\n",
              " 305: 'take',\n",
              " 306: 'university',\n",
              " 307: 'людей',\n",
              " 308: 'crisis',\n",
              " 309: 'current',\n",
              " 310: 'use',\n",
              " 311: 'life',\n",
              " 312: 'capital',\n",
              " 313: 'minister',\n",
              " 314: 'members',\n",
              " 315: 'fact',\n",
              " 316: 'rather',\n",
              " 317: 'free',\n",
              " 318: 'problem',\n",
              " 319: 'likely',\n",
              " 320: 'который',\n",
              " 321: 'imf',\n",
              " 322: 'among',\n",
              " 323: 'three',\n",
              " 324: 'large',\n",
              " 325: '`',\n",
              " 326: 'institutions',\n",
              " 327: 'west',\n",
              " 328: 'within',\n",
              " 329: 'help',\n",
              " 330: 'nuclear',\n",
              " 331: 'society',\n",
              " 332: 'you',\n",
              " 333: 'means',\n",
              " 334: 'administration',\n",
              " 335: 'very',\n",
              " 336: 'little',\n",
              " 337: 'будут',\n",
              " 338: 'политики',\n",
              " 339: 'few',\n",
              " 340: 'euro',\n",
              " 341: 'middle',\n",
              " 342: 'result',\n",
              " 343: 'whether',\n",
              " 344: 'energy',\n",
              " 345: 'including',\n",
              " 346: 'можно',\n",
              " 347: 'peace',\n",
              " 348: 'member',\n",
              " 349: 'money',\n",
              " 350: 'thus',\n",
              " 351: 'process',\n",
              " 352: 'таким',\n",
              " 353: 'developing',\n",
              " 354: 'health',\n",
              " 355: 'french',\n",
              " 356: 'research',\n",
              " 357: 'problems',\n",
              " 358: 'others',\n",
              " 359: 'европы',\n",
              " 360: 'кто',\n",
              " 361: 'second',\n",
              " 362: 'ли',\n",
              " 363: 'странах',\n",
              " 364: 'была',\n",
              " 365: 'против',\n",
              " 366: 'уже',\n",
              " 367: 'why',\n",
              " 368: 'great',\n",
              " 369: 'ни',\n",
              " 370: 'around',\n",
              " 371: 'order',\n",
              " 372: 'different',\n",
              " 373: 'я',\n",
              " 374: 'never',\n",
              " 375: 'сегодня',\n",
              " 376: 'всего',\n",
              " 377: 'major',\n",
              " 378: 'других',\n",
              " 379: 'history',\n",
              " 380: 'putin',\n",
              " 381: 'экономики',\n",
              " 382: 'ago',\n",
              " 383: 'old',\n",
              " 384: 'case',\n",
              " 385: 'этом',\n",
              " 386: 'politics',\n",
              " 387: 'role',\n",
              " 388: 'seems',\n",
              " 389: 'поскольку',\n",
              " 390: 'мира',\n",
              " 391: 'common',\n",
              " 392: 'least',\n",
              " 393: 'itself',\n",
              " 394: 'india',\n",
              " 395: 'century',\n",
              " 396: 'western',\n",
              " 397: 'force',\n",
              " 398: 'clear',\n",
              " 399: 'moreover',\n",
              " 400: 'stability',\n",
              " 401: 'strong',\n",
              " 402: 'almost',\n",
              " 403: 'которая',\n",
              " 404: 'control',\n",
              " 405: 'tax',\n",
              " 406: 'each',\n",
              " 407: 'многие',\n",
              " 408: 'based',\n",
              " 409: 'exchange',\n",
              " 410: 'investment',\n",
              " 411: 'see',\n",
              " 412: 'low',\n",
              " 413: 'professor',\n",
              " 414: 'once',\n",
              " 415: 'risk',\n",
              " 416: 'perhaps',\n",
              " 417: 'мире',\n",
              " 418: 'come',\n",
              " 419: 'rich',\n",
              " 420: 'regime',\n",
              " 421: 'правительства',\n",
              " 422: 'возможно',\n",
              " 423: 'labor',\n",
              " 424: 'свои',\n",
              " 425: 'higher',\n",
              " 426: 'possible',\n",
              " 427: 'remains',\n",
              " 428: 'себя',\n",
              " 429: 'region',\n",
              " 430: 'needed',\n",
              " 431: 'asia',\n",
              " 432: 'inflation',\n",
              " 433: 'anti',\n",
              " 434: 'тех',\n",
              " 435: 'например',\n",
              " 436: 'left',\n",
              " 437: 'off',\n",
              " 438: 'back',\n",
              " 439: 'economics',\n",
              " 440: 'palestinian',\n",
              " 441: 'russian',\n",
              " 442: 'этой',\n",
              " 443: 'interests',\n",
              " 444: 'правительство',\n",
              " 445: 'стороны',\n",
              " 446: 'say',\n",
              " 447: 'already',\n",
              " 448: 'свою',\n",
              " 449: 'этих',\n",
              " 450: 'needs',\n",
              " 451: 'place',\n",
              " 452: 'своих',\n",
              " 453: 'next',\n",
              " 454: 'every',\n",
              " 455: 'turkey',\n",
              " 456: 'менее',\n",
              " 457: 'price',\n",
              " 458: 'greater',\n",
              " 459: 'под',\n",
              " 460: 'действительно',\n",
              " 461: 'longer',\n",
              " 462: 'council',\n",
              " 463: 'themselves',\n",
              " 464: 'власти',\n",
              " 465: 'где',\n",
              " 466: 'prime',\n",
              " 467: 'election',\n",
              " 468: 'этот',\n",
              " 469: 'всех',\n",
              " 470: 'instead',\n",
              " 471: 'хотя',\n",
              " 472: 'small',\n",
              " 473: 'down',\n",
              " 474: 'очень',\n",
              " 475: 'community',\n",
              " 476: 'him',\n",
              " 477: 'nations',\n",
              " 478: 'million',\n",
              " 479: 'billion',\n",
              " 480: 'called',\n",
              " 481: 'arab',\n",
              " 482: 'такие',\n",
              " 483: 'population',\n",
              " 484: 'private',\n",
              " 485: 'россии',\n",
              " 486: 'general',\n",
              " 487: 'forces',\n",
              " 488: 'domestic',\n",
              " 489: 'reforms',\n",
              " 490: 'given',\n",
              " 491: 'являются',\n",
              " 492: 'making',\n",
              " 493: 'despite',\n",
              " 494: 'point',\n",
              " 495: 'ever',\n",
              " 496: 'nato',\n",
              " 497: 'elections',\n",
              " 498: 'войны',\n",
              " 499: 'led',\n",
              " 500: 'rule',\n",
              " 501: 'chinese',\n",
              " 502: 'although',\n",
              " 503: 'true',\n",
              " 504: 'number',\n",
              " 505: 'dollar',\n",
              " 506: 'terrorism',\n",
              " 507: 'best',\n",
              " 508: 'level',\n",
              " 509: 'business',\n",
              " 510: 'open',\n",
              " 511: 'go',\n",
              " 512: '/',\n",
              " 513: 'my',\n",
              " 514: 'soviet',\n",
              " 515: 'потому',\n",
              " 516: 'short',\n",
              " 517: 'increase',\n",
              " 518: 'sense',\n",
              " 519: 'сейчас',\n",
              " 520: 'parties',\n",
              " 521: 'своей',\n",
              " 522: 'again',\n",
              " 523: 'remain',\n",
              " 524: 'income',\n",
              " 525: 'believe',\n",
              " 526: 'которых',\n",
              " 527: 'hard',\n",
              " 528: 'poverty',\n",
              " 529: 'put',\n",
              " 530: 'get',\n",
              " 531: 'случае',\n",
              " 532: 'continue',\n",
              " 533: 'без',\n",
              " 534: 'citizens',\n",
              " 535: 'европе',\n",
              " 536: 'безопасности',\n",
              " 537: 'question',\n",
              " 538: 'education',\n",
              " 539: 'know',\n",
              " 540: 'per',\n",
              " 541: 'growing',\n",
              " 542: 'им',\n",
              " 543: 'non',\n",
              " 544: 'relations',\n",
              " 545: 'difficult',\n",
              " 546: 'want',\n",
              " 547: 'currency',\n",
              " 548: 'companies',\n",
              " 549: 'некоторые',\n",
              " 550: 'них',\n",
              " 551: 'issues',\n",
              " 552: 'demand',\n",
              " 553: 'globalization',\n",
              " 554: 'americans',\n",
              " 555: 'commission',\n",
              " 556: 'africa',\n",
              " 557: 'used',\n",
              " 558: 'ukraine',\n",
              " 559: 'science',\n",
              " 560: 'benefits',\n",
              " 561: 'run',\n",
              " 562: 'provide',\n",
              " 563: 'early',\n",
              " 564: 'нет',\n",
              " 565: 'conflict',\n",
              " 566: 'view',\n",
              " 567: 'workers',\n",
              " 568: 'set',\n",
              " 569: 'strategy',\n",
              " 570: 'оон',\n",
              " 571: 'recently',\n",
              " 572: 'люди',\n",
              " 573: 'роста',\n",
              " 574: 'especially',\n",
              " 575: 'debt',\n",
              " 576: 'german',\n",
              " 577: 'half',\n",
              " 578: 'enough',\n",
              " 579: 'monetary',\n",
              " 580: 'жизни',\n",
              " 581: 'violence',\n",
              " 582: 'religious',\n",
              " 583: 'north',\n",
              " 584: 'economies',\n",
              " 585: 'другие',\n",
              " 586: 'further',\n",
              " 587: 'defense',\n",
              " 588: 'человека',\n",
              " 589: 'decades',\n",
              " 590: 'issue',\n",
              " 591: 'values',\n",
              " 592: 'reason',\n",
              " 593: 'есть',\n",
              " 594: 'таких',\n",
              " 595: 'children',\n",
              " 596: 'америки',\n",
              " 597: 'always',\n",
              " 598: 'costs',\n",
              " 599: 'face',\n",
              " 600: 'women',\n",
              " 601: 'проблемы',\n",
              " 602: 'lead',\n",
              " 603: 'лишь',\n",
              " 604: 'simply',\n",
              " 605: 'должен',\n",
              " 606: 'home',\n",
              " 607: 'terms',\n",
              " 608: 'resources',\n",
              " 609: 'majority',\n",
              " 610: 'south',\n",
              " 611: 'efforts',\n",
              " 612: 'information',\n",
              " 613: 'big',\n",
              " 614: 'serious',\n",
              " 615: 'groups',\n",
              " 616: 'day',\n",
              " 617: 'населения',\n",
              " 618: 'though',\n",
              " 619: 'которой',\n",
              " 620: 'self',\n",
              " 621: 'должна',\n",
              " 622: 'particularly',\n",
              " 623: 'korea',\n",
              " 624: 'несмотря',\n",
              " 625: 'here',\n",
              " 626: 'success',\n",
              " 627: 'отношении',\n",
              " 628: 'мере',\n",
              " 629: 'times',\n",
              " 630: 'key',\n",
              " 631: 'fiscal',\n",
              " 632: 'europeans',\n",
              " 633: 'opposition',\n",
              " 634: 'find',\n",
              " 635: 'cost',\n",
              " 636: 'nothing',\n",
              " 637: 'freedom',\n",
              " 638: 'modern',\n",
              " 639: 'action',\n",
              " 640: 'nor',\n",
              " 641: 'climate',\n",
              " 642: 'civil',\n",
              " 643: 'государства',\n",
              " 644: 'think',\n",
              " 645: 'мир',\n",
              " 646: 'corruption',\n",
              " 647: 'экономического',\n",
              " 648: 'changes',\n",
              " 649: 'weapons',\n",
              " 650: 'banks',\n",
              " 651: 'один',\n",
              " 652: 'local',\n",
              " 653: 'gdp',\n",
              " 654: 'politicians',\n",
              " 655: 'часто',\n",
              " 656: 'british',\n",
              " 657: 'рост',\n",
              " 658: 'либо',\n",
              " 659: 'israeli',\n",
              " 660: 'powerful',\n",
              " 661: 'seem',\n",
              " 662: 'form',\n",
              " 663: 'third',\n",
              " 664: 'effective',\n",
              " 665: 'budget',\n",
              " 666: 'многих',\n",
              " 667: 'такой',\n",
              " 668: 'seen',\n",
              " 669: 'spending',\n",
              " 670: 'hope',\n",
              " 671: 'большинство',\n",
              " 672: 'until',\n",
              " 673: 'decision',\n",
              " 674: 'constitution',\n",
              " 675: 'заключается',\n",
              " 676: 'над',\n",
              " 677: 'threat',\n",
              " 678: 'said',\n",
              " 679: 'program',\n",
              " 680: 'value',\n",
              " 681: 'able',\n",
              " 682: 'особенно',\n",
              " 683: 'treaty',\n",
              " 684: 'просто',\n",
              " 685: 'regional',\n",
              " 686: 'create',\n",
              " 687: 'turn',\n",
              " 688: 'decade',\n",
              " 689: 'something',\n",
              " 690: 'islamic',\n",
              " 691: 'развития',\n",
              " 692: 'services',\n",
              " 693: 'together',\n",
              " 694: 'increasingly',\n",
              " 695: 'aid',\n",
              " 696: 'президент',\n",
              " 697: 'lack',\n",
              " 698: 'done',\n",
              " 699: 'whose',\n",
              " 700: 'several',\n",
              " 701: 'системы',\n",
              " 702: 'именно',\n",
              " 703: 'parliament',\n",
              " 704: 'fear',\n",
              " 705: 'idea',\n",
              " 706: 'look',\n",
              " 707: 'rise',\n",
              " 708: 'мвф',\n",
              " 709: 'matter',\n",
              " 710: 'group',\n",
              " 711: 'revolution',\n",
              " 712: 'результате',\n",
              " 713: 'политика',\n",
              " 714: 'taken',\n",
              " 715: 'необходимо',\n",
              " 716: 'буша',\n",
              " 717: 'debate',\n",
              " 718: 'britain',\n",
              " 719: 'ways',\n",
              " 720: 'пор',\n",
              " 721: 'similar',\n",
              " 722: 'makes',\n",
              " 723: 'mexico',\n",
              " 724: 'должно',\n",
              " 725: 'эта',\n",
              " 726: 'poland',\n",
              " 727: 'сделать',\n",
              " 728: 'существует',\n",
              " 729: 'muslim',\n",
              " 730: 'leader',\n",
              " 731: 'х',\n",
              " 732: 'перед',\n",
              " 733: 'failed',\n",
              " 734: 'leadership',\n",
              " 735: 'hamas',\n",
              " 736: 'pay',\n",
              " 737: 'either',\n",
              " 738: 'conditions',\n",
              " 739: 'necessary',\n",
              " 740: 'rules',\n",
              " 741: 'об',\n",
              " 742: 'influence',\n",
              " 743: 'full',\n",
              " 744: 'integration',\n",
              " 745: 'across',\n",
              " 746: 'bring',\n",
              " 747: 'sector',\n",
              " 748: 'которое',\n",
              " 749: 'конечно',\n",
              " 750: 'th',\n",
              " 751: 'течение',\n",
              " 752: 'евро',\n",
              " 753: 'слишком',\n",
              " 754: 'китая',\n",
              " 755: 'give',\n",
              " 756: 'became',\n",
              " 757: 'jobs',\n",
              " 758: 'unemployment',\n",
              " 759: 'technology',\n",
              " 760: 'vote',\n",
              " 761: 'position',\n",
              " 762: 'cause',\n",
              " 763: 'fall',\n",
              " 764: 'increased',\n",
              " 765: 'argentina',\n",
              " 766: 'single',\n",
              " 767: 'potential',\n",
              " 768: 'away',\n",
              " 769: 'партии',\n",
              " 770: 'agreement',\n",
              " 771: 'share',\n",
              " 772: 'found',\n",
              " 773: '&',\n",
              " 774: 'death',\n",
              " 775: 'developed',\n",
              " 776: 'президента',\n",
              " 777: 'силы',\n",
              " 778: 'young',\n",
              " 779: 'keep',\n",
              " 780: 'liberal',\n",
              " 781: 'scientific',\n",
              " 782: 'себе',\n",
              " 783: 'legal',\n",
              " 784: 'her',\n",
              " 785: 'возможность',\n",
              " 786: 'failure',\n",
              " 787: 'вопрос',\n",
              " 788: 'systems',\n",
              " 789: 'behind',\n",
              " 790: 'communist',\n",
              " 791: 'kosovo',\n",
              " 792: 'пока',\n",
              " 793: 'according',\n",
              " 794: 'ираке',\n",
              " 795: 'toward',\n",
              " 796: 'post',\n",
              " 797: 'center',\n",
              " 798: 'membership',\n",
              " 799: 'levels',\n",
              " 800: 'individual',\n",
              " 801: 'китай',\n",
              " 802: 'start',\n",
              " 803: 'beyond',\n",
              " 804: 'демократии',\n",
              " 805: 'назад',\n",
              " 806: 'германии',\n",
              " 807: 'five',\n",
              " 808: 'challenge',\n",
              " 809: 'fundamental',\n",
              " 810: 'live',\n",
              " 811: 'al',\n",
              " 812: 'progress',\n",
              " 813: 'requires',\n",
              " 814: 'return',\n",
              " 815: 'evidence',\n",
              " 816: 'basic',\n",
              " 817: 'competition',\n",
              " 818: 'moral',\n",
              " 819: 'lives',\n",
              " 820: 'later',\n",
              " 821: 'stock',\n",
              " 822: 'несколько',\n",
              " 823: 'huge',\n",
              " 824: 'approach',\n",
              " 825: 'soon',\n",
              " 826: 'lower',\n",
              " 827: 'afghanistan',\n",
              " 828: 'стране',\n",
              " 829: 'nation',\n",
              " 830: 'main',\n",
              " 831: 'cooperation',\n",
              " 832: 'investors',\n",
              " 833: 'living',\n",
              " 834: 'officials',\n",
              " 835: 'имеет',\n",
              " 836: 'things',\n",
              " 837: 'attacks',\n",
              " 838: 'areas',\n",
              " 839: 'culture',\n",
              " 840: 'гораздо',\n",
              " 841: 'leading',\n",
              " 842: 'doing',\n",
              " 843: 'act',\n",
              " 844: 'европа',\n",
              " 845: 'terrorist',\n",
              " 846: 'production',\n",
              " 847: 'project',\n",
              " 848: 'palestinians',\n",
              " 849: 'latin',\n",
              " 850: 'почти',\n",
              " 851: 'began',\n",
              " 852: 'роль',\n",
              " 853: 'created',\n",
              " 854: 'natural',\n",
              " 855: 'lost',\n",
              " 856: 'времени',\n",
              " 857: 'тому',\n",
              " 858: 'side',\n",
              " 859: 'standards',\n",
              " 860: 'те',\n",
              " 861: 'four',\n",
              " 862: 'rest',\n",
              " 863: 'bad',\n",
              " 864: 'situation',\n",
              " 865: 'independent',\n",
              " 866: 'presidential',\n",
              " 867: 'risks',\n",
              " 868: 'media',\n",
              " 869: 'среди',\n",
              " 870: 'поэтому',\n",
              " 871: 'мировой',\n",
              " 872: 'deal',\n",
              " 873: 'франции',\n",
              " 874: 'negotiations',\n",
              " 875: 'having',\n",
              " 876: 'cultural',\n",
              " 877: 'области',\n",
              " 878: 'часть',\n",
              " 879: 'finance',\n",
              " 880: 'really',\n",
              " 881: 'access',\n",
              " 882: 'alone',\n",
              " 883: 'уровень',\n",
              " 884: 'ecb',\n",
              " 885: 'всем',\n",
              " 886: 'probably',\n",
              " 887: 'своего',\n",
              " 888: 'собой',\n",
              " 889: 're',\n",
              " 890: 'clearly',\n",
              " 891: 'помощи',\n",
              " 892: 'effects',\n",
              " 893: 'working',\n",
              " 894: 'everyone',\n",
              " 895: 'won',\n",
              " 896: 'долларов',\n",
              " 897: 'model',\n",
              " 898: 'reduce',\n",
              " 899: 'новых',\n",
              " 900: 'fight',\n",
              " 901: 'secretary',\n",
              " 902: 'iraqi',\n",
              " 903: 'pressure',\n",
              " 904: 'don',\n",
              " 905: 'hand',\n",
              " 906: 'particular',\n",
              " 907: 'islam',\n",
              " 908: 'average',\n",
              " 909: 'lebanon',\n",
              " 910: 'saddam',\n",
              " 911: 'italy',\n",
              " 912: 'внимание',\n",
              " 913: 'response',\n",
              " 914: 'consider',\n",
              " 915: 'traditional',\n",
              " 916: 'justice',\n",
              " 917: 'campaign',\n",
              " 918: 'experience',\n",
              " 919: 'successful',\n",
              " 920: 'политической',\n",
              " 921: 'organization',\n",
              " 922: 'consequences',\n",
              " 923: 'court',\n",
              " 924: 'late',\n",
              " 925: 'firms',\n",
              " 926: 'качестве',\n",
              " 927: 'скорее',\n",
              " 928: 'стать',\n",
              " 929: 'политику',\n",
              " 930: 'director',\n",
              " 931: 'confidence',\n",
              " 932: 'programs',\n",
              " 933: 'reality',\n",
              " 934: 'gas',\n",
              " 935: 'прав',\n",
              " 936: 'benefit',\n",
              " 937: 'означает',\n",
              " 938: 'rising',\n",
              " 939: 'strategic',\n",
              " 940: 'политических',\n",
              " 941: 'authority',\n",
              " 942: 'конце',\n",
              " 943: 'год',\n",
              " 944: 'последние',\n",
              " 945: 'independence',\n",
              " 946: 'cut',\n",
              " 947: 'play',\n",
              " 948: 'care',\n",
              " 949: 'societies',\n",
              " 950: 'school',\n",
              " 951: 'move',\n",
              " 952: 'job',\n",
              " 953: 'одной',\n",
              " 954: 'let',\n",
              " 955: 'disease',\n",
              " 956: 'goods',\n",
              " 957: 'раз',\n",
              " 958: 'employment',\n",
              " 959: 'popular',\n",
              " 960: 'членов',\n",
              " 961: 'effect',\n",
              " 962: 'welfare',\n",
              " 963: 'cases',\n",
              " 964: 'нас',\n",
              " 965: 'ensure',\n",
              " 966: 'understand',\n",
              " 967: 'exports',\n",
              " 968: 'age',\n",
              " 969: 'attention',\n",
              " 970: 'months',\n",
              " 971: 'deficit',\n",
              " 972: 'нам',\n",
              " 973: 'industrial',\n",
              " 974: 'eastern',\n",
              " 975: 'настоящее',\n",
              " 976: 'comes',\n",
              " 977: 'права',\n",
              " 978: 'finally',\n",
              " 979: 'emerging',\n",
              " 980: 'mean',\n",
              " 981: 'относительно',\n",
              " 982: 'effort',\n",
              " 983: 'productivity',\n",
              " 984: 'теперь',\n",
              " 985: 'оно',\n",
              " 986: 'имеют',\n",
              " 987: 'pakistan',\n",
              " 988: 'september',\n",
              " 989: 'took',\n",
              " 990: 'period',\n",
              " 991: 'организации',\n",
              " 992: 'certain',\n",
              " 993: 'allow',\n",
              " 994: 'responsibility',\n",
              " 995: 'изменения',\n",
              " 996: 'новые',\n",
              " 997: 'целью',\n",
              " 998: 'assistance',\n",
              " 999: 'came',\n",
              " 1000: 'worse',\n",
              " ...}"
            ]
          },
          "metadata": {
            "tags": []
          },
          "execution_count": 28
        }
      ]
    },
    {
      "cell_type": "code",
      "metadata": {
        "id": "QiRWzj5qWY7M",
        "colab_type": "code",
        "colab": {
          "base_uri": "https://localhost:8080/",
          "height": 34
        },
        "outputId": "4c90fd5d-b06b-42e6-9401-cee3fbd8b4a6"
      },
      "source": [
        "tokenizer.word_index['deficit']"
      ],
      "execution_count": 71,
      "outputs": [
        {
          "output_type": "execute_result",
          "data": {
            "text/plain": [
              "971"
            ]
          },
          "metadata": {
            "tags": []
          },
          "execution_count": 71
        }
      ]
    },
    {
      "cell_type": "code",
      "metadata": {
        "id": "1DijTWotW4J8",
        "colab_type": "code",
        "colab": {
          "base_uri": "https://localhost:8080/",
          "height": 162
        },
        "outputId": "c6749a78-10ce-46e0-cc3c-5e4027581665"
      },
      "source": [
        "tokenizer.word_index['counci']"
      ],
      "execution_count": 72,
      "outputs": [
        {
          "output_type": "error",
          "ename": "KeyError",
          "evalue": "ignored",
          "traceback": [
            "\u001b[0;31m---------------------------------------------------------------------------\u001b[0m",
            "\u001b[0;31mKeyError\u001b[0m                                  Traceback (most recent call last)",
            "\u001b[0;32m<ipython-input-72-f0fa5f058e6a>\u001b[0m in \u001b[0;36m<module>\u001b[0;34m()\u001b[0m\n\u001b[0;32m----> 1\u001b[0;31m \u001b[0mtokenizer\u001b[0m\u001b[0;34m.\u001b[0m\u001b[0mword_index\u001b[0m\u001b[0;34m[\u001b[0m\u001b[0;34m'counci'\u001b[0m\u001b[0;34m]\u001b[0m\u001b[0;34m\u001b[0m\u001b[0;34m\u001b[0m\u001b[0m\n\u001b[0m",
            "\u001b[0;31mKeyError\u001b[0m: 'counci'"
          ]
        }
      ]
    },
    {
      "cell_type": "code",
      "metadata": {
        "id": "_Y0eRqNi8Vmm",
        "colab_type": "code",
        "colab": {}
      },
      "source": [
        "X_enc = tokenizer.texts_to_sequences(enc_in)"
      ],
      "execution_count": 29,
      "outputs": []
    },
    {
      "cell_type": "code",
      "metadata": {
        "id": "1YWY_fELuIm2",
        "colab_type": "code",
        "colab": {
          "base_uri": "https://localhost:8080/",
          "height": 34
        },
        "outputId": "8035f484-6114-428e-dbbe-95f042c6bf81"
      },
      "source": [
        "len(X_enc)"
      ],
      "execution_count": 30,
      "outputs": [
        {
          "output_type": "execute_result",
          "data": {
            "text/plain": [
              "78656"
            ]
          },
          "metadata": {
            "tags": []
          },
          "execution_count": 30
        }
      ]
    },
    {
      "cell_type": "code",
      "metadata": {
        "id": "2OJNBs1g81zm",
        "colab_type": "code",
        "colab": {}
      },
      "source": [
        "X_dec = tokenizer.texts_to_sequences(decoder_in)\n",
        "Y = tokenizer.texts_to_sequences(decoder_out)"
      ],
      "execution_count": 31,
      "outputs": []
    },
    {
      "cell_type": "code",
      "metadata": {
        "id": "4Id9HjcRuUk0",
        "colab_type": "code",
        "colab": {
          "base_uri": "https://localhost:8080/",
          "height": 34
        },
        "outputId": "72940c86-e63d-41a7-8207-f481945eed6e"
      },
      "source": [
        "len(X_dec)"
      ],
      "execution_count": 32,
      "outputs": [
        {
          "output_type": "execute_result",
          "data": {
            "text/plain": [
              "78656"
            ]
          },
          "metadata": {
            "tags": []
          },
          "execution_count": 32
        }
      ]
    },
    {
      "cell_type": "code",
      "metadata": {
        "id": "ZHmfQTIXuX8W",
        "colab_type": "code",
        "colab": {
          "base_uri": "https://localhost:8080/",
          "height": 34
        },
        "outputId": "6422af47-bfec-415d-f694-7fdbfcc0bf0e"
      },
      "source": [
        "len(Y)"
      ],
      "execution_count": 33,
      "outputs": [
        {
          "output_type": "execute_result",
          "data": {
            "text/plain": [
              "78656"
            ]
          },
          "metadata": {
            "tags": []
          },
          "execution_count": 33
        }
      ]
    },
    {
      "cell_type": "code",
      "metadata": {
        "id": "pDk35JOy_V2l",
        "colab_type": "code",
        "colab": {
          "base_uri": "https://localhost:8080/",
          "height": 34
        },
        "outputId": "76fe0796-6138-4d6a-c742-a419d804a92a"
      },
      "source": [
        "# Finding short sentences in the encoder\n",
        "# Reduced the length of sentences for machine learning from 70 to 60 words.\n",
        "threshold = 60\n",
        "idx_q = [len(y) < threshold for y in X_enc]\n",
        "sum(idx_q)"
      ],
      "execution_count": 34,
      "outputs": [
        {
          "output_type": "execute_result",
          "data": {
            "text/plain": [
              "78044"
            ]
          },
          "metadata": {
            "tags": []
          },
          "execution_count": 34
        }
      ]
    },
    {
      "cell_type": "code",
      "metadata": {
        "colab_type": "code",
        "id": "TQQKvDR8EPvl",
        "colab": {}
      },
      "source": [
        "X_enc = np.array(X_enc)[idx_q]\n",
        "X_dec = np.array(X_dec)[idx_q]\n",
        "Y = np.array(Y)[idx_q]"
      ],
      "execution_count": 35,
      "outputs": []
    },
    {
      "cell_type": "code",
      "metadata": {
        "id": "pJaV65KqxlJn",
        "colab_type": "code",
        "colab": {
          "base_uri": "https://localhost:8080/",
          "height": 34
        },
        "outputId": "8ddc54e0-57e8-49eb-e1fc-824e19750292"
      },
      "source": [
        "X_enc.shape, X_dec.shape, Y.shape"
      ],
      "execution_count": 36,
      "outputs": [
        {
          "output_type": "execute_result",
          "data": {
            "text/plain": [
              "((78044,), (78044,), (78044,))"
            ]
          },
          "metadata": {
            "tags": []
          },
          "execution_count": 36
        }
      ]
    },
    {
      "cell_type": "code",
      "metadata": {
        "colab_type": "code",
        "id": "j4MQEM5WEPvp",
        "colab": {
          "base_uri": "https://localhost:8080/",
          "height": 34
        },
        "outputId": "90caf3c3-a74f-408e-c542-6d9b0d403849"
      },
      "source": [
        "# Finding short sentences in the decoder\n",
        "idx_a = [len(y) < threshold for y in X_dec]\n",
        "sum(idx_a)"
      ],
      "execution_count": 37,
      "outputs": [
        {
          "output_type": "execute_result",
          "data": {
            "text/plain": [
              "77574"
            ]
          },
          "metadata": {
            "tags": []
          },
          "execution_count": 37
        }
      ]
    },
    {
      "cell_type": "code",
      "metadata": {
        "colab_type": "code",
        "id": "vFdHTyUlEPvw",
        "colab": {}
      },
      "source": [
        "X_enc = X_enc[idx_a]\n",
        "X_dec = X_dec[idx_a]\n",
        "Y = Y[idx_a]"
      ],
      "execution_count": 38,
      "outputs": []
    },
    {
      "cell_type": "code",
      "metadata": {
        "id": "fse2evhLyfso",
        "colab_type": "code",
        "colab": {
          "base_uri": "https://localhost:8080/",
          "height": 34
        },
        "outputId": "f6349603-54fe-492d-bcbd-598e08ef97f5"
      },
      "source": [
        "X_enc.shape, X_dec.shape, Y.shape"
      ],
      "execution_count": 39,
      "outputs": [
        {
          "output_type": "execute_result",
          "data": {
            "text/plain": [
              "((77574,), (77574,), (77574,))"
            ]
          },
          "metadata": {
            "tags": []
          },
          "execution_count": 39
        }
      ]
    },
    {
      "cell_type": "code",
      "metadata": {
        "id": "lbBNHsH-8ezq",
        "colab_type": "code",
        "colab": {
          "base_uri": "https://localhost:8080/",
          "height": 34
        },
        "outputId": "eef3eae3-a6c4-4939-95d4-13a8f9d46102"
      },
      "source": [
        "max_q_len = max([len(el) for el in X_enc]); max_q_len"
      ],
      "execution_count": 40,
      "outputs": [
        {
          "output_type": "execute_result",
          "data": {
            "text/plain": [
              "59"
            ]
          },
          "metadata": {
            "tags": []
          },
          "execution_count": 40
        }
      ]
    },
    {
      "cell_type": "code",
      "metadata": {
        "id": "xMUm4x7r8ga3",
        "colab_type": "code",
        "colab": {
          "base_uri": "https://localhost:8080/",
          "height": 34
        },
        "outputId": "0f72e66d-bc78-4ce4-da5b-dd04156bcbdc"
      },
      "source": [
        "max_a_len = max([len(el) for el in X_dec]); max_a_len"
      ],
      "execution_count": 41,
      "outputs": [
        {
          "output_type": "execute_result",
          "data": {
            "text/plain": [
              "59"
            ]
          },
          "metadata": {
            "tags": []
          },
          "execution_count": 41
        }
      ]
    },
    {
      "cell_type": "code",
      "metadata": {
        "id": "lQ4jCBPQ8-TI",
        "colab_type": "code",
        "colab": {}
      },
      "source": [
        "X_enc = pad_sequences(X_enc, max_q_len, padding='post', truncating='post')\n",
        "X_dec = pad_sequences(X_dec, max_a_len, padding='post', truncating='post')\n",
        "Y = pad_sequences(Y, max_a_len, padding='post', truncating='post')"
      ],
      "execution_count": 42,
      "outputs": []
    },
    {
      "cell_type": "code",
      "metadata": {
        "id": "7MuQ_t_f53CZ",
        "colab_type": "code",
        "colab": {
          "base_uri": "https://localhost:8080/",
          "height": 67
        },
        "outputId": "8cd65ca7-378e-4bdf-86bd-13e750051168"
      },
      "source": [
        "print(X_enc.shape)\n",
        "print(X_dec.shape)\n",
        "print(Y.shape)"
      ],
      "execution_count": 43,
      "outputs": [
        {
          "output_type": "stream",
          "text": [
            "(77574, 59)\n",
            "(77574, 59)\n",
            "(77574, 59)\n"
          ],
          "name": "stdout"
        }
      ]
    },
    {
      "cell_type": "code",
      "metadata": {
        "id": "hy_AwMkjzfaA",
        "colab_type": "code",
        "colab": {
          "base_uri": "https://localhost:8080/",
          "height": 605
        },
        "outputId": "83cad342-ef4e-4b09-e65e-1e74d8dfd08b"
      },
      "source": [
        "X_enc[5:10]"
      ],
      "execution_count": 44,
      "outputs": [
        {
          "output_type": "execute_result",
          "data": {
            "text/plain": [
              "array([[  407, 54069,     2, 86649, 23654,    13,   627,  1763,  5567,\n",
              "         5208,     2, 41560, 10030,    39,   133, 18935,    53,   464,\n",
              "            2, 31028,     2,    30,   167,  1692,    30,    12,    81,\n",
              "         2768,     3,     5,     0,     0,     0,     0,     0,     0,\n",
              "            0,     0,     0,     0,     0,     0,     0,     0,     0,\n",
              "            0,     0,     0,     0,     0,     0,     0,     0,     0,\n",
              "            0,     0,     0,     0,     0],\n",
              "       [ 6163,  7233,    13,  1156,    17,  2747,    17,   245,  8022,\n",
              "        31029, 15286,    13,  6164,  2428,    24,  1553,  6403,     2,\n",
              "          389,   167, 14018,  6404, 15543,    14,  3681,  1856,    39,\n",
              "         2938,     2, 41561, 26270,  4494,     3,     5,     0,     0,\n",
              "            0,     0,     0,     0,     0,     0,     0,     0,     0,\n",
              "            0,     0,     0,     0,     0,     0,     0,     0,     0,\n",
              "            0,     0,     0,     0,     0],\n",
              "       [ 9180, 86650,  3054,  1393, 31030, 12106,  4377, 24388,     2,\n",
              "        54070,    24,  2552,  5208,     2,   100,   142, 12106,     2,\n",
              "        86651,    24, 15287,  3980,    13, 18936,     3,     5,     0,\n",
              "            0,     0,     0,     0,     0,     0,     0,     0,     0,\n",
              "            0,     0,     0,     0,     0,     0,     0,     0,     0,\n",
              "            0,     0,     0,     0,     0,     0,     0,     0,     0,\n",
              "            0,     0,     0,     0,     0],\n",
              "       [   13,   712,     2,  6310,  4936,  8686,  4540,  1231,    14,\n",
              "         3147,     3,     5,     0,     0,     0,     0,     0,     0,\n",
              "            0,     0,     0,     0,     0,     0,     0,     0,     0,\n",
              "            0,     0,     0,     0,     0,     0,     0,     0,     0,\n",
              "            0,     0,     0,     0,     0,     0,     0,     0,     0,\n",
              "            0,     0,     0,     0,     0,     0,     0,     0,     0,\n",
              "            0,     0,     0,     0,     0],\n",
              "       [10755, 14019,   424, 54071, 10132,     2,  9180,    52,  3302,\n",
              "          261,  5542, 12599,  3272,    54, 29692, 61950, 11155,    13,\n",
              "        34426, 34427, 12600,     2, 54072,    39, 22181,     3,     5,\n",
              "            0,     0,     0,     0,     0,     0,     0,     0,     0,\n",
              "            0,     0,     0,     0,     0,     0,     0,     0,     0,\n",
              "            0,     0,     0,     0,     0,     0,     0,     0,     0,\n",
              "            0,     0,     0,     0,     0]], dtype=int32)"
            ]
          },
          "metadata": {
            "tags": []
          },
          "execution_count": 44
        }
      ]
    },
    {
      "cell_type": "code",
      "metadata": {
        "id": "m3Fzcgmyzvxi",
        "colab_type": "code",
        "colab": {
          "base_uri": "https://localhost:8080/",
          "height": 605
        },
        "outputId": "f567ad9a-8ea7-4394-cebc-834b45109b6b"
      },
      "source": [
        "X_dec[5:10]"
      ],
      "execution_count": 45,
      "outputs": [
        {
          "output_type": "execute_result",
          "data": {
            "text/plain": [
              "array([[    9,   108, 19335,     2, 20897,    28,   987,    21,    18,\n",
              "           79,  1371,     2,  2026, 32676,     2,  1353,    16,   102,\n",
              "          285,  2273,     3,     0,     0,     0,     0,     0,     0,\n",
              "            0,     0,     0,     0,     0,     0,     0,     0,     0,\n",
              "            0,     0,     0,     0,     0,     0,     0,     0,     0,\n",
              "            0,     0,     0,     0,     0,     0,     0,     0,     0,\n",
              "            0,     0,     0,     0,     0],\n",
              "       [    9,     4,   988,    17,     2,    17,     2,   845,   837,\n",
              "           31,   115,  1057,  2617,   129,     4,   123, 39009,    20,\n",
              "          102,  1863,     7, 25210,     4,  2166,     8,   221,     4,\n",
              "          233,   159,    12,   499,   124,    31,  1523,     3,     0,\n",
              "            0,     0,     0,     0,     0,     0,     0,     0,     0,\n",
              "            0,     0,     0,     0,     0,     0,     0,     0,     0,\n",
              "            0,     0,     0,     0,     0],\n",
              "       [    9,  2617, 49867,   473,    31,   113,   582,  6476,  5984,\n",
              "         2828,   987,     8,    99,    31,   150,  1564,  2359,   487,\n",
              "           10,  5222,     3,     0,     0,     0,     0,     0,     0,\n",
              "            0,     0,     0,     0,     0,     0,     0,     0,     0,\n",
              "            0,     0,     0,     0,     0,     0,     0,     0,     0,\n",
              "            0,     0,     0,     0,     0,     0,     0,     0,     0,\n",
              "            0,     0,     0,     0,     0],\n",
              "       [    9,    20,    11,   342,     2,   987,    47, 12910,    28,\n",
              "          185,   199,   998,     8,  1729,     3,     0,     0,     0,\n",
              "            0,     0,     0,     0,     0,     0,     0,     0,     0,\n",
              "            0,     0,     0,     0,     0,     0,     0,     0,     0,\n",
              "            0,     0,     0,     0,     0,     0,     0,     0,     0,\n",
              "            0,     0,     0,     0,     0,     0,     0,     0,     0,\n",
              "            0,     0,     0,     0,     0],\n",
              "       [    9,    10, 49868,     6,    78,   889,    12, 17980,     2,\n",
              "         2617,  3430,     4,  4811,  1060,   129,     4,  5496,   838,\n",
              "        14225,   827,    19,     4,   152,   140,   220,   987,    21,\n",
              "           18,   945,     3,     0,     0,     0,     0,     0,     0,\n",
              "            0,     0,     0,     0,     0,     0,     0,     0,     0,\n",
              "            0,     0,     0,     0,     0,     0,     0,     0,     0,\n",
              "            0,     0,     0,     0,     0]], dtype=int32)"
            ]
          },
          "metadata": {
            "tags": []
          },
          "execution_count": 45
        }
      ]
    },
    {
      "cell_type": "code",
      "metadata": {
        "id": "I7Lc92Udz008",
        "colab_type": "code",
        "colab": {
          "base_uri": "https://localhost:8080/",
          "height": 605
        },
        "outputId": "caf887ef-8dd0-46b7-ab5a-f640fd4308e5"
      },
      "source": [
        "Y[5:10]"
      ],
      "execution_count": 46,
      "outputs": [
        {
          "output_type": "execute_result",
          "data": {
            "text/plain": [
              "array([[  108, 19335,     2, 20897,    28,   987,    21,    18,    79,\n",
              "         1371,     2,  2026, 32676,     2,  1353,    16,   102,   285,\n",
              "         2273,     3,     5,     0,     0,     0,     0,     0,     0,\n",
              "            0,     0,     0,     0,     0,     0,     0,     0,     0,\n",
              "            0,     0,     0,     0,     0,     0,     0,     0,     0,\n",
              "            0,     0,     0,     0,     0,     0,     0,     0,     0,\n",
              "            0,     0,     0,     0,     0],\n",
              "       [    4,   988,    17,     2,    17,     2,   845,   837,    31,\n",
              "          115,  1057,  2617,   129,     4,   123, 39009,    20,   102,\n",
              "         1863,     7, 25210,     4,  2166,     8,   221,     4,   233,\n",
              "          159,    12,   499,   124,    31,  1523,     3,     5,     0,\n",
              "            0,     0,     0,     0,     0,     0,     0,     0,     0,\n",
              "            0,     0,     0,     0,     0,     0,     0,     0,     0,\n",
              "            0,     0,     0,     0,     0],\n",
              "       [ 2617, 49867,   473,    31,   113,   582,  6476,  5984,  2828,\n",
              "          987,     8,    99,    31,   150,  1564,  2359,   487,    10,\n",
              "         5222,     3,     5,     0,     0,     0,     0,     0,     0,\n",
              "            0,     0,     0,     0,     0,     0,     0,     0,     0,\n",
              "            0,     0,     0,     0,     0,     0,     0,     0,     0,\n",
              "            0,     0,     0,     0,     0,     0,     0,     0,     0,\n",
              "            0,     0,     0,     0,     0],\n",
              "       [   20,    11,   342,     2,   987,    47, 12910,    28,   185,\n",
              "          199,   998,     8,  1729,     3,     5,     0,     0,     0,\n",
              "            0,     0,     0,     0,     0,     0,     0,     0,     0,\n",
              "            0,     0,     0,     0,     0,     0,     0,     0,     0,\n",
              "            0,     0,     0,     0,     0,     0,     0,     0,     0,\n",
              "            0,     0,     0,     0,     0,     0,     0,     0,     0,\n",
              "            0,     0,     0,     0,     0],\n",
              "       [   10, 49868,     6,    78,   889,    12, 17980,     2,  2617,\n",
              "         3430,     4,  4811,  1060,   129,     4,  5496,   838, 14225,\n",
              "          827,    19,     4,   152,   140,   220,   987,    21,    18,\n",
              "          945,     3,     5,     0,     0,     0,     0,     0,     0,\n",
              "            0,     0,     0,     0,     0,     0,     0,     0,     0,\n",
              "            0,     0,     0,     0,     0,     0,     0,     0,     0,\n",
              "            0,     0,     0,     0,     0]], dtype=int32)"
            ]
          },
          "metadata": {
            "tags": []
          },
          "execution_count": 46
        }
      ]
    },
    {
      "cell_type": "markdown",
      "metadata": {
        "id": "00DRIod5vqsR",
        "colab_type": "text"
      },
      "source": [
        "# Modelling function"
      ]
    },
    {
      "cell_type": "code",
      "metadata": {
        "colab_type": "code",
        "id": "SapUO2jFvjz0",
        "colab": {}
      },
      "source": [
        "def decode_sequence(inp_str): \n",
        "  \"\"\"\n",
        "  Displays the generated answer to the question.\n",
        "  Passing a string to the function\n",
        "  Returning a string from the function\n",
        "  \"\"\"\n",
        "  inp_str = inp_str + ' <end>'\n",
        "  example = pad_sequences(tokenizer.texts_to_sequences([inp_str]), maxlen=max_q_len, padding='post')\n",
        "\n",
        "  # returning the state [h, c]\n",
        "  states_value, attention = encoder_model.predict(example)\n",
        "\n",
        "  # creating an array of length pad+1\n",
        "  target_token = np.zeros((1,1))\n",
        "  # assigning the value \"start\" to the first word\n",
        "  target_token[0,0] = tokenizer.word_index['<start>']\n",
        "\n",
        "  # stop flag\n",
        "  Flag = False\n",
        "  # reset the sentence\n",
        "  decoded_sentence = ''\n",
        "\n",
        "  while not Flag:\n",
        "    pred, *states_value = decoder_model.predict([attention, target_token] + states_value)\n",
        "    \n",
        "    # translating the decoded token into a word \n",
        "    token_pred = np.argmax(pred, axis=-1) #\n",
        "    #print(token_pred)\n",
        "    \n",
        "    sampled_word = tokenizer.index_word[int(token_pred)]\n",
        "    #print(sampled_word)\n",
        "    \n",
        "    # if a sentence end tag is encountered or its length is exceeded\n",
        "    if sampled_word == '<end>':\n",
        "      Flag = True\n",
        "    else:\n",
        "      decoded_sentence += sampled_word + ' '\n",
        "\n",
        "      if len(decoded_sentence.split()) > max_a_len:\n",
        "        Flag = True\n",
        "      \n",
        "    target_token[0,0] = token_pred\n",
        "\n",
        "  print('Answer:', decoded_sentence[:-6]) "
      ],
      "execution_count": 47,
      "outputs": []
    },
    {
      "cell_type": "code",
      "metadata": {
        "colab_type": "code",
        "id": "QoYtbcuZvj0E",
        "colab": {}
      },
      "source": [
        "def pred_train(inp_str): \n",
        "  \"\"\"\n",
        "  Calculating errors,\n",
        "  returns a sequence of tokens, as indecoder_out\n",
        "  \"\"\"\n",
        "\n",
        "  # returning the state [h, c]\n",
        "  states_value, attention = encoder_model.predict(inp_str)\n",
        "\n",
        "  # creating an array of length pad+1\n",
        "  target_token = np.zeros((1,1))\n",
        "  # assigning the value \"start\" to the first word\n",
        "  target_token[0,0] = tokenizer.word_index['<start>']\n",
        "  # stop flag\n",
        "  Flag = False\n",
        "  # reset the sentence\n",
        "  decoded_sentence = []\n",
        "\n",
        "  while not Flag:\n",
        "    pred, *states_value = decoder_model.predict([attention, target_token] + states_value)\n",
        "    \n",
        "    token_pred = np.argmax(pred, axis=-1) #\n",
        "\n",
        "    if token_pred == tokenizer.word_index['<end>']:\n",
        "      Flag = True\n",
        "    else:\n",
        "      decoded_sentence.append(token_pred[0][0])\n",
        "\n",
        "      if len(decoded_sentence) > max_a_len:\n",
        "        Flag = True\n",
        "      \n",
        "    target_token[0,0] = token_pred\n",
        "\n",
        "  return decoded_sentence"
      ],
      "execution_count": 48,
      "outputs": []
    },
    {
      "cell_type": "code",
      "metadata": {
        "id": "nmkIDcsF4aji",
        "colab_type": "code",
        "colab": {}
      },
      "source": [
        "# Compare pred и Y \n",
        "def metric(n=100, X_enc=X_enc, Y=Y, max_q_len=max_q_len):\n",
        "  \"\"\"\n",
        "  Accuracy assessment, how many correctly predicted tokens\n",
        "  \"\"\"\n",
        "\n",
        "  pred = []\n",
        "  summ = []\n",
        "  for i in range(n):\n",
        "    pred.append(pred_train(X_enc[None, i]))\n",
        "  pred_1 = pad_sequences(pred, maxlen=max_q_len, padding='post')\n",
        "  acc = Accuracy()\n",
        "  acc.update_state(pred_1, Y[:n])\n",
        "  return acc.result().numpy()"
      ],
      "execution_count": 49,
      "outputs": []
    },
    {
      "cell_type": "code",
      "metadata": {
        "id": "1vmSmhhKRN0f",
        "colab_type": "code",
        "colab": {}
      },
      "source": [
        "def prepare_text(text):\n",
        "  text = highlight_chars(text)\n",
        "  text_of_lexemes = ' '.join(text.split(' '))\n",
        "  return text_of_lexemes"
      ],
      "execution_count": 50,
      "outputs": []
    },
    {
      "cell_type": "code",
      "metadata": {
        "id": "OiaSWz1lMlTn",
        "colab_type": "code",
        "colab": {}
      },
      "source": [
        "def att_for_plot(sentence, enc_seq_len = max_q_len, dec_seq_len = max_a_len): \n",
        "  \"\"\"\n",
        "  Function for the attention matrix\n",
        "  sentence = string (query)\n",
        "  enc_seq_len = encoder length\n",
        "  dec_seq_len = decoder length\n",
        "  returns the not transposed attention matrix, \n",
        "  returns the encoder and decoder strings\n",
        "  \"\"\"\n",
        "\n",
        "  attention_plot = np.zeros((enc_seq_len, dec_seq_len))\n",
        "\n",
        "  res_str = sentence + ' <end>'\n",
        "  example = pad_sequences(tokenizer.texts_to_sequences([res_str]), maxlen=max_q_len, padding='post')\n",
        "\n",
        "  # returning the state [h, c]\n",
        "  states_value, attention = encoder_model_.predict(example)\n",
        "\n",
        "  # creating an array of length pad+1\n",
        "  target_token = np.zeros((1,1))\n",
        "  # assigning the value \"start\" to the first word\n",
        "  target_token[0,0] = tokenizer.word_index['<start>']\n",
        "\n",
        "  # stop flag\n",
        "  Flag = False\n",
        "  # reset the sentence\n",
        "  result = ''\n",
        "  for t in range(enc_seq_len+1):\n",
        "    if not Flag:\n",
        "      pred, att, *states_value = decoder_model_.predict([attention, target_token] + states_value)\n",
        "      \n",
        "      attention_plot[t] = att\n",
        "      # print(att)\n",
        "\n",
        "      # translating the decoded token into the word\n",
        "      token_pred = np.argmax(pred, axis=-1) #\n",
        "      #print(token_pred)\n",
        "      \n",
        "      sampled_word = tokenizer.index_word[int(token_pred)]\n",
        "      \n",
        "      # if the end tag arrives or the sentence length is exceeded\n",
        "      if sampled_word == '<end>':\n",
        "        Flag = True\n",
        "      else:\n",
        "        result += sampled_word + ' '\n",
        "\n",
        "        if len(result.split()) > max_a_len:\n",
        "          Flag = True\n",
        "        \n",
        "      target_token[0,0] = token_pred\n",
        "  return attention_plot, result[:-1], res_str\n"
      ],
      "execution_count": 51,
      "outputs": []
    },
    {
      "cell_type": "code",
      "metadata": {
        "id": "wObQAfFAC0_a",
        "colab_type": "code",
        "colab": {}
      },
      "source": [
        "def plot_attention(attention, sentence, predicted_sentence):\n",
        "  \"\"\"\n",
        "  matshow attention\n",
        "  \"\"\"\n",
        "  fig = plt.figure(figsize=(10,10))\n",
        "  \n",
        "  ax = fig.add_subplot(1, 1, 1)\n",
        "  ax.matshow(attention)\n",
        "  ax.set_xticklabels(sentence, rotation=90) \n",
        "  ax.set_yticklabels(predicted_sentence) \n",
        "  ax.set_xticks(np.arange(len(sentence)))\n",
        "  ax.set_yticks(np.arange(len(predicted_sentence)))\n",
        "  plt.show()\n"
      ],
      "execution_count": 52,
      "outputs": []
    },
    {
      "cell_type": "code",
      "metadata": {
        "id": "Nh_BrJf8C3fU",
        "colab_type": "code",
        "colab": {}
      },
      "source": [
        "def plot_heatmaps(inp_str):\n",
        "  \"\"\"\n",
        "  Сonstruction of the attention matrix \n",
        "  \"\"\"\n",
        "  attention_sentence, result, sentence = att_for_plot(inp_str)\n",
        "  attention_plot = attention_sentence[:len(result.split(' ')), :len(sentence.split(' '))]\n",
        "  print('Request: ', inp_str)\n",
        "  print('Answer:  ', result)\n",
        "  # decode_sequence(inp_str)\n",
        "  plot_attention(attention_plot.T, result.split(' '), sentence.split(' '))"
      ],
      "execution_count": 53,
      "outputs": []
    },
    {
      "cell_type": "markdown",
      "metadata": {
        "id": "wXsg8qTgcmG8",
        "colab_type": "text"
      },
      "source": [
        "#Attention"
      ]
    },
    {
      "cell_type": "code",
      "metadata": {
        "colab_type": "code",
        "id": "gozicnbavQB4",
        "colab": {}
      },
      "source": [
        "# Параметры\n",
        "enc_seq_len = max_q_len\n",
        "dec_seq_len = max_a_len\n",
        "hidden_dim = 256\n",
        "emb_size = 256\n",
        "\n",
        "# Encoder\n",
        "encoder_input = Input((enc_seq_len,))\n",
        "enc_emb = Embedding(num_words, emb_size, name='enc_emb')(encoder_input)\n",
        "ys, *final_states = LSTM(hidden_dim, return_state=True, return_sequences=True, name='enc_lstm')(enc_emb)\n",
        "\n",
        "\n",
        "ys_reshaped = Reshape((1, enc_seq_len, hidden_dim))(ys)\n",
        "ys_repeated = Lambda(lambda l: K.repeat_elements(l, dec_seq_len, 1))(ys_reshaped)\n",
        "\n",
        "# Decoder\n",
        "decoder_input = Input((dec_seq_len,))\n",
        "dec_emb = Embedding(num_words, emb_size, name='emb')(decoder_input)\n",
        "\n",
        "dec_lstm = LSTM(hidden_dim, return_sequences=True, name='dec_lstm')(dec_emb, initial_state = final_states)\n",
        "\n",
        "# Attention\n",
        "dec_lstm_reshaped = Reshape((dec_seq_len, 1, hidden_dim))(dec_lstm)\n",
        "conc = concatenate([ys_repeated, dec_lstm_reshaped], axis=-2)\n",
        "conc_reshaped = Reshape((dec_seq_len, hidden_dim*(enc_seq_len+1)))(conc)\n",
        "\n",
        "gates = Dense(enc_seq_len, activation='softmax', kernel_regularizer=l1(0.001), bias_regularizer=l1(0.001), name= 'dense_att')(conc_reshaped)\n",
        "gates_reshaped = Reshape((dec_seq_len, enc_seq_len, 1))(gates)\n",
        "gates_repeated = Lambda(lambda l: K.repeat_elements(l, hidden_dim, -1))(gates_reshaped)\n",
        "\n",
        "dot_product = Lambda(lambda xy: K.sum(xy[0]*xy[1], axis=-2))([ys_repeated, gates_repeated])\n",
        "attentive_state = concatenate([dec_lstm, dot_product])\n",
        "\n",
        "# Exit\n",
        "word_probabilities = Dense(num_words, activation='softmax', name= 'dense')(attentive_state)\n",
        "\n",
        "\n",
        "model = Model([encoder_input, decoder_input], [word_probabilities])"
      ],
      "execution_count": 54,
      "outputs": []
    },
    {
      "cell_type": "code",
      "metadata": {
        "id": "_NhsFIaATrkb",
        "colab_type": "code",
        "colab": {
          "base_uri": "https://localhost:8080/",
          "height": 806
        },
        "outputId": "e433a135-5cf0-4e48-e7eb-d9e95b76122a"
      },
      "source": [
        "model.summary()"
      ],
      "execution_count": 55,
      "outputs": [
        {
          "output_type": "stream",
          "text": [
            "Model: \"functional_1\"\n",
            "__________________________________________________________________________________________________\n",
            "Layer (type)                    Output Shape         Param #     Connected to                     \n",
            "==================================================================================================\n",
            "input_1 (InputLayer)            [(None, 59)]         0                                            \n",
            "__________________________________________________________________________________________________\n",
            "input_2 (InputLayer)            [(None, 59)]         0                                            \n",
            "__________________________________________________________________________________________________\n",
            "enc_emb (Embedding)             (None, 59, 256)      23040000    input_1[0][0]                    \n",
            "__________________________________________________________________________________________________\n",
            "emb (Embedding)                 (None, 59, 256)      23040000    input_2[0][0]                    \n",
            "__________________________________________________________________________________________________\n",
            "enc_lstm (LSTM)                 [(None, 59, 256), (N 525312      enc_emb[0][0]                    \n",
            "__________________________________________________________________________________________________\n",
            "dec_lstm (LSTM)                 (None, 59, 256)      525312      emb[0][0]                        \n",
            "                                                                 enc_lstm[0][1]                   \n",
            "                                                                 enc_lstm[0][2]                   \n",
            "__________________________________________________________________________________________________\n",
            "reshape (Reshape)               (None, 1, 59, 256)   0           enc_lstm[0][0]                   \n",
            "__________________________________________________________________________________________________\n",
            "lambda (Lambda)                 (None, 59, 59, 256)  0           reshape[0][0]                    \n",
            "__________________________________________________________________________________________________\n",
            "reshape_1 (Reshape)             (None, 59, 1, 256)   0           dec_lstm[0][0]                   \n",
            "__________________________________________________________________________________________________\n",
            "concatenate (Concatenate)       (None, 59, 60, 256)  0           lambda[0][0]                     \n",
            "                                                                 reshape_1[0][0]                  \n",
            "__________________________________________________________________________________________________\n",
            "reshape_2 (Reshape)             (None, 59, 15360)    0           concatenate[0][0]                \n",
            "__________________________________________________________________________________________________\n",
            "dense_att (Dense)               (None, 59, 59)       906299      reshape_2[0][0]                  \n",
            "__________________________________________________________________________________________________\n",
            "reshape_3 (Reshape)             (None, 59, 59, 1)    0           dense_att[0][0]                  \n",
            "__________________________________________________________________________________________________\n",
            "lambda_1 (Lambda)               (None, 59, 59, 256)  0           reshape_3[0][0]                  \n",
            "__________________________________________________________________________________________________\n",
            "lambda_2 (Lambda)               (None, 59, 256)      0           lambda[0][0]                     \n",
            "                                                                 lambda_1[0][0]                   \n",
            "__________________________________________________________________________________________________\n",
            "concatenate_1 (Concatenate)     (None, 59, 512)      0           dec_lstm[0][0]                   \n",
            "                                                                 lambda_2[0][0]                   \n",
            "__________________________________________________________________________________________________\n",
            "dense (Dense)                   (None, 59, 90000)    46170000    concatenate_1[0][0]              \n",
            "==================================================================================================\n",
            "Total params: 94,206,923\n",
            "Trainable params: 94,206,923\n",
            "Non-trainable params: 0\n",
            "__________________________________________________________________________________________________\n"
          ],
          "name": "stdout"
        }
      ]
    },
    {
      "cell_type": "markdown",
      "metadata": {
        "id": "Dsh0Omcf8wOm",
        "colab_type": "text"
      },
      "source": [
        "## Primary training. "
      ]
    },
    {
      "cell_type": "code",
      "metadata": {
        "colab_type": "code",
        "id": "l8hGfMClvQCS",
        "colab": {
          "base_uri": "https://localhost:8080/",
          "height": 185
        },
        "outputId": "3d317849-c93a-4870-a78d-d0f6c271fcb9"
      },
      "source": [
        "callback_ = EarlyStopping(monitor='val_accuracy', patience=4)\n",
        "model.compile(loss='sparse_categorical_crossentropy', metrics=['accuracy'], optimizer=RMSprop(lr = 0.01))\n",
        "model.fit([X_enc, X_dec], Y, epochs=5, callbacks=callback_,  batch_size=80, validation_split=0.2)\n",
        "model.save('/content/drive/My Drive/tmp/attention_seq2seq.h5' )"
      ],
      "execution_count": 56,
      "outputs": [
        {
          "output_type": "stream",
          "text": [
            "Epoch 1/5\n",
            "776/776 [==============================] - 614s 791ms/step - loss: 6.9372 - accuracy: 0.6727 - val_loss: 6.5674 - val_accuracy: 0.6957\n",
            "Epoch 2/5\n",
            "776/776 [==============================] - 612s 789ms/step - loss: 6.4935 - accuracy: 0.7057 - val_loss: 6.5328 - val_accuracy: 0.7073\n",
            "Epoch 3/5\n",
            "776/776 [==============================] - 612s 788ms/step - loss: 6.3823 - accuracy: 0.7205 - val_loss: 6.5195 - val_accuracy: 0.7142\n",
            "Epoch 4/5\n",
            "776/776 [==============================] - 612s 788ms/step - loss: 6.3146 - accuracy: 0.7293 - val_loss: 6.5409 - val_accuracy: 0.7149\n",
            "Epoch 5/5\n",
            "776/776 [==============================] - 611s 787ms/step - loss: 6.2774 - accuracy: 0.7355 - val_loss: 6.5373 - val_accuracy: 0.7157\n"
          ],
          "name": "stdout"
        }
      ]
    },
    {
      "cell_type": "code",
      "metadata": {
        "id": "vUCQ3De9vTky",
        "colab_type": "code",
        "colab": {}
      },
      "source": [
        "# Download weights\n",
        "# model = load_model('/content/drive/My Drive/tmp/attention_seq2seq.h5' )"
      ],
      "execution_count": null,
      "outputs": []
    },
    {
      "cell_type": "markdown",
      "metadata": {
        "colab_type": "text",
        "id": "JEpoB6NN9In_"
      },
      "source": [
        "## Additional training."
      ]
    },
    {
      "cell_type": "code",
      "metadata": {
        "colab_type": "code",
        "id": "hFDf3NuNvQCZ",
        "colab": {
          "base_uri": "https://localhost:8080/",
          "height": 185
        },
        "outputId": "d42532e2-6704-4395-e5c4-5553f2625352"
      },
      "source": [
        "model.compile(loss='sparse_categorical_crossentropy', metrics=['accuracy'], optimizer=RMSprop(lr = 0.001))\n",
        "model.fit([X_enc, X_dec], Y, epochs=10, callbacks=callback_,  batch_size=80, validation_split=0.2)\n",
        "model.save('/content/drive/My Drive/tmp/attention_seq2seq.h5' )"
      ],
      "execution_count": 57,
      "outputs": [
        {
          "output_type": "stream",
          "text": [
            "Epoch 1/10\n",
            "776/776 [==============================] - 612s 788ms/step - loss: 1.8838 - accuracy: 0.7622 - val_loss: 2.3263 - val_accuracy: 0.7245\n",
            "Epoch 2/10\n",
            "776/776 [==============================] - 612s 788ms/step - loss: 1.7762 - accuracy: 0.7736 - val_loss: 2.3421 - val_accuracy: 0.7240\n",
            "Epoch 3/10\n",
            "776/776 [==============================] - 606s 781ms/step - loss: 1.7205 - accuracy: 0.7812 - val_loss: 2.3537 - val_accuracy: 0.7239\n",
            "Epoch 4/10\n",
            "776/776 [==============================] - 604s 779ms/step - loss: 1.6776 - accuracy: 0.7872 - val_loss: 2.3702 - val_accuracy: 0.7228\n",
            "Epoch 5/10\n",
            "776/776 [==============================] - 603s 777ms/step - loss: 1.6420 - accuracy: 0.7926 - val_loss: 2.3851 - val_accuracy: 0.7220\n"
          ],
          "name": "stdout"
        }
      ]
    },
    {
      "cell_type": "markdown",
      "metadata": {
        "colab_type": "text",
        "id": "gGQ4ZKcg-TUR"
      },
      "source": [
        "## Inference"
      ]
    },
    {
      "cell_type": "code",
      "metadata": {
        "colab_type": "code",
        "id": "lIHhC8Ip-TUi",
        "colab": {}
      },
      "source": [
        "enc_seq_len = max_q_len\n",
        "dec_seq_len = 1\n",
        "# Input\n",
        "encoder_reshaped = Input((dec_seq_len, enc_seq_len,hidden_dim,))\n",
        "decoder_state_input_h = Input((hidden_dim,))\n",
        "decoder_state_input_c = Input((hidden_dim,))\n",
        "final_st = [decoder_state_input_h, decoder_state_input_c]\n",
        "decoder_input = Input((dec_seq_len,))\n",
        "\n",
        "# Decoder\n",
        "dec_emb = Embedding(num_words, emb_size, name='emb')(decoder_input)\n",
        "dec_lstm, *states_value = LSTM(hidden_dim, return_state=True, name='dec_lstm')(dec_emb, initial_state = final_st)\n",
        "\n",
        "# Attention\n",
        "dec_resh = Reshape((dec_seq_len, hidden_dim))(dec_lstm)\n",
        "dec_lstm_reshaped = Reshape((dec_seq_len, 1, hidden_dim))(dec_resh)\n",
        "conc = concatenate([encoder_reshaped, dec_lstm_reshaped], axis=-2)\n",
        "conc_reshaped = Reshape((dec_seq_len, hidden_dim*(enc_seq_len+1)))(conc)\n",
        "\n",
        "gates = Dense(enc_seq_len, activation='softmax', name= 'dense_att')(conc_reshaped)\n",
        "gates_reshaped = Reshape((dec_seq_len, enc_seq_len, 1))(gates)\n",
        "gates_repeated = Lambda(lambda l: K.repeat_elements(l, hidden_dim, -1))(gates_reshaped)\n",
        "\n",
        "dot_product = Lambda(lambda xy: K.sum(xy[0]*xy[1], axis=-2))([encoder_reshaped, gates_repeated])\n",
        "\n",
        "attentive_state = concatenate([dec_resh, dot_product])\n",
        "\n",
        "# Exit\n",
        "word_probabilities = Dense(num_words, activation='softmax', name= 'dense')(attentive_state)\n",
        "\n",
        "# Create models\n",
        "decoder_model = Model([encoder_reshaped, decoder_input]+final_st, [word_probabilities] + states_value)\n",
        "encoder_model = Model(encoder_input, [final_states, ys_reshaped])\n",
        "\n",
        "# Transferring weights\n",
        "for name in ['emb', 'dec_lstm', 'dense', 'dense_att']:\n",
        "  decoder_model.get_layer(name=name).set_weights(model.get_layer(name=name).get_weights())\n",
        "\n",
        "# If the weights were loaded, then the weights of the encoder must also be transferred \n",
        "for name in ['enc_emb', 'enc_lstm']:\n",
        "  encoder_model.get_layer(name=name).set_weights(model.get_layer(name=name).get_weights())\n"
      ],
      "execution_count": 58,
      "outputs": []
    },
    {
      "cell_type": "code",
      "metadata": {
        "colab_type": "code",
        "id": "G5NOfYBC-TUq",
        "colab": {
          "base_uri": "https://localhost:8080/",
          "height": 34
        },
        "outputId": "ad7ee0b1-b524-42b9-be1a-06abb55417f9"
      },
      "source": [
        "print('Correctly predicted tokens: ', round(metric(100)*100, 2), '%', sep='')"
      ],
      "execution_count": 59,
      "outputs": [
        {
          "output_type": "stream",
          "text": [
            "Correctly predicted tokens: 52.85%\n"
          ],
          "name": "stdout"
        }
      ]
    },
    {
      "cell_type": "markdown",
      "metadata": {
        "colab_type": "text",
        "id": "mCbTmTmC-TUv"
      },
      "source": [
        "Correctly predicted tokens: \n",
        "\n",
        "* Primary training. 5 epochs\n",
        "* Additional training. +5 epochs — 52.85%"
      ]
    },
    {
      "cell_type": "code",
      "metadata": {
        "colab_type": "code",
        "id": "rpp3pZkA-TUv",
        "colab": {
          "base_uri": "https://localhost:8080/",
          "height": 34
        },
        "outputId": "490de860-65eb-4c6d-abc8-3cb6641d37f3"
      },
      "source": [
        "decode_sequence('какой вкусный пирог')\n"
      ],
      "execution_count": 60,
      "outputs": [
        {
          "output_type": "stream",
          "text": [
            "Answer: the eu is a member of the european parliam\n"
          ],
          "name": "stdout"
        }
      ]
    },
    {
      "cell_type": "code",
      "metadata": {
        "colab_type": "code",
        "id": "Sb3aVNhd-TU1",
        "colab": {
          "base_uri": "https://localhost:8080/",
          "height": 34
        },
        "outputId": "cc4abe50-5139-4e3b-e98f-f3097ebf4e02"
      },
      "source": [
        "decode_sequence('Ежегодный Всемирный экономический форум по праву воспринимают как глобальный « барометр » .')"
      ],
      "execution_count": 61,
      "outputs": [
        {
          "output_type": "stream",
          "text": [
            "Answer: the global economic forum is growing at the global economic forum , as “ global economic opinion ” is just as a glo\n"
          ],
          "name": "stdout"
        }
      ]
    },
    {
      "cell_type": "code",
      "metadata": {
        "colab_type": "code",
        "id": "2SS0o1xI-TU5",
        "colab": {
          "base_uri": "https://localhost:8080/",
          "height": 709
        },
        "outputId": "82d59f59-d541-4867-801b-3625a6180dee"
      },
      "source": [
        "for n in range(1, 50, 5):\n",
        "  print('------', enc_in[n][:-5])\n",
        "  decode_sequence(enc_in[n])\n",
        "  print('------', decoder_out[n][:-5])\n",
        "  print('-'*40)"
      ],
      "execution_count": 62,
      "outputs": [
        {
          "output_type": "stream",
          "text": [
            "------ Искусно , хотя и бессовестно , он попытался оправдать данное действие стремлением установить стабильность и начать более эффективную борьбу с терроризмом . \n",
            "Answer: the internet has been even though the war has been a direct consequence of the proposed war with terrorism and the wider \n",
            "------ Artfully , though shamelessly , he has tried to sell this action as an effort to bring about stability and help fight the war on terror more effectively . \n",
            "----------------------------------------\n",
            "------ Террористические атаки в Америке <number> сентября <number> года позволили Мушаррафу попасть в центр внимания на международной арене , поскольку он согласился уничтожить Талибан и поддержать войну с терроризмом , возглавляемую Соединёнными Штатами . \n",
            "Answer: the terrorist attacks on america ’ s terrorist attacks on september <number> , <number> , united states , on the international front , has agreed to support the united states , and the taliban , the united states has declared support for the united sta\n",
            "------ The September <number> , <number> , terrorist attacks on America brought Musharraf into the international limelight as he agreed to ditch the Taliban and support the United States - led war on terror . \n",
            "----------------------------------------\n",
            "------ Хотя США рассматривали Мушаррафа как сторонника изменений , он так и не добился политической легитимности в стране , а его политика считалась изобилующей противоречиями . \n",
            "Answer: although musharraf has seen the us as he did he was willing to change his country ' s political legitimacy , he did not expect his legitimacy as presid\n",
            "------ Although the US viewed Musharraf as an agent of change , he has never achieved domestic political legitimacy , and his policies were seen as rife with contradictions . \n",
            "----------------------------------------\n",
            "------ К удивлению многих , правовое сообщество страны организовало всенародное движение с целью восстановить главного судью в его должности . \n",
            "Answer: the country ’ s many of the country ’ s many countries have a chance to come to terms with a nation ’ s g\n",
            "------ To the surprise of many , the country ’ s legal community organized a nation - wide movement to restore the Chief Justice to his post . \n",
            "----------------------------------------\n",
            "------ Мушарраф и его политические союзники попытались приспособиться к данной новой реальности , но их терпение иссякло , когда Верховный суд принял к рассмотрению петиции против решения Мушаррафа участвовать в президентских выборах . \n",
            "Answer: musharraf and his allies in the middle east have reality that the new reality of the new reality has been growing in november when the election has been tried to make the case for elect\n",
            "------ Musharraf and his political allies tried to adjust to this new reality , but their patience ran out when the Supreme Court took up petitions against Musharraf ’ s decision to run for president . \n",
            "----------------------------------------\n",
            "------ Решение судебного совета , состоящего из <number> членов , легко могло быть вынесено и не в его пользу . \n",
            "Answer: the decision by <number> , <number> members of the <number> treaty could easily be found to be <number> % and eas\n",
            "------ The decision of the <number> - member bench might easily have gone against him . \n",
            "----------------------------------------\n",
            "------ Действительно , в некоторых случаях активность судебной системы была очевидна ( хотя она находился в рамках конституционного права ) , да и средства информации делали ошибки ; но поверить в то , что подобные действия могут быть связаны с религиозным экстремизмом и поддержкой военного восстания невозможно . \n",
            "Answer: in some cases , some of the federal reserve governing system was under although the constitutional treaty was clearly , and can be expected to be a necessary component of the process of “ constitutional change , ” and that it can be the only necessary force in the p\n",
            "------ To be sure , in some cases , judicial activism was obvious ( though within the realm of constitutional law ) , and the media also made mistakes ; but by no stretch of the imagination can these be linked to religious extremism or support for militancy . \n",
            "----------------------------------------\n",
            "------ Оппозиционные политические партии сближаются , а экс - премьер - министр Беназир Бхутто , несмотря на успешность своих переговоров по разделению властных полномочий с Мушаррафом , резко осудила его действия . \n",
            "Answer: opposition parties , political opposition , prime minister , prime minister , prime minister , has failed to be his actions , his actions , his actions , and his acti\n",
            "------ Opposition political parties are drawing closer together , and former Prime Minister Benazir Bhutto , despite progress in her power - sharing negotiations with Musharraf , has strongly condemned his actions . \n",
            "----------------------------------------\n",
            "------ Кеннеди при Гарвардском университете и автор книги « Дрейф Пакистана в сторону экстремизма : аллах , армия и война Америки с террором » . \n",
            "Answer: kennedy school save , and hard times the risk of war on terror , and war against terror is war against the \n",
            "------ He is now a research Fellow at Harvard University ’ s Kennedy School of Government and is the author of Pakistan ’ s Drift into Extremism : Allah , the Army and America ’ s War on Terror . \n",
            "----------------------------------------\n",
            "------ Являясь преемником Зульфикара Али Бхутто , легендарного демократического лидера , который был повешен правительством генерала Мухаммеда Зия - уль - Хака в <number> году , Беназир появилась как символ сопротивления в молодом возрасте – но томилась в тюрьмах и изгнании в <number> - х годах . \n",
            "Answer: as a leader of the bhutto leader , who was a leader who was the most general , the general staff in the <number> ’ s , but in the <number> ’ s , was the most difficult but in the atmosphere of the <number> \n",
            "------ As heir to Zulfikar Ali Bhutto , the legendary democratic leader who was hanged by General Muhammad Zia - ul - Haq ’ s government in <number> , Benazir emerged as a symbol of resistance at a young age – but languished in jails and exile in the <number> ’ s . \n",
            "----------------------------------------\n"
          ],
          "name": "stdout"
        }
      ]
    },
    {
      "cell_type": "code",
      "metadata": {
        "colab_type": "code",
        "id": "AI6EaAPRhfDy",
        "colab": {
          "base_uri": "https://localhost:8080/",
          "height": 709
        },
        "outputId": "f0d3edba-c59b-4535-d9b7-57c21c4ee1a7"
      },
      "source": [
        "for n in range(100, 150, 5):\n",
        "  print('------', enc_in[n][:-5])\n",
        "  decode_sequence(enc_in[n])\n",
        "  print('------', decoder_out[n][:-5])\n",
        "  print('-'*40)"
      ],
      "execution_count": 63,
      "outputs": [
        {
          "output_type": "stream",
          "text": [
            "------ Он живет в Дамаске , где является одним из руководителей небольшого издания Этана Пресс . \n",
            "Answer: he is where he is where he is where he is going to\n",
            "------ Ammar Abdulhamid is a Syrian novelist and social analyst living in Damascus , where he co - runs a small publishing house , Etana Press . \n",
            "----------------------------------------\n",
            "------ Реальность , тщательно запрятанная под внешней однородностью , всегда была слишком сложной даже для самых проницательных исследователей . \n",
            "Answer: the reality , of course , is a , a , a , a , even too , even if the current account probably of a \" eve\n",
            "------ The realities , meticulously hidden under a veneer of homogeneity , have always been too complex for even the most discerning of scholars . \n",
            "----------------------------------------\n",
            "------ В результате до правящих кругов , ранее лишённых чувства реальности , наконец начала доходить необходимость радикальных изменений в структуре и стиле режима . \n",
            "Answer: as a result , the end of the day , with the reality of finally finally need to resolve the regime and finally change in the regime cha\n",
            "------ Consequently , the need for drastic change in the structure and style of a previously reality - impaired regime has finally begun to sink in . \n",
            "----------------------------------------\n",
            "------ Таким образом , у окружающего мира создастся впечатление , что происходят серьёзные изменения и что режиму нужно дать время на их проведение . \n",
            "Answer: thus , the world ’ s leadership is that time and serious changes that change them should be the time to cha\n",
            "------ This will give the outside world the impression that serious change is taking place and that the regime should be given the time to see it through . \n",
            "----------------------------------------\n",
            "------ Ресурс All <number> Syria стал своего рода косвенным средством диалога между правительством и оппозицией - диалога , который иначе мог бы и не состояться . \n",
            "Answer: the internet went on the ground between paris , a major public dialogue between the us and the arab government , without which there could be no direct and could have been able to\n",
            "------ Although All <number> Syria ' s Internet site was recently blocked for unspecified reasons , the newsletter continues to be circulated and Mr . \n",
            "----------------------------------------\n",
            "------ Это , в сочетании с известностью членов консультативного совета ( в который входят хорошо известный египетский социолог Саад Эддин Ибрагим , французский эксперт по политическому исламу Жиль Кепель и член совета института Брукингса Флинт Леверетт ) и чувствительностью к вопросу прав меньшинств в целом , сделало проект заметным на национальном , региональном и международном уровне . \n",
            "Answer: minded economies have combined with the \" national consensus \" ( which is the best of the white house , and the french are at the heart of the national institute of thousands of the european counci\n",
            "------ This , together with the prominence of the advisory board ( which includes well - known Egyptian sociologist Saad Eddin Ibrahim , French expert on political Islam Gilles Kepel , and Flynt Leverett , a Brookings Institution Fellow ) and the sensitivity of minority rights in general , combined to give the Project national , regional , and international notice . \n",
            "----------------------------------------\n",
            "------ Тем не менее , четырнадцати активистам - сторонникам гражданского общества , пытавшимся организовать специальную встречу для обсуждения реалий курдского вопроса в Сирии , недавно были вынесены различные приговоры по обвинению в действиях , направленных на подрыв национального единства . \n",
            "Answer: yet the party ’ s official position is to be seen as a civil society whose kurdish issue was recently raised by the kurdish national unity government , which recently signed the national unity government , recently signed a national unity governm\n",
            "------ Nevertheless , fourteen civil society activists who attempted to organize a special meeting to address the realities of the Kurdish issue in Syria recently received various sentences on charges of working to undermine national unity . \n",
            "----------------------------------------\n",
            "------ Всё на свете кажется возможным . \n",
            "Answer: all seems to be all \n",
            "------ Everything and anything seems possible . \n",
            "----------------------------------------\n",
            "------ Несмотря на частые заверения в обратном , фундаментальная проблема на Ближнем Востоке состоит не во вмешательстве Запада . \n",
            "Answer: despite the fundamental problem of the fundamental issue in the middle east , the west is not in the w\n",
            "------ Despite frequent claims to the contrary , the fundamental problem in the Middle East is not intervention by the West . \n",
            "----------------------------------------\n",
            "------ Это дало Ирану превосходный шанс выдвинуться на роль регионального гегемона , и не похоже , чтоб лидеры Ирана позволили этому шансу ускользнуть . \n",
            "Answer: this iran would be a diplomatic solution , a regional initiative that is regional leaders and the leaders of this initiat\n",
            "------ This presented Iran with a golden opportunity to project itself as a regional hegemon , and Iran ’ s leaders are unlikely to let this opportunity slip away . \n",
            "----------------------------------------\n"
          ],
          "name": "stdout"
        }
      ]
    },
    {
      "cell_type": "markdown",
      "metadata": {
        "colab_type": "text",
        "id": "EmByxmHp-TU9"
      },
      "source": [
        "## Attention matrix"
      ]
    },
    {
      "cell_type": "code",
      "metadata": {
        "colab_type": "code",
        "id": "mhfB7OZy-TU-",
        "colab": {}
      },
      "source": [
        "# Inference with the attention matrix\n",
        "\n",
        "enc_seq_len = max_q_len\n",
        "dec_seq_len = 1 \n",
        "\n",
        "# Input\n",
        "encoder_reshaped = Input((dec_seq_len, enc_seq_len,hidden_dim,))\n",
        "decoder_state_input_h = Input((hidden_dim,))\n",
        "decoder_state_input_c = Input((hidden_dim,))\n",
        "final_st = [decoder_state_input_h, decoder_state_input_c]\n",
        "decoder_input = Input((dec_seq_len,))\n",
        "\n",
        "# Decoder\n",
        "dec_emb = Embedding(num_words, emb_size, name='emb')(decoder_input)\n",
        "dec_lstm, *states_value = LSTM(hidden_dim, return_state=True, name='dec_lstm')(dec_emb, initial_state = final_st)\n",
        "\n",
        "# Attention\n",
        "dec_resh = Reshape((dec_seq_len, hidden_dim))(dec_lstm)\n",
        "dec_lstm_reshaped = Reshape((dec_seq_len, 1, hidden_dim))(dec_resh)\n",
        "conc = concatenate([encoder_reshaped, dec_lstm_reshaped], axis=-2)\n",
        "conc_reshaped = Reshape((dec_seq_len, hidden_dim*(enc_seq_len+1)))(conc)\n",
        "\n",
        "# Output with Dense is needed for the attention matrix\n",
        "gates = Dense(enc_seq_len, activation='softmax', kernel_regularizer=l2(0.001), bias_regularizer=l2(0.001), name= 'dense_att')(conc_reshaped)\n",
        "\n",
        "gates_reshaped = Reshape((dec_seq_len, enc_seq_len, 1))(gates)\n",
        "gates_repeated = Lambda(lambda l: K.repeat_elements(l, hidden_dim, -1))(gates_reshaped)\n",
        "\n",
        "dot_product = Lambda(lambda xy: K.sum(xy[0]*xy[1], axis=-2))([encoder_reshaped, gates_repeated])\n",
        "\n",
        "attentive_state = concatenate([dec_resh, dot_product])\n",
        "\n",
        "# Output for inference\n",
        "word_probabilities = Dense(num_words, activation='softmax', name= 'dense')(attentive_state)\n",
        "\n",
        "# Creating models\n",
        "decoder_model_ = Model([encoder_reshaped, decoder_input]+final_st, [word_probabilities, gates] + states_value)\n",
        "encoder_model_ = Model(encoder_input, [final_states, ys_reshaped])\n",
        "\n",
        "for name in ['emb', 'dec_lstm', 'dense', 'dense_att']:\n",
        "  decoder_model_.get_layer(name=name).set_weights(model.get_layer(name=name).get_weights())\n",
        "for name in ['enc_emb', 'enc_lstm']:\n",
        "  encoder_model_.get_layer(name=name).set_weights(model.get_layer(name=name).get_weights())"
      ],
      "execution_count": 64,
      "outputs": []
    },
    {
      "cell_type": "code",
      "metadata": {
        "colab_type": "code",
        "id": "NrL3PQwo-TVB",
        "colab": {
          "base_uri": "https://localhost:8080/",
          "height": 562
        },
        "outputId": "d5244684-3501-4642-de67-87c5c866fe2c"
      },
      "source": [
        "request_str = 'Дебаты были жаркими.'\n",
        "plot_heatmaps(request_str)"
      ],
      "execution_count": 65,
      "outputs": [
        {
          "output_type": "stream",
          "text": [
            "Request:  Дебаты были жаркими.\n",
            "Answer:   debates were usually were .\n"
          ],
          "name": "stdout"
        },
        {
          "output_type": "display_data",
          "data": {
            "image/png": "[encoded data removed]",
            "text/plain": [
              "<Figure size 720x720 with 1 Axes>"
            ]
          },
          "metadata": {
            "tags": [],
            "needs_background": "light"
          }
        }
      ]
    },
    {
      "cell_type": "code",
      "metadata": {
        "colab_type": "code",
        "id": "d4eSXSd5QeHz",
        "colab": {
          "base_uri": "https://localhost:8080/",
          "height": 558
        },
        "outputId": "810c9e78-3fec-43e2-e4e1-6bc7bee66241"
      },
      "source": [
        "request_str = 'Образование в этом мире меня разочаровывает'\n",
        "plot_heatmaps(request_str)"
      ],
      "execution_count": 66,
      "outputs": [
        {
          "output_type": "stream",
          "text": [
            "Request:  Образование в этом мире меня разочаровывает\n",
            "Answer:   education is the world ' s leading i .\n"
          ],
          "name": "stdout"
        },
        {
          "output_type": "display_data",
          "data": {
            "image/png": "[encoded data removed]",
            "text/plain": [
              "<Figure size 720x720 with 1 Axes>"
            ]
          },
          "metadata": {
            "tags": [],
            "needs_background": "light"
          }
        }
      ]
    },
    {
      "cell_type": "code",
      "metadata": {
        "colab_type": "code",
        "id": "wWlMqqLqQek7",
        "colab": {
          "base_uri": "https://localhost:8080/",
          "height": 476
        },
        "outputId": "e50fdc5b-0217-4bbd-b4cc-960b3747ca3e"
      },
      "source": [
        "request_str = 'Привет, как дела?'\n",
        "plot_heatmaps(request_str)"
      ],
      "execution_count": 67,
      "outputs": [
        {
          "output_type": "stream",
          "text": [
            "Request:  Привет, как дела?\n",
            "Answer:   as a result , as the\n"
          ],
          "name": "stdout"
        },
        {
          "output_type": "display_data",
          "data": {
            "image/png": "[encoded data removed]",
            "text/plain": [
              "<Figure size 720x720 with 1 Axes>"
            ]
          },
          "metadata": {
            "tags": [],
            "needs_background": "light"
          }
        }
      ]
    },
    {
      "cell_type": "code",
      "metadata": {
        "colab_type": "code",
        "id": "v0GK3A1kQe-o",
        "colab": {
          "base_uri": "https://localhost:8080/",
          "height": 452
        },
        "outputId": "f7890252-f922-44c1-86a3-251b21bd722f"
      },
      "source": [
        "request_str = 'Один раз в жизни я делаю хорошее дело... И оно бесполезно.'\n",
        "plot_heatmaps(request_str)"
      ],
      "execution_count": 68,
      "outputs": [
        {
          "output_type": "stream",
          "text": [
            "Request:  Один раз в жизни я делаю хорошее дело... И оно бесполезно.\n",
            "Answer:   one of the life - saving of life and i am living in the treasury i . e . ,\n"
          ],
          "name": "stdout"
        },
        {
          "output_type": "display_data",
          "data": {
            "image/png": "[encoded data removed]",
            "text/plain": [
              "<Figure size 720x720 with 1 Axes>"
            ]
          },
          "metadata": {
            "tags": [],
            "needs_background": "light"
          }
        }
      ]
    },
    {
      "cell_type": "markdown",
      "metadata": {
        "id": "MyYYjc7ORZsy",
        "colab_type": "text"
      },
      "source": [
        "## Conclusions\n",
        "1. Результат не подтверил ожидания. Переводы мало похожи на таковые.\n",
        "2. В большинстве случаев начало предложений похоже на перевод, но к концу предложения возникает мусор, иногда из последовательного перебора ограниченной  последовательности слов. Вероятно, необходимо осуществлять обучение нейронной сети итерационно на разных длинах предложений. \n",
        "3. В исходном тексте существует большое количество именных сокращений. Их частотность достаточно велика, однако их место применения ограничено, что не поняла нейронка. Эти сокращения появляются в переводе где ни попадя.\n",
        "4. Вопросительные знаки препинания не переносятся в перевод. Иногда предложения с переводом заканчиваются запятой, когда в исходном текте стоит точка. По всей видимости, требуется специальное обучение правилам расстановки знаков препинания.\n",
        "5. Иногда в переводе обрезается последнее слово. Причём обрезанные слова отсутствуют в словаре. Значит в алгоритме предсказания перевода присутствует ошибка. \n",
        "\n",
        "Общее резюме.\n",
        "* Переводческая база оказалась слишком сложной для обучения. 130 тыс уникальных лексем на 160 тыс. фраз (рус+англ) — вероятно, слишком маленький объём для обучения. \n",
        "* Для такого ограниченного объёма базы для обучения очевидна необходимость применения техники нормализации слов с целью создания подстрочника к тексту. Соответственно алгоритм перевода должен быть дополнен алгоритмом обратной лемматизации на этапе отображения перевода текста.\n",
        "* Возможно, что обучение необходимо проводить на принципах дообучения от простых фраз к сложносочинённым. Тогда возникает необходимость переподготовки переводческой базы. \n",
        "* Для создания качественного переводчика очевидна необходимость в реализации поэтапного разбора текста от графематической структуры до его семантической структуры на одном языке с последующей обратной реконструкцией от семантики к графематике на другом языке.\n",
        "\n"
      ]
    }
  ]
}